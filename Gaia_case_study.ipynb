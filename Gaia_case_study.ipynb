{
 "cells": [
  {
   "cell_type": "markdown",
   "id": "361d320a-9aff-4fcb-814f-d08d24233763",
   "metadata": {},
   "source": [
    "# Gaia case study"
   ]
  },
  {
   "cell_type": "markdown",
   "id": "411861e6-4968-4275-813a-0ba20fb2ffe4",
   "metadata": {},
   "source": [
    "# A) Data Modelling Approach"
   ]
  },
  {
   "cell_type": "markdown",
   "id": "33b20755-6738-476d-9d34-46139949720d",
   "metadata": {},
   "source": [
    "## Overview of the Data Modelling Approach:"
   ]
  },
  {
   "cell_type": "markdown",
   "id": "add61444-b22c-404e-bddb-858e519da54b",
   "metadata": {},
   "source": [
    "To support the diverse needs of Gaia's teams, we will design a **dimensional data model** optimized for analytics and reporting. This will include:\n",
    "\n",
    "1. **Star Schema Design**: Separate data into:\n",
    "   - **Fact tables**: Quantitative data for analysis (e.g., costs, rounds, treatment outcomes).\n",
    "   - **Dimension tables**: Contextual information to slice and dice fact data (e.g., member details, clinic data).\n",
    "\n",
    "2. **Granularity**: Ensure the fact tables are at the right level of detail to answer the questions posed by Nikki, Victor, and Adrien. For instance:\n",
    "   - Clinic invoices: Detail each invoice item (e.g., medication, procedure, etc.).\n",
    "   - Treatment journey: Include each treatment event and round outcome.\n",
    "\n",
    "3. **Key Features**:\n",
    "   - Maintain referential integrity between dimensions and facts using surrogate keys.\n",
    "   - Include timestamps for event tracking to support time-series analysis.\n",
    "   - Use status and flag indicators for Adrien’s operational monitoring needs.\n",
    "\n",
    "4. **Slowly Changing Dimensions (SCDs)**:\n",
    "   - Use SCD Type 2 for dimensions like `Dim_Members` and `Dim_Clinics` to track historical changes in attributes such as membership type, clinic costs, and specialties.\n",
    "   - Include effective date ranges (`Effective_Start_Date`, `Effective_End_Date`) and a `Current_Flag` column to manage historical and current records.\n",
    "\n",
    "5. **Data Quality and Validation**:\n",
    "   - Implement a staging layer to clean and validate raw data before transformation.\n",
    "   - Apply validation rules to catch anomalies such as missing values, duplicates, and outliers.\n",
    "   - Use tools like dbt for automated data quality checks.\n",
    "\n",
    "6. **Time-Series Analysis**:\n",
    "   - Include a dedicated `Dim_Date` table to standardize date attributes for analysis.\n",
    "   - Design fact tables to support time-based trends, such as IVF cycle durations and cost analysis.\n",
    "\n",
    "7. **Hierarchical Relationships**:\n",
    "   - Build hierarchical dimensions like `Dim_Location` (Country → Region → City) and `Dim_Clinic_Group` (Parent Organization → Clinic) to enable multi-level analysis. This might be useful for geography specific regulations or other constraints useful to take into account.\n",
    "\n",
    "8. **Handling Many-to-Many Relationships**:\n",
    "   - Use bridge tables (e.g., `Bridge_Member_Clinics`) to manage relationships where members interact with multiple clinics.\n",
    "\n",
    "9. **Metadata and Auditability**:\n",
    "   - Add metadata tables like `Meta_Process_Log` (ETL job tracking) and `Meta_Table_Schema` (describing table structures) for transparency and auditability.\n",
    "\n",
    "10. **Aggregates and Pre-Computation**:\n",
    "    - Create pre-aggregated tables or materialized views for high-level metrics like monthly costs or success rates.\n",
    "\n",
    "11. **Scalability and Future Growth**:\n",
    "    - Design a modular schema with surrogate keys to easily incorporate new dimensions and facts.\n",
    "    - Optimize for columnar storage in cloud warehouses (e.g., Snowflake, BigQuery).\n",
    "\n",
    "---\n",
    "\n",
    "## Steps to Build the Model\n",
    "\n",
    "### 1. Requirements Gathering\n",
    "   - Conduct detailed interviews with Nikki, Victor, and Adrien to validate the KPIs, metrics, and fields they require.\n",
    "   - Identify critical joins, filters, and aggregations.\n",
    "\n",
    "### 2. Source Analysis\n",
    "   - Map raw data fields from the data warehouse to the target model.\n",
    "   - Clean and normalize data where necessary (e.g., standardize clinic names, member IDs).\n",
    "\n",
    "### 3. Design the Data Model\n",
    "   - Create ER diagrams for clarity.\n",
    "   - Use a **modular approach** to allow extensions as needs grow.\n",
    "\n",
    "### 4. Build and Validate\n",
    "   - Use ETL/ELT tools like dbt or SQL to transform raw data into the target model.\n",
    "   - Validate the model with test queries and dashboards for each team's use case.\n",
    "\n",
    "---\n",
    "\n",
    "## Example High-Level Model\n",
    "\n",
    "### Fact Tables\n",
    "\n",
    "#### 1. `Fact_Treatment_Costs`\n",
    "- Tracks all costs (clinic invoices, medications, fixed liabilities).\n",
    "- **Granularity**: One row per invoice item.\n",
    "\n",
    "**Columns**:\n",
    "- `Member_ID` (FK)\n",
    "- `Clinic_ID` (FK)\n",
    "- `Invoice_ID`\n",
    "- `Item_Type` (e.g., medication, procedure)\n",
    "- `Cost`\n",
    "- `Date`\n",
    "\n",
    "#### 2. `Fact_Treatment_Journey`\n",
    "- Tracks IVF rounds and cycles, including outcomes.\n",
    "- **Granularity**: One row per treatment event or cycle.\n",
    "\n",
    "**Columns**:\n",
    "- `Member_ID` (FK)\n",
    "- `Round_ID`\n",
    "- `Cycle_ID`\n",
    "- `Embryos_Created`\n",
    "- `Outcome_Status` (e.g., live birth, frozen embryos)\n",
    "- `Event_Type` (e.g., stimulation, retrieval, transfer)\n",
    "- `Event_Date`\n",
    "\n",
    "#### 3. `Fact_Membership_Status`\n",
    "- Tracks policy utilization and status.\n",
    "- **Granularity**: One row per membership per day (or policy change).\n",
    "\n",
    "**Columns**:\n",
    "- `Member_ID` (FK)\n",
    "- `Policy_Start_Date`\n",
    "- `Policy_End_Date`\n",
    "- `Cycles_Remaining`\n",
    "- `Active_Flag`\n",
    "- `Last_Updated`\n",
    "\n",
    "---\n",
    "\n",
    "### Dimension Tables\n",
    "\n",
    "#### 1. `Dim_Members` (SCD Type 2)\n",
    "- Tracks member attributes with historical changes.\n",
    "\n",
    "**Columns**:\n",
    "- `Member_ID` (PK)\n",
    "- `Name`\n",
    "- `DOB`\n",
    "- `Location`\n",
    "- `Membership_Type`\n",
    "- `Effective_Start_Date`\n",
    "- `Effective_End_Date`\n",
    "- `Is_Current_Flag`\n",
    "\n",
    "#### 2. `Dim_Clinics` (SCD Type 2)\n",
    "- Tracks clinic attributes with historical changes.\n",
    "\n",
    "**Columns**:\n",
    "- `Clinic_ID` (PK)\n",
    "- `Clinic_Name`\n",
    "- `Location`\n",
    "- `Average_Cost_Per_Cycle`\n",
    "- `Specialty`\n",
    "- `Effective_Start_Date`\n",
    "- `Effective_End_Date`\n",
    "- `Is_Current_Flag`\n",
    "\n",
    "#### 3. `Dim_Treatment_Rounds`\n",
    "- Contextual data about each IVF round.\n",
    "\n",
    "**Columns**:\n",
    "- `Round_ID` (PK)\n",
    "- `Member_ID` (FK)\n",
    "- `Cycle_ID` (FK)\n",
    "- `Start_Date`\n",
    "- `End_Date`\n",
    "- `Outcome`\n",
    "\n",
    "#### 4. `Dim_Date`\n",
    "- Provides standardized time attributes for analysis.\n",
    "\n",
    "**Columns**:\n",
    "- `Date_ID` (PK)\n",
    "- `Date`\n",
    "- `Year`\n",
    "- `Month`\n",
    "- `Week`\n",
    "- `Day`\n",
    "- `Fiscal_Year`\n",
    "- `Holiday_Flag`\n",
    "\n",
    "---\n",
    "\n",
    "## Sample Queries for Each Team\n",
    "\n",
    "### **Nikki (Finance Team)**  \n",
    "### Query: What are the unit economics of our product by clinic?\n",
    "\n",
    "```sql\n",
    "SELECT \n",
    "    c.Clinic_Name,\n",
    "    SUM(tc.Cost) AS Total_Cost,\n",
    "    SUM(CASE WHEN tc.Item_Type = 'Medication' THEN tc.Cost ELSE 0 END) AS Medication_Cost,\n",
    "    SUM(CASE WHEN tc.Item_Type = 'Procedure' THEN tc.Cost ELSE 0 END) AS Procedure_Cost,\n",
    "    COUNT(DISTINCT tc.Invoice_ID) AS Invoice_Count\n",
    "FROM \n",
    "    Fact_Treatment_Costs tc\n",
    "JOIN \n",
    "    Dim_Clinics c ON tc.Clinic_ID = c.Clinic_ID\n",
    "GROUP BY \n",
    "    c.Clinic_Name;\n"
   ]
  },
  {
   "cell_type": "markdown",
   "id": "76bbf414-2b75-48e1-b6c3-0dcab1fe62c5",
   "metadata": {
    "tags": []
   },
   "source": []
  },
  {
   "cell_type": "markdown",
   "id": "9f26d7b3-47e6-40a4-8916-a0be11ced895",
   "metadata": {},
   "source": [
    "### **Adrien (Ops Team)**  \n",
    "### Query: Which members are nearing the end of their coverage or have stalled in their treatment?\n",
    "\n",
    "```sql\n",
    "SELECT \n",
    "    m.Member_ID,\n",
    "    m.Name,\n",
    "    ms.Cycles_Remaining,\n",
    "    ms.Policy_End_Date,\n",
    "    MAX(tj.Event_Date) AS Last_Treatment_Date\n",
    "FROM \n",
    "    Dim_Members m\n",
    "JOIN \n",
    "    Fact_Membership_Status ms ON m.Member_ID = ms.Member_ID\n",
    "LEFT JOIN \n",
    "    Fact_Treatment_Journey tj ON m.Member_ID = tj.Member_ID\n",
    "WHERE \n",
    "    ms.Cycles_Remaining <= 1 \n",
    "    DATEDIFF(NOW(), MAX(tj.Event_Date)) > 30\n",
    "GROUP BY \n",
    "    m.Member_ID, m.Name, ms.Cycles_Remaining, ms.Policy_End_Date;\n",
    "\n"
   ]
  },
  {
   "cell_type": "markdown",
   "id": "d739b5f5-423d-4859-b9e5-9ade83d86ccd",
   "metadata": {},
   "source": [
    "### **Viktor (Insurance Team)**  \n",
    "### Query: What is the average number of rounds per cycle, and their outcomes?\n",
    "\n",
    "```sql\n",
    "SELECT \n",
    "    m.Membership_Type,\n",
    "    AVG(r.Round_Count) AS Avg_Rounds_Per_Cycle,\n",
    "    COUNT(CASE WHEN tj.Outcome_Status = 'Live Birth' THEN 1 END) AS Successful_Rounds,\n",
    "    COUNT(CASE WHEN tj.Outcome_Status = 'Frozen Embryos' THEN 1 END) AS Frozen_Embryo_Rounds\n",
    "FROM \n",
    "    Dim_Members m\n",
    "JOIN \n",
    "    Fact_Treatment_Journey tj ON m.Member_ID = tj.Member_ID\n",
    "GROUP BY \n",
    "    m.Membership_Type;\n",
    "    \n"
   ]
  },
  {
   "cell_type": "markdown",
   "id": "6c702783-700a-43ee-9449-fa5631fed1a4",
   "metadata": {},
   "source": [
    "---\n",
    "\n",
    "## Tools & infrastructure\n",
    "\n",
    "- **ETL/ELT**: dbt for transformations.\n",
    "- **Data Warehouse**: Snowflake.\n",
    "- **Visualization**: Omni, Tableau etc..\n",
    "- **Scheduling**: Apache Airflow for automated pipeline updates.\n"
   ]
  },
  {
   "cell_type": "markdown",
   "id": "5a8ab9dd-2836-49f9-9cd2-bd82430c6aa0",
   "metadata": {},
   "source": [
    "# B) Data analysis"
   ]
  },
  {
   "cell_type": "markdown",
   "id": "3bf9430a-648c-4e6b-868f-ce53dc889b88",
   "metadata": {},
   "source": [
    "## 1) Reading data "
   ]
  },
  {
   "cell_type": "code",
   "execution_count": 5,
   "id": "60a3957c-69c0-4be6-ad38-625e36e6bcf6",
   "metadata": {},
   "outputs": [],
   "source": [
    "import pandas as pd\n",
    "\n",
    "# Define the file paths\n",
    "base_path = '/Users/mohamedmakni/Desktop/avocado/gaia'\n",
    "cycles_file = f\"{base_path}/All Cycles.csv\"\n",
    "rounds_file = f\"{base_path}/All Rounds.csv\"\n",
    "invoices_file = f\"{base_path}/All Invoices.csv\"\n",
    "\n",
    "# Load the datasets into DataFrames\n",
    "cycles_df = pd.read_csv(cycles_file)\n",
    "rounds_df = pd.read_csv(rounds_file)\n",
    "invoices_df = pd.read_csv(invoices_file)"
   ]
  },
  {
   "cell_type": "code",
   "execution_count": 7,
   "id": "e118fd63-f30f-41f1-b6f7-7123eff602fd",
   "metadata": {},
   "outputs": [
    {
     "name": "stdout",
     "output_type": "stream",
     "text": [
      "Dataset Sizes:\n",
      "Cycles DataFrame: 256 rows, 4 columns\n",
      "Rounds DataFrame: 236 rows, 5 columns\n",
      "Invoices DataFrame: 817 rows, 8 columns\n"
     ]
    }
   ],
   "source": [
    "# Print the sizes of the datasets\n",
    "print(\"Dataset Sizes:\")\n",
    "print(f\"Cycles DataFrame: {cycles_df.shape[0]} rows, {cycles_df.shape[1]} columns\")\n",
    "print(f\"Rounds DataFrame: {rounds_df.shape[0]} rows, {rounds_df.shape[1]} columns\")\n",
    "print(f\"Invoices DataFrame: {invoices_df.shape[0]} rows, {invoices_df.shape[1]} columns\")"
   ]
  },
  {
   "cell_type": "code",
   "execution_count": 6,
   "id": "8098a966-32a8-4b36-9e6f-68e198a5023b",
   "metadata": {},
   "outputs": [
    {
     "data": {
      "text/html": [
       "<style type=\"text/css\">\n",
       "</style>\n",
       "<table id=\"T_67232\" style='display:inline'>\n",
       "  <caption>Cycles DataFrame</caption>\n",
       "  <thead>\n",
       "    <tr>\n",
       "      <th class=\"blank level0\" >&nbsp;</th>\n",
       "      <th id=\"T_67232_level0_col0\" class=\"col_heading level0 col0\" >Membership ID</th>\n",
       "      <th id=\"T_67232_level0_col1\" class=\"col_heading level0 col1\" >Cycle Number</th>\n",
       "      <th id=\"T_67232_level0_col2\" class=\"col_heading level0 col2\" >Cycle Liability Post Discount</th>\n",
       "      <th id=\"T_67232_level0_col3\" class=\"col_heading level0 col3\" >Clinics ID</th>\n",
       "    </tr>\n",
       "  </thead>\n",
       "  <tbody>\n",
       "    <tr>\n",
       "      <th id=\"T_67232_level0_row0\" class=\"row_heading level0 row0\" >0</th>\n",
       "      <td id=\"T_67232_row0_col0\" class=\"data row0 col0\" >cltqx2w4q00010ml1fhm9hy32</td>\n",
       "      <td id=\"T_67232_row0_col1\" class=\"data row0 col1\" >1</td>\n",
       "      <td id=\"T_67232_row0_col2\" class=\"data row0 col2\" >6283.400000</td>\n",
       "      <td id=\"T_67232_row0_col3\" class=\"data row0 col3\" >7ebcc0c8d77d42309ab6dae22beb6e9a</td>\n",
       "    </tr>\n",
       "    <tr>\n",
       "      <th id=\"T_67232_level0_row1\" class=\"row_heading level0 row1\" >1</th>\n",
       "      <td id=\"T_67232_row1_col0\" class=\"data row1 col0\" >clrhwsasp00080dl40mj81twz</td>\n",
       "      <td id=\"T_67232_row1_col1\" class=\"data row1 col1\" >1</td>\n",
       "      <td id=\"T_67232_row1_col2\" class=\"data row1 col2\" >7661.020000</td>\n",
       "      <td id=\"T_67232_row1_col3\" class=\"data row1 col3\" >ed236c69937b44678dcd6875393d8cc5</td>\n",
       "    </tr>\n",
       "    <tr>\n",
       "      <th id=\"T_67232_level0_row2\" class=\"row_heading level0 row2\" >2</th>\n",
       "      <td id=\"T_67232_row2_col0\" class=\"data row2 col0\" >clzsmivof00010dl06wjr49bu</td>\n",
       "      <td id=\"T_67232_row2_col1\" class=\"data row2 col1\" >1</td>\n",
       "      <td id=\"T_67232_row2_col2\" class=\"data row2 col2\" >6860.330000</td>\n",
       "      <td id=\"T_67232_row2_col3\" class=\"data row2 col3\" >ce6d99f5787a45e8994569266c41d016</td>\n",
       "    </tr>\n",
       "    <tr>\n",
       "      <th id=\"T_67232_level0_row3\" class=\"row_heading level0 row3\" >3</th>\n",
       "      <td id=\"T_67232_row3_col0\" class=\"data row3 col0\" >clvdlselv00010mjvcyi3d5xm</td>\n",
       "      <td id=\"T_67232_row3_col1\" class=\"data row3 col1\" >1</td>\n",
       "      <td id=\"T_67232_row3_col2\" class=\"data row3 col2\" >7704.800000</td>\n",
       "      <td id=\"T_67232_row3_col3\" class=\"data row3 col3\" >95a60992ddb147f488a369041a79ff4e</td>\n",
       "    </tr>\n",
       "    <tr>\n",
       "      <th id=\"T_67232_level0_row4\" class=\"row_heading level0 row4\" >4</th>\n",
       "      <td id=\"T_67232_row4_col0\" class=\"data row4 col0\" >clxvknofo00010djrcs1r5h61</td>\n",
       "      <td id=\"T_67232_row4_col1\" class=\"data row4 col1\" >1</td>\n",
       "      <td id=\"T_67232_row4_col2\" class=\"data row4 col2\" >10238.750000</td>\n",
       "      <td id=\"T_67232_row4_col3\" class=\"data row4 col3\" >786bc177d2654e168220430f0291bfb2</td>\n",
       "    </tr>\n",
       "  </tbody>\n",
       "</table>\n"
      ],
      "text/plain": [
       "<pandas.io.formats.style.Styler at 0x7fe782f2aa90>"
      ]
     },
     "metadata": {},
     "output_type": "display_data"
    },
    {
     "data": {
      "text/html": [
       "<style type=\"text/css\">\n",
       "</style>\n",
       "<table id=\"T_3e23c\" style='display:inline'>\n",
       "  <caption>Rounds DataFrame</caption>\n",
       "  <thead>\n",
       "    <tr>\n",
       "      <th class=\"blank level0\" >&nbsp;</th>\n",
       "      <th id=\"T_3e23c_level0_col0\" class=\"col_heading level0 col0\" >Membership ID</th>\n",
       "      <th id=\"T_3e23c_level0_col1\" class=\"col_heading level0 col1\" >Cycle Number</th>\n",
       "      <th id=\"T_3e23c_level0_col2\" class=\"col_heading level0 col2\" >Round Number (Excluding Cancelled Rounds And Counts Towards Insurance = True)</th>\n",
       "      <th id=\"T_3e23c_level0_col3\" class=\"col_heading level0 col3\" >Round Type</th>\n",
       "      <th id=\"T_3e23c_level0_col4\" class=\"col_heading level0 col4\" >Round Current Status</th>\n",
       "    </tr>\n",
       "  </thead>\n",
       "  <tbody>\n",
       "    <tr>\n",
       "      <th id=\"T_3e23c_level0_row0\" class=\"row_heading level0 row0\" >0</th>\n",
       "      <td id=\"T_3e23c_row0_col0\" class=\"data row0 col0\" >clr88hn3100070cl62log9v64</td>\n",
       "      <td id=\"T_3e23c_row0_col1\" class=\"data row0 col1\" >1</td>\n",
       "      <td id=\"T_3e23c_row0_col2\" class=\"data row0 col2\" >1</td>\n",
       "      <td id=\"T_3e23c_row0_col3\" class=\"data row0 col3\" >FROZEN_TRANSFER</td>\n",
       "      <td id=\"T_3e23c_row0_col4\" class=\"data row0 col4\" >PENDING_TRANSFER</td>\n",
       "    </tr>\n",
       "    <tr>\n",
       "      <th id=\"T_3e23c_level0_row1\" class=\"row_heading level0 row1\" >1</th>\n",
       "      <td id=\"T_3e23c_row1_col0\" class=\"data row1 col0\" >clrhmcyo600010cjn1739f02m</td>\n",
       "      <td id=\"T_3e23c_row1_col1\" class=\"data row1 col1\" >2</td>\n",
       "      <td id=\"T_3e23c_row1_col2\" class=\"data row1 col2\" >2</td>\n",
       "      <td id=\"T_3e23c_row1_col3\" class=\"data row1 col3\" >ANY_IVF_WITH_FRESH_TRANSFER</td>\n",
       "      <td id=\"T_3e23c_row1_col4\" class=\"data row1 col4\" >TREATMENT_STARTED</td>\n",
       "    </tr>\n",
       "    <tr>\n",
       "      <th id=\"T_3e23c_level0_row2\" class=\"row_heading level0 row2\" >2</th>\n",
       "      <td id=\"T_3e23c_row2_col0\" class=\"data row2 col0\" >clrhmcyo600010cjn1739f02m</td>\n",
       "      <td id=\"T_3e23c_row2_col1\" class=\"data row2 col1\" >1</td>\n",
       "      <td id=\"T_3e23c_row2_col2\" class=\"data row2 col2\" >1</td>\n",
       "      <td id=\"T_3e23c_row2_col3\" class=\"data row2 col3\" >ANY_IVF_WITH_FRESH_TRANSFER</td>\n",
       "      <td id=\"T_3e23c_row2_col4\" class=\"data row2 col4\" >UNSUCCESSFUL</td>\n",
       "    </tr>\n",
       "    <tr>\n",
       "      <th id=\"T_3e23c_level0_row3\" class=\"row_heading level0 row3\" >3</th>\n",
       "      <td id=\"T_3e23c_row3_col0\" class=\"data row3 col0\" >clrhwsasp00080dl40mj81twz</td>\n",
       "      <td id=\"T_3e23c_row3_col1\" class=\"data row3 col1\" >1</td>\n",
       "      <td id=\"T_3e23c_row3_col2\" class=\"data row3 col2\" >1</td>\n",
       "      <td id=\"T_3e23c_row3_col3\" class=\"data row3 col3\" >ANY_IVF_WITH_FRESH_TRANSFER</td>\n",
       "      <td id=\"T_3e23c_row3_col4\" class=\"data row3 col4\" >UNSUCCESSFUL</td>\n",
       "    </tr>\n",
       "    <tr>\n",
       "      <th id=\"T_3e23c_level0_row4\" class=\"row_heading level0 row4\" >4</th>\n",
       "      <td id=\"T_3e23c_row4_col0\" class=\"data row4 col0\" >clrkf5m7r00010cla7eio6d0b</td>\n",
       "      <td id=\"T_3e23c_row4_col1\" class=\"data row4 col1\" >2</td>\n",
       "      <td id=\"T_3e23c_row4_col2\" class=\"data row4 col2\" >1</td>\n",
       "      <td id=\"T_3e23c_row4_col3\" class=\"data row4 col3\" >ANY_IVF_WITH_FRESH_TRANSFER</td>\n",
       "      <td id=\"T_3e23c_row4_col4\" class=\"data row4 col4\" >PREGNANCY</td>\n",
       "    </tr>\n",
       "  </tbody>\n",
       "</table>\n"
      ],
      "text/plain": [
       "<pandas.io.formats.style.Styler at 0x7fe782f2af40>"
      ]
     },
     "metadata": {},
     "output_type": "display_data"
    },
    {
     "data": {
      "text/html": [
       "<style type=\"text/css\">\n",
       "</style>\n",
       "<table id=\"T_d83cc\" style='display:inline'>\n",
       "  <caption>Invoices DataFrame</caption>\n",
       "  <thead>\n",
       "    <tr>\n",
       "      <th class=\"blank level0\" >&nbsp;</th>\n",
       "      <th id=\"T_d83cc_level0_col0\" class=\"col_heading level0 col0\" >INVOICE_ID</th>\n",
       "      <th id=\"T_d83cc_level0_col1\" class=\"col_heading level0 col1\" >MEMBERSHIP_ID</th>\n",
       "      <th id=\"T_d83cc_level0_col2\" class=\"col_heading level0 col2\" >ROUND_NUM</th>\n",
       "      <th id=\"T_d83cc_level0_col3\" class=\"col_heading level0 col3\" >SUPPLIER_TYPE</th>\n",
       "      <th id=\"T_d83cc_level0_col4\" class=\"col_heading level0 col4\" >GROSS_TOTAL_AMOUNT</th>\n",
       "      <th id=\"T_d83cc_level0_col5\" class=\"col_heading level0 col5\" >GROSS_TREATMENT_AMOUNT</th>\n",
       "      <th id=\"T_d83cc_level0_col6\" class=\"col_heading level0 col6\" >GROSS_MEDICATION_AMOUNT</th>\n",
       "      <th id=\"T_d83cc_level0_col7\" class=\"col_heading level0 col7\" >GROSS_OTHER_AMOUNT</th>\n",
       "    </tr>\n",
       "  </thead>\n",
       "  <tbody>\n",
       "    <tr>\n",
       "      <th id=\"T_d83cc_level0_row0\" class=\"row_heading level0 row0\" >0</th>\n",
       "      <td id=\"T_d83cc_row0_col0\" class=\"data row0 col0\" >1yZASciiIWWCsR7MDpxCoKRY1ldGcFSk_</td>\n",
       "      <td id=\"T_d83cc_row0_col1\" class=\"data row0 col1\" >cm06sxge500010dl4cwc66pqa</td>\n",
       "      <td id=\"T_d83cc_row0_col2\" class=\"data row0 col2\" >1</td>\n",
       "      <td id=\"T_d83cc_row0_col3\" class=\"data row0 col3\" >CLINIC</td>\n",
       "      <td id=\"T_d83cc_row0_col4\" class=\"data row0 col4\" >500.000000</td>\n",
       "      <td id=\"T_d83cc_row0_col5\" class=\"data row0 col5\" >0.000000</td>\n",
       "      <td id=\"T_d83cc_row0_col6\" class=\"data row0 col6\" >0.000000</td>\n",
       "      <td id=\"T_d83cc_row0_col7\" class=\"data row0 col7\" >500.000000</td>\n",
       "    </tr>\n",
       "    <tr>\n",
       "      <th id=\"T_d83cc_level0_row1\" class=\"row_heading level0 row1\" >1</th>\n",
       "      <td id=\"T_d83cc_row1_col0\" class=\"data row1 col0\" >cm0p1vesa00080dl22xlc8qnu</td>\n",
       "      <td id=\"T_d83cc_row1_col1\" class=\"data row1 col1\" >cm06sxge500010dl4cwc66pqa</td>\n",
       "      <td id=\"T_d83cc_row1_col2\" class=\"data row1 col2\" >1</td>\n",
       "      <td id=\"T_d83cc_row1_col3\" class=\"data row1 col3\" >CLINIC</td>\n",
       "      <td id=\"T_d83cc_row1_col4\" class=\"data row1 col4\" >523.600000</td>\n",
       "      <td id=\"T_d83cc_row1_col5\" class=\"data row1 col5\" >0.000000</td>\n",
       "      <td id=\"T_d83cc_row1_col6\" class=\"data row1 col6\" >0.000000</td>\n",
       "      <td id=\"T_d83cc_row1_col7\" class=\"data row1 col7\" >523.600000</td>\n",
       "    </tr>\n",
       "    <tr>\n",
       "      <th id=\"T_d83cc_level0_row2\" class=\"row_heading level0 row2\" >2</th>\n",
       "      <td id=\"T_d83cc_row2_col0\" class=\"data row2 col0\" >clzwotplq000r0dlc8cro0evx</td>\n",
       "      <td id=\"T_d83cc_row2_col1\" class=\"data row2 col1\" >clwtc0ngg00010bmf3jc3hb7z</td>\n",
       "      <td id=\"T_d83cc_row2_col2\" class=\"data row2 col2\" >1</td>\n",
       "      <td id=\"T_d83cc_row2_col3\" class=\"data row2 col3\" >CLINIC</td>\n",
       "      <td id=\"T_d83cc_row2_col4\" class=\"data row2 col4\" >2645.000000</td>\n",
       "      <td id=\"T_d83cc_row2_col5\" class=\"data row2 col5\" >0.000000</td>\n",
       "      <td id=\"T_d83cc_row2_col6\" class=\"data row2 col6\" >2645.000000</td>\n",
       "      <td id=\"T_d83cc_row2_col7\" class=\"data row2 col7\" >0.000000</td>\n",
       "    </tr>\n",
       "    <tr>\n",
       "      <th id=\"T_d83cc_level0_row3\" class=\"row_heading level0 row3\" >3</th>\n",
       "      <td id=\"T_d83cc_row3_col0\" class=\"data row3 col0\" >1Xr7Rar9Kd70ze1qFSumQDYpMbtx2FHvD_1</td>\n",
       "      <td id=\"T_d83cc_row3_col1\" class=\"data row3 col1\" >clu11m89e00010cl4ghgggguo</td>\n",
       "      <td id=\"T_d83cc_row3_col2\" class=\"data row3 col2\" >2</td>\n",
       "      <td id=\"T_d83cc_row3_col3\" class=\"data row3 col3\" >CLINIC</td>\n",
       "      <td id=\"T_d83cc_row3_col4\" class=\"data row3 col4\" >2385.000000</td>\n",
       "      <td id=\"T_d83cc_row3_col5\" class=\"data row3 col5\" >0.000000</td>\n",
       "      <td id=\"T_d83cc_row3_col6\" class=\"data row3 col6\" >0.000000</td>\n",
       "      <td id=\"T_d83cc_row3_col7\" class=\"data row3 col7\" >2385.000000</td>\n",
       "    </tr>\n",
       "    <tr>\n",
       "      <th id=\"T_d83cc_level0_row4\" class=\"row_heading level0 row4\" >4</th>\n",
       "      <td id=\"T_d83cc_row4_col0\" class=\"data row4 col0\" >clybzap5x00090dlc9ye05cth</td>\n",
       "      <td id=\"T_d83cc_row4_col1\" class=\"data row4 col1\" >clu11m89e00010cl4ghgggguo</td>\n",
       "      <td id=\"T_d83cc_row4_col2\" class=\"data row4 col2\" >1</td>\n",
       "      <td id=\"T_d83cc_row4_col3\" class=\"data row4 col3\" >CLINIC</td>\n",
       "      <td id=\"T_d83cc_row4_col4\" class=\"data row4 col4\" >3156.760000</td>\n",
       "      <td id=\"T_d83cc_row4_col5\" class=\"data row4 col5\" >0.000000</td>\n",
       "      <td id=\"T_d83cc_row4_col6\" class=\"data row4 col6\" >3156.760000</td>\n",
       "      <td id=\"T_d83cc_row4_col7\" class=\"data row4 col7\" >0.000000</td>\n",
       "    </tr>\n",
       "  </tbody>\n",
       "</table>\n"
      ],
      "text/plain": [
       "<pandas.io.formats.style.Styler at 0x7fe782f2aa90>"
      ]
     },
     "metadata": {},
     "output_type": "display_data"
    }
   ],
   "source": [
    "from IPython.display import display\n",
    "\n",
    "# Display prettier tables\n",
    "display(cycles_df.head().style.set_table_attributes(\"style='display:inline'\").set_caption(\"Cycles DataFrame\"))\n",
    "display(rounds_df.head().style.set_table_attributes(\"style='display:inline'\").set_caption(\"Rounds DataFrame\"))\n",
    "display(invoices_df.head().style.set_table_attributes(\"style='display:inline'\").set_caption(\"Invoices DataFrame\"))\n"
   ]
  },
  {
   "cell_type": "markdown",
   "id": "c7dddfb2-717d-4681-a004-0ab610f70f8c",
   "metadata": {},
   "source": [
    "## 2) Exploratory data analysis "
   ]
  },
  {
   "cell_type": "markdown",
   "id": "7179859a-8dc3-4b8f-a0e1-17053e6c7a32",
   "metadata": {},
   "source": [
    "### Cycles data"
   ]
  },
  {
   "cell_type": "code",
   "execution_count": 25,
   "id": "a3888b2a-ec92-487a-9dd8-7378bb475f7e",
   "metadata": {},
   "outputs": [
    {
     "data": {
      "text/html": [
       "<style type=\"text/css\">\n",
       "</style>\n",
       "<table id=\"T_17849\" style='display:inline'>\n",
       "  <caption>Cycles DataFrame</caption>\n",
       "  <thead>\n",
       "    <tr>\n",
       "      <th class=\"blank level0\" >&nbsp;</th>\n",
       "      <th id=\"T_17849_level0_col0\" class=\"col_heading level0 col0\" >membership_id</th>\n",
       "      <th id=\"T_17849_level0_col1\" class=\"col_heading level0 col1\" >cycle_number</th>\n",
       "      <th id=\"T_17849_level0_col2\" class=\"col_heading level0 col2\" >cycle_liability_post_discount</th>\n",
       "      <th id=\"T_17849_level0_col3\" class=\"col_heading level0 col3\" >clinics_id</th>\n",
       "    </tr>\n",
       "  </thead>\n",
       "  <tbody>\n",
       "    <tr>\n",
       "      <th id=\"T_17849_level0_row0\" class=\"row_heading level0 row0\" >0</th>\n",
       "      <td id=\"T_17849_row0_col0\" class=\"data row0 col0\" >cltqx2w4q00010ml1fhm9hy32</td>\n",
       "      <td id=\"T_17849_row0_col1\" class=\"data row0 col1\" >1</td>\n",
       "      <td id=\"T_17849_row0_col2\" class=\"data row0 col2\" >6283.400000</td>\n",
       "      <td id=\"T_17849_row0_col3\" class=\"data row0 col3\" >7ebcc0c8d77d42309ab6dae22beb6e9a</td>\n",
       "    </tr>\n",
       "    <tr>\n",
       "      <th id=\"T_17849_level0_row1\" class=\"row_heading level0 row1\" >1</th>\n",
       "      <td id=\"T_17849_row1_col0\" class=\"data row1 col0\" >clrhwsasp00080dl40mj81twz</td>\n",
       "      <td id=\"T_17849_row1_col1\" class=\"data row1 col1\" >1</td>\n",
       "      <td id=\"T_17849_row1_col2\" class=\"data row1 col2\" >7661.020000</td>\n",
       "      <td id=\"T_17849_row1_col3\" class=\"data row1 col3\" >ed236c69937b44678dcd6875393d8cc5</td>\n",
       "    </tr>\n",
       "    <tr>\n",
       "      <th id=\"T_17849_level0_row2\" class=\"row_heading level0 row2\" >2</th>\n",
       "      <td id=\"T_17849_row2_col0\" class=\"data row2 col0\" >clzsmivof00010dl06wjr49bu</td>\n",
       "      <td id=\"T_17849_row2_col1\" class=\"data row2 col1\" >1</td>\n",
       "      <td id=\"T_17849_row2_col2\" class=\"data row2 col2\" >6860.330000</td>\n",
       "      <td id=\"T_17849_row2_col3\" class=\"data row2 col3\" >ce6d99f5787a45e8994569266c41d016</td>\n",
       "    </tr>\n",
       "    <tr>\n",
       "      <th id=\"T_17849_level0_row3\" class=\"row_heading level0 row3\" >3</th>\n",
       "      <td id=\"T_17849_row3_col0\" class=\"data row3 col0\" >clvdlselv00010mjvcyi3d5xm</td>\n",
       "      <td id=\"T_17849_row3_col1\" class=\"data row3 col1\" >1</td>\n",
       "      <td id=\"T_17849_row3_col2\" class=\"data row3 col2\" >7704.800000</td>\n",
       "      <td id=\"T_17849_row3_col3\" class=\"data row3 col3\" >95a60992ddb147f488a369041a79ff4e</td>\n",
       "    </tr>\n",
       "    <tr>\n",
       "      <th id=\"T_17849_level0_row4\" class=\"row_heading level0 row4\" >4</th>\n",
       "      <td id=\"T_17849_row4_col0\" class=\"data row4 col0\" >clxvknofo00010djrcs1r5h61</td>\n",
       "      <td id=\"T_17849_row4_col1\" class=\"data row4 col1\" >1</td>\n",
       "      <td id=\"T_17849_row4_col2\" class=\"data row4 col2\" >10238.750000</td>\n",
       "      <td id=\"T_17849_row4_col3\" class=\"data row4 col3\" >786bc177d2654e168220430f0291bfb2</td>\n",
       "    </tr>\n",
       "  </tbody>\n",
       "</table>\n"
      ],
      "text/plain": [
       "<pandas.io.formats.style.Styler at 0x7fe7405fa220>"
      ]
     },
     "metadata": {},
     "output_type": "display_data"
    }
   ],
   "source": [
    "display(cycles_df.head().style.set_table_attributes(\"style='display:inline'\").set_caption(\"Cycles DataFrame\"))"
   ]
  },
  {
   "cell_type": "code",
   "execution_count": 28,
   "id": "40006bca-1fad-4ebc-a08c-05d8de9d58d4",
   "metadata": {},
   "outputs": [
    {
     "name": "stdout",
     "output_type": "stream",
     "text": [
      "Number of Duplicate Rows in cycles_df: 0\n"
     ]
    }
   ],
   "source": [
    "# Check for duplicates in cycles_df\n",
    "duplicates_cycles = cycles_df.duplicated()\n",
    "print(f\"Number of Duplicate Rows in cycles_df: {duplicates_cycles.sum()}\")"
   ]
  },
  {
   "cell_type": "code",
   "execution_count": 18,
   "id": "b44fea94-7dfb-47e1-a00f-7f706cf785f8",
   "metadata": {},
   "outputs": [
    {
     "name": "stdout",
     "output_type": "stream",
     "text": [
      "Missing values in Cycles DataFrame:\n",
      "membership_id                    0\n",
      "cycle_number                     0\n",
      "cycle_liability_post_discount    0\n",
      "clinics_id                       0\n",
      "dtype: int64\n",
      "\n",
      "Summary Statistics:\n",
      "       cycle_number  cycle_liability_post_discount\n",
      "count    256.000000                     256.000000\n",
      "mean       1.144531                    9790.440156\n",
      "std        0.394334                    3185.342697\n",
      "min        1.000000                    2770.160000\n",
      "25%        1.000000                    7875.512500\n",
      "50%        1.000000                    9453.590000\n",
      "75%        1.000000                   11319.325000\n",
      "max        3.000000                   24062.250000\n",
      "\n",
      "Unique Memberships: 228\n",
      "Unique Clinics: 82\n"
     ]
    }
   ],
   "source": [
    "# Convert column names to lowercase and replace spaces with underscores\n",
    "cycles_df.columns = cycles_df.columns.str.lower().str.replace(' ', '_')\n",
    "\n",
    "# Check for missing values\n",
    "print(\"Missing values in Cycles DataFrame:\")\n",
    "print(cycles_df.isnull().sum())\n",
    "\n",
    "# General statistics\n",
    "print(\"\\nSummary Statistics:\")\n",
    "print(cycles_df.describe())\n",
    "\n",
    "# Count unique members and clinics\n",
    "unique_members = cycles_df['membership_id'].nunique()\n",
    "unique_clinics = cycles_df['clinics_id'].nunique()\n",
    "print(f\"\\nUnique Memberships: {unique_members}\")\n",
    "print(f\"Unique Clinics: {unique_clinics}\")\n"
   ]
  },
  {
   "cell_type": "code",
   "execution_count": 19,
   "id": "fbbfe18a-33ff-4ba1-a22a-0a1b5afda81d",
   "metadata": {},
   "outputs": [
    {
     "data": {
      "image/png": "[encoded data removed]",
      "text/plain": [
       "<Figure size 576x360 with 1 Axes>"
      ]
     },
     "metadata": {
      "needs_background": "light"
     },
     "output_type": "display_data"
    }
   ],
   "source": [
    "import matplotlib.pyplot as plt\n",
    "\n",
    "# Aggregate data to count the number of cycles per member\n",
    "cycle_counts = cycles_df.groupby('membership_id')['cycle_number'].max()\n",
    "cycle_distribution = cycle_counts.value_counts().sort_index()\n",
    "\n",
    "# Calculate percentages\n",
    "total_members = cycle_distribution.sum()\n",
    "percentage_distribution = (cycle_distribution / total_members) * 100\n",
    "\n",
    "# Plot the distribution with percentages\n",
    "fig, ax = plt.subplots(figsize=(8, 5))\n",
    "bars = ax.bar(cycle_distribution.index, cycle_distribution, edgecolor='black', label='Number of Members')\n",
    "\n",
    "# Annotate bars with percentages\n",
    "for bar, percentage in zip(bars, percentage_distribution):\n",
    "    ax.text(bar.get_x() + bar.get_width() / 2, bar.get_height(), f\"{percentage:.1f}%\", \n",
    "            ha='center', va='bottom', fontsize=10)\n",
    "\n",
    "# Customize the plot\n",
    "ax.set_title(\"Number of Cycles vs. Count of Members (with Percentages)\", fontsize=14)\n",
    "ax.set_xlabel(\"Number of Cycles\", fontsize=12)\n",
    "ax.set_ylabel(\"Number of Members\", fontsize=12)\n",
    "ax.set_xticks(cycle_distribution.index)\n",
    "ax.grid(axis='y', linestyle='--', alpha=0.7)\n",
    "plt.show()"
   ]
  },
  {
   "cell_type": "code",
   "execution_count": 20,
   "id": "1b807ae7-b34c-492b-a20a-17c8fbfe6a88",
   "metadata": {},
   "outputs": [
    {
     "name": "stdout",
     "output_type": "stream",
     "text": [
      "Clinics where members did more than 1 cycle:\n",
      "['0676b700012e4676bf7a86395d32099f' 'f17b93a590674bedb6b5b6f561e2fdd4'\n",
      " 'f41eb7e430e34ce183e3a5f433f9aaec' '3526634d03b540f68151fbb64833c737'\n",
      " '3bcb2e8b040a48458a981261654a5593' 'clgkl7ngy004w0jmsg1aj41sa'\n",
      " '55bfff2e54de4bfd8c01c74bbc4b0b4f' 'f0977bfa746141a982ae23838df34e19'\n",
      " 'f0319b9bb03e4378badfd0b220a5c651' 'd8462f9d50d24586aee405ba1c356fd1'\n",
      " '9143966c11604c1c8f7a6cbe5aeb421c' 'f7d8f010f7e84d9d89126a8a61f97bb2'\n",
      " 'clisp8fir001c0cmh05mk3xdm' 'e56bdf9dd4d0468293568488afece52a'\n",
      " '205e8f7cd5574d0bb1e3edd944705814' 'dee96ff9cffd4886a2255143392de51c'\n",
      " 'c4db3b6b27ac4400872ce0da3c41f83d' 'e952d922d7e74f3b8f6bfdf606902df9'\n",
      " 'b1f0581d86bd4c6c818c7d596aa4053f' '2b083e2925cb4812abd3b76a03b8794e'\n",
      " '3ac907157d7f44ec8a5177ca5402c398' '8431aa62ec764cb49b242e5561a8a136'\n",
      " '68209e6ce6304a27930f9e2e6b132466']\n"
     ]
    }
   ],
   "source": [
    "# Find members who have done more than 1 cycle\n",
    "multi_cycle_members = cycles_df.groupby('membership_id')['cycle_number'].max()\n",
    "multi_cycle_members = multi_cycle_members[multi_cycle_members > 1].index\n",
    "\n",
    "# Filter the original dataframe for these members\n",
    "multi_cycle_data = cycles_df[cycles_df['membership_id'].isin(multi_cycle_members)]\n",
    "\n",
    "# Find the clinics where these members had their cycles\n",
    "clinics_with_multiple_cycles = multi_cycle_data['clinics_id'].unique()\n",
    "\n",
    "# Display the result\n",
    "print(\"Clinics where members did more than 1 cycle:\")\n",
    "print(clinics_with_multiple_cycles)"
   ]
  },
  {
   "cell_type": "code",
   "execution_count": 21,
   "id": "bba79154-ccb8-4e02-9cd4-7d0bc808d1ca",
   "metadata": {},
   "outputs": [
    {
     "name": "stdout",
     "output_type": "stream",
     "text": [
      "Members who did more than 1 cycle in the same clinic: 30\n",
      "Members who changed clinics: 0\n",
      "\n",
      "Examples of members who changed clinics:\n",
      "Empty DataFrame\n",
      "Columns: [membership_id, cycle_number, cycle_liability_post_discount, clinics_id]\n",
      "Index: []\n"
     ]
    }
   ],
   "source": [
    "# Find members who have done more than 1 cycle\n",
    "multi_cycle_members = cycles_df.groupby('membership_id')['cycle_number'].max()\n",
    "multi_cycle_members = multi_cycle_members[multi_cycle_members > 1].index\n",
    "\n",
    "# Filter the original dataframe for these members\n",
    "multi_cycle_data = cycles_df[cycles_df['membership_id'].isin(multi_cycle_members)]\n",
    "\n",
    "# Check if members used the same clinic for all cycles\n",
    "clinic_changes = multi_cycle_data.groupby('membership_id')['clinics_id'].nunique()\n",
    "\n",
    "# Separate members who changed clinics from those who didn't\n",
    "changed_clinic = clinic_changes[clinic_changes > 1].index\n",
    "same_clinic = clinic_changes[clinic_changes == 1].index\n",
    "\n",
    "# Count the numbers\n",
    "print(f\"Members who did more than 1 cycle in the same clinic: {len(same_clinic)}\")\n",
    "print(f\"Members who changed clinics: {len(changed_clinic)}\")\n",
    "\n",
    "# Display examples of members who changed clinics\n",
    "print(\"\\nExamples of members who changed clinics:\")\n",
    "print(multi_cycle_data[multi_cycle_data['membership_id'].isin(changed_clinic)].sort_values(by=['membership_id', 'cycle_number']))"
   ]
  },
  {
   "cell_type": "code",
   "execution_count": 22,
   "id": "d1287312-e5d8-44ba-92c3-643d715e19de",
   "metadata": {},
   "outputs": [
    {
     "name": "stdout",
     "output_type": "stream",
     "text": [
      "Cycle Liability Post Discount - Basic Statistics:\n",
      "Minimum: 2770.16\n",
      "Maximum: 24062.25\n",
      "Mean: 9790.440156250002\n",
      "Median: 9453.59\n",
      "Standard Deviation: 3185.342697347749\n"
     ]
    },
    {
     "data": {
      "image/png": "[encoded data removed]",
      "text/plain": [
       "<Figure size 720x432 with 1 Axes>"
      ]
     },
     "metadata": {
      "needs_background": "light"
     },
     "output_type": "display_data"
    },
    {
     "data": {
      "image/png": "[encoded data removed]",
      "text/plain": [
       "<Figure size 576x360 with 1 Axes>"
      ]
     },
     "metadata": {
      "needs_background": "light"
     },
     "output_type": "display_data"
    },
    {
     "name": "stdout",
     "output_type": "stream",
     "text": [
      "Number of Outliers: 7\n"
     ]
    },
    {
     "data": {
      "text/html": [
       "<div>\n",
       "<style scoped>\n",
       "    .dataframe tbody tr th:only-of-type {\n",
       "        vertical-align: middle;\n",
       "    }\n",
       "\n",
       "    .dataframe tbody tr th {\n",
       "        vertical-align: top;\n",
       "    }\n",
       "\n",
       "    .dataframe thead th {\n",
       "        text-align: right;\n",
       "    }\n",
       "</style>\n",
       "<table border=\"1\" class=\"dataframe\">\n",
       "  <thead>\n",
       "    <tr style=\"text-align: right;\">\n",
       "      <th></th>\n",
       "      <th>membership_id</th>\n",
       "      <th>cycle_number</th>\n",
       "      <th>cycle_liability_post_discount</th>\n",
       "      <th>clinics_id</th>\n",
       "    </tr>\n",
       "  </thead>\n",
       "  <tbody>\n",
       "    <tr>\n",
       "      <th>77</th>\n",
       "      <td>clvdqa2jo00010clddqhs515j</td>\n",
       "      <td>1</td>\n",
       "      <td>18222.27</td>\n",
       "      <td>8431aa62ec764cb49b242e5561a8a136</td>\n",
       "    </tr>\n",
       "    <tr>\n",
       "      <th>91</th>\n",
       "      <td>clxsqnr2200010bjt8ievairb</td>\n",
       "      <td>1</td>\n",
       "      <td>24062.25</td>\n",
       "      <td>clwyuocqh000a0dkzc7ymb9l2</td>\n",
       "    </tr>\n",
       "    <tr>\n",
       "      <th>94</th>\n",
       "      <td>clxouv8n000010imbhkl15kqn</td>\n",
       "      <td>1</td>\n",
       "      <td>16688.80</td>\n",
       "      <td>cliomdr2o000q0cmo6275abmg</td>\n",
       "    </tr>\n",
       "    <tr>\n",
       "      <th>161</th>\n",
       "      <td>clumcvek000010highadq1u3o</td>\n",
       "      <td>1</td>\n",
       "      <td>17710.38</td>\n",
       "      <td>cliomdr2o000q0cmo6275abmg</td>\n",
       "    </tr>\n",
       "    <tr>\n",
       "      <th>179</th>\n",
       "      <td>cls4vmlgg00010dl14dqtdrn1</td>\n",
       "      <td>1</td>\n",
       "      <td>17312.24</td>\n",
       "      <td>dc46793e7417415f9798076b044b0d38</td>\n",
       "    </tr>\n",
       "    <tr>\n",
       "      <th>184</th>\n",
       "      <td>clzcgfslo000a0hlbgwp356co</td>\n",
       "      <td>1</td>\n",
       "      <td>16844.29</td>\n",
       "      <td>cliomdr2o000q0cmo6275abmg</td>\n",
       "    </tr>\n",
       "    <tr>\n",
       "      <th>218</th>\n",
       "      <td>clxaby19h00010djtgwar1kuc</td>\n",
       "      <td>1</td>\n",
       "      <td>17615.25</td>\n",
       "      <td>6967483cc92945edb383151642ec6f22</td>\n",
       "    </tr>\n",
       "  </tbody>\n",
       "</table>\n",
       "</div>"
      ],
      "text/plain": [
       "                 membership_id  cycle_number  cycle_liability_post_discount  \\\n",
       "77   clvdqa2jo00010clddqhs515j             1                       18222.27   \n",
       "91   clxsqnr2200010bjt8ievairb             1                       24062.25   \n",
       "94   clxouv8n000010imbhkl15kqn             1                       16688.80   \n",
       "161  clumcvek000010highadq1u3o             1                       17710.38   \n",
       "179  cls4vmlgg00010dl14dqtdrn1             1                       17312.24   \n",
       "184  clzcgfslo000a0hlbgwp356co             1                       16844.29   \n",
       "218  clxaby19h00010djtgwar1kuc             1                       17615.25   \n",
       "\n",
       "                           clinics_id  \n",
       "77   8431aa62ec764cb49b242e5561a8a136  \n",
       "91          clwyuocqh000a0dkzc7ymb9l2  \n",
       "94          cliomdr2o000q0cmo6275abmg  \n",
       "161         cliomdr2o000q0cmo6275abmg  \n",
       "179  dc46793e7417415f9798076b044b0d38  \n",
       "184         cliomdr2o000q0cmo6275abmg  \n",
       "218  6967483cc92945edb383151642ec6f22  "
      ]
     },
     "metadata": {},
     "output_type": "display_data"
    }
   ],
   "source": [
    "import matplotlib.pyplot as plt\n",
    "\n",
    "# Basic statistics\n",
    "min_liability = cycles_df['cycle_liability_post_discount'].min()\n",
    "max_liability = cycles_df['cycle_liability_post_discount'].max()\n",
    "mean_liability = cycles_df['cycle_liability_post_discount'].mean()\n",
    "median_liability = cycles_df['cycle_liability_post_discount'].median()\n",
    "std_dev_liability = cycles_df['cycle_liability_post_discount'].std()\n",
    "\n",
    "print(\"Cycle Liability Post Discount - Basic Statistics:\")\n",
    "print(f\"Minimum: {min_liability}\")\n",
    "print(f\"Maximum: {max_liability}\")\n",
    "print(f\"Mean: {mean_liability}\")\n",
    "print(f\"Median: {median_liability}\")\n",
    "print(f\"Standard Deviation: {std_dev_liability}\")\n",
    "\n",
    "# Distribution plot\n",
    "plt.figure(figsize=(10, 6))\n",
    "plt.hist(cycles_df['cycle_liability_post_discount'], bins=20, edgecolor='black', alpha=0.7)\n",
    "plt.title(\"Distribution of Cycle Liability Post Discount\", fontsize=14)\n",
    "plt.xlabel(\"Cycle Liability Post Discount\", fontsize=12)\n",
    "plt.ylabel(\"Frequency\", fontsize=12)\n",
    "plt.grid(axis='y', linestyle='--', alpha=0.7)\n",
    "plt.show()\n",
    "\n",
    "# Boxplot to check for outliers\n",
    "plt.figure(figsize=(8, 5))\n",
    "plt.boxplot(cycles_df['cycle_liability_post_discount'], vert=False, patch_artist=True, boxprops=dict(facecolor='lightblue'))\n",
    "plt.title(\"Boxplot of Cycle Liability Post Discount\", fontsize=14)\n",
    "plt.xlabel(\"Cycle Liability Post Discount\", fontsize=12)\n",
    "plt.show()\n",
    "\n",
    "# Identify potential outliers (values beyond 1.5x IQR)\n",
    "q1 = cycles_df['cycle_liability_post_discount'].quantile(0.25)\n",
    "q3 = cycles_df['cycle_liability_post_discount'].quantile(0.75)\n",
    "iqr = q3 - q1\n",
    "lower_bound = q1 - 1.5 * iqr\n",
    "upper_bound = q3 + 1.5 * iqr\n",
    "\n",
    "outliers = cycles_df[(cycles_df['cycle_liability_post_discount'] < lower_bound) |\n",
    "                     (cycles_df['cycle_liability_post_discount'] > upper_bound)]\n",
    "\n",
    "# Display the outliers table\n",
    "print(f\"Number of Outliers: {len(outliers)}\")\n",
    "display(outliers)"
   ]
  },
  {
   "cell_type": "markdown",
   "id": "25416339-45d5-4360-90e9-7a44a4efe8e4",
   "metadata": {},
   "source": [
    "### Insights from the Outliers\n",
    "\n",
    "1. **High Values**:\n",
    "    - The outlier values range from **16688.80** to **24062.25**, which are significantly above the mean (**9790.44**) and median (**9453.59**).\n",
    "\n",
    "2. **Clinics Associated with Outliers**:\n",
    "    - Out of the 7 outliers, **`cliomdr2o000q0cmo6275abmg`** appears in **3 cases**, suggesting a clinic-specific pattern.\n",
    "    - Other clinics, such as **`8431aa62ec764cb49b242e5561a8a136`**, **`clwyuocqh000a0dkzc7ymb9l2`**, and **`dc46793e7417415f9798076b044b0d38`**, have a single occurrence.\n",
    "\n",
    "3. **Single Cycle Members**:\n",
    "    - All outliers are associated with **Cycle Number 1**, indicating they occur in the initial treatment cycle.\n"
   ]
  },
  {
   "cell_type": "markdown",
   "id": "baf98021-75ee-432a-8330-d9460265e528",
   "metadata": {},
   "source": [
    "### Rounds data"
   ]
  },
  {
   "cell_type": "markdown",
   "id": "9077e9b5-45fa-4080-ac4e-67de54c8a5a0",
   "metadata": {},
   "source": []
  },
  {
   "cell_type": "code",
   "execution_count": 26,
   "id": "5cfee0fe-8a77-45ff-bdf8-100d5f1ef848",
   "metadata": {},
   "outputs": [
    {
     "data": {
      "text/html": [
       "<style type=\"text/css\">\n",
       "</style>\n",
       "<table id=\"T_c0552\" style='display:inline'>\n",
       "  <caption>Rounds DataFrame</caption>\n",
       "  <thead>\n",
       "    <tr>\n",
       "      <th class=\"blank level0\" >&nbsp;</th>\n",
       "      <th id=\"T_c0552_level0_col0\" class=\"col_heading level0 col0\" >membership_id</th>\n",
       "      <th id=\"T_c0552_level0_col1\" class=\"col_heading level0 col1\" >cycle_number</th>\n",
       "      <th id=\"T_c0552_level0_col2\" class=\"col_heading level0 col2\" >round_number</th>\n",
       "      <th id=\"T_c0552_level0_col3\" class=\"col_heading level0 col3\" >round_type</th>\n",
       "      <th id=\"T_c0552_level0_col4\" class=\"col_heading level0 col4\" >round_current_status</th>\n",
       "    </tr>\n",
       "  </thead>\n",
       "  <tbody>\n",
       "    <tr>\n",
       "      <th id=\"T_c0552_level0_row0\" class=\"row_heading level0 row0\" >0</th>\n",
       "      <td id=\"T_c0552_row0_col0\" class=\"data row0 col0\" >clr88hn3100070cl62log9v64</td>\n",
       "      <td id=\"T_c0552_row0_col1\" class=\"data row0 col1\" >1</td>\n",
       "      <td id=\"T_c0552_row0_col2\" class=\"data row0 col2\" >1</td>\n",
       "      <td id=\"T_c0552_row0_col3\" class=\"data row0 col3\" >FROZEN_TRANSFER</td>\n",
       "      <td id=\"T_c0552_row0_col4\" class=\"data row0 col4\" >PENDING_TRANSFER</td>\n",
       "    </tr>\n",
       "    <tr>\n",
       "      <th id=\"T_c0552_level0_row1\" class=\"row_heading level0 row1\" >1</th>\n",
       "      <td id=\"T_c0552_row1_col0\" class=\"data row1 col0\" >clrhmcyo600010cjn1739f02m</td>\n",
       "      <td id=\"T_c0552_row1_col1\" class=\"data row1 col1\" >2</td>\n",
       "      <td id=\"T_c0552_row1_col2\" class=\"data row1 col2\" >2</td>\n",
       "      <td id=\"T_c0552_row1_col3\" class=\"data row1 col3\" >ANY_IVF_WITH_FRESH_TRANSFER</td>\n",
       "      <td id=\"T_c0552_row1_col4\" class=\"data row1 col4\" >TREATMENT_STARTED</td>\n",
       "    </tr>\n",
       "    <tr>\n",
       "      <th id=\"T_c0552_level0_row2\" class=\"row_heading level0 row2\" >2</th>\n",
       "      <td id=\"T_c0552_row2_col0\" class=\"data row2 col0\" >clrhmcyo600010cjn1739f02m</td>\n",
       "      <td id=\"T_c0552_row2_col1\" class=\"data row2 col1\" >1</td>\n",
       "      <td id=\"T_c0552_row2_col2\" class=\"data row2 col2\" >1</td>\n",
       "      <td id=\"T_c0552_row2_col3\" class=\"data row2 col3\" >ANY_IVF_WITH_FRESH_TRANSFER</td>\n",
       "      <td id=\"T_c0552_row2_col4\" class=\"data row2 col4\" >UNSUCCESSFUL</td>\n",
       "    </tr>\n",
       "    <tr>\n",
       "      <th id=\"T_c0552_level0_row3\" class=\"row_heading level0 row3\" >3</th>\n",
       "      <td id=\"T_c0552_row3_col0\" class=\"data row3 col0\" >clrhwsasp00080dl40mj81twz</td>\n",
       "      <td id=\"T_c0552_row3_col1\" class=\"data row3 col1\" >1</td>\n",
       "      <td id=\"T_c0552_row3_col2\" class=\"data row3 col2\" >1</td>\n",
       "      <td id=\"T_c0552_row3_col3\" class=\"data row3 col3\" >ANY_IVF_WITH_FRESH_TRANSFER</td>\n",
       "      <td id=\"T_c0552_row3_col4\" class=\"data row3 col4\" >UNSUCCESSFUL</td>\n",
       "    </tr>\n",
       "    <tr>\n",
       "      <th id=\"T_c0552_level0_row4\" class=\"row_heading level0 row4\" >4</th>\n",
       "      <td id=\"T_c0552_row4_col0\" class=\"data row4 col0\" >clrkf5m7r00010cla7eio6d0b</td>\n",
       "      <td id=\"T_c0552_row4_col1\" class=\"data row4 col1\" >2</td>\n",
       "      <td id=\"T_c0552_row4_col2\" class=\"data row4 col2\" >1</td>\n",
       "      <td id=\"T_c0552_row4_col3\" class=\"data row4 col3\" >ANY_IVF_WITH_FRESH_TRANSFER</td>\n",
       "      <td id=\"T_c0552_row4_col4\" class=\"data row4 col4\" >PREGNANCY</td>\n",
       "    </tr>\n",
       "  </tbody>\n",
       "</table>\n"
      ],
      "text/plain": [
       "<pandas.io.formats.style.Styler at 0x7fe740666dc0>"
      ]
     },
     "metadata": {},
     "output_type": "display_data"
    }
   ],
   "source": [
    "display(rounds_df.head().style.set_table_attributes(\"style='display:inline'\").set_caption(\"Rounds DataFrame\"))"
   ]
  },
  {
   "cell_type": "code",
   "execution_count": 24,
   "id": "ec96cee7-463c-451b-9682-0250464ea9ac",
   "metadata": {},
   "outputs": [
    {
     "name": "stdout",
     "output_type": "stream",
     "text": [
      "High-Level Statistics for Rounds DataFrame:\n"
     ]
    },
    {
     "data": {
      "text/html": [
       "<div>\n",
       "<style scoped>\n",
       "    .dataframe tbody tr th:only-of-type {\n",
       "        vertical-align: middle;\n",
       "    }\n",
       "\n",
       "    .dataframe tbody tr th {\n",
       "        vertical-align: top;\n",
       "    }\n",
       "\n",
       "    .dataframe thead th {\n",
       "        text-align: right;\n",
       "    }\n",
       "</style>\n",
       "<table border=\"1\" class=\"dataframe\">\n",
       "  <thead>\n",
       "    <tr style=\"text-align: right;\">\n",
       "      <th></th>\n",
       "      <th>membership_id</th>\n",
       "      <th>cycle_number</th>\n",
       "      <th>round_number</th>\n",
       "      <th>round_type</th>\n",
       "      <th>round_current_status</th>\n",
       "    </tr>\n",
       "  </thead>\n",
       "  <tbody>\n",
       "    <tr>\n",
       "      <th>count</th>\n",
       "      <td>236</td>\n",
       "      <td>236.000000</td>\n",
       "      <td>236.000000</td>\n",
       "      <td>236</td>\n",
       "      <td>236</td>\n",
       "    </tr>\n",
       "    <tr>\n",
       "      <th>unique</th>\n",
       "      <td>199</td>\n",
       "      <td>NaN</td>\n",
       "      <td>NaN</td>\n",
       "      <td>3</td>\n",
       "      <td>7</td>\n",
       "    </tr>\n",
       "    <tr>\n",
       "      <th>top</th>\n",
       "      <td>cltrhc9au000i0cjvhmgc7263</td>\n",
       "      <td>NaN</td>\n",
       "      <td>NaN</td>\n",
       "      <td>ANY_IVF_WITH_FRESH_TRANSFER</td>\n",
       "      <td>PENDING</td>\n",
       "    </tr>\n",
       "    <tr>\n",
       "      <th>freq</th>\n",
       "      <td>3</td>\n",
       "      <td>NaN</td>\n",
       "      <td>NaN</td>\n",
       "      <td>166</td>\n",
       "      <td>84</td>\n",
       "    </tr>\n",
       "    <tr>\n",
       "      <th>mean</th>\n",
       "      <td>NaN</td>\n",
       "      <td>1.144068</td>\n",
       "      <td>1.186441</td>\n",
       "      <td>NaN</td>\n",
       "      <td>NaN</td>\n",
       "    </tr>\n",
       "    <tr>\n",
       "      <th>std</th>\n",
       "      <td>NaN</td>\n",
       "      <td>0.386483</td>\n",
       "      <td>0.460326</td>\n",
       "      <td>NaN</td>\n",
       "      <td>NaN</td>\n",
       "    </tr>\n",
       "    <tr>\n",
       "      <th>min</th>\n",
       "      <td>NaN</td>\n",
       "      <td>1.000000</td>\n",
       "      <td>1.000000</td>\n",
       "      <td>NaN</td>\n",
       "      <td>NaN</td>\n",
       "    </tr>\n",
       "    <tr>\n",
       "      <th>25%</th>\n",
       "      <td>NaN</td>\n",
       "      <td>1.000000</td>\n",
       "      <td>1.000000</td>\n",
       "      <td>NaN</td>\n",
       "      <td>NaN</td>\n",
       "    </tr>\n",
       "    <tr>\n",
       "      <th>50%</th>\n",
       "      <td>NaN</td>\n",
       "      <td>1.000000</td>\n",
       "      <td>1.000000</td>\n",
       "      <td>NaN</td>\n",
       "      <td>NaN</td>\n",
       "    </tr>\n",
       "    <tr>\n",
       "      <th>75%</th>\n",
       "      <td>NaN</td>\n",
       "      <td>1.000000</td>\n",
       "      <td>1.000000</td>\n",
       "      <td>NaN</td>\n",
       "      <td>NaN</td>\n",
       "    </tr>\n",
       "    <tr>\n",
       "      <th>max</th>\n",
       "      <td>NaN</td>\n",
       "      <td>3.000000</td>\n",
       "      <td>4.000000</td>\n",
       "      <td>NaN</td>\n",
       "      <td>NaN</td>\n",
       "    </tr>\n",
       "  </tbody>\n",
       "</table>\n",
       "</div>"
      ],
      "text/plain": [
       "                    membership_id  cycle_number  round_number  \\\n",
       "count                         236    236.000000    236.000000   \n",
       "unique                        199           NaN           NaN   \n",
       "top     cltrhc9au000i0cjvhmgc7263           NaN           NaN   \n",
       "freq                            3           NaN           NaN   \n",
       "mean                          NaN      1.144068      1.186441   \n",
       "std                           NaN      0.386483      0.460326   \n",
       "min                           NaN      1.000000      1.000000   \n",
       "25%                           NaN      1.000000      1.000000   \n",
       "50%                           NaN      1.000000      1.000000   \n",
       "75%                           NaN      1.000000      1.000000   \n",
       "max                           NaN      3.000000      4.000000   \n",
       "\n",
       "                         round_type round_current_status  \n",
       "count                           236                  236  \n",
       "unique                            3                    7  \n",
       "top     ANY_IVF_WITH_FRESH_TRANSFER              PENDING  \n",
       "freq                            166                   84  \n",
       "mean                            NaN                  NaN  \n",
       "std                             NaN                  NaN  \n",
       "min                             NaN                  NaN  \n",
       "25%                             NaN                  NaN  \n",
       "50%                             NaN                  NaN  \n",
       "75%                             NaN                  NaN  \n",
       "max                             NaN                  NaN  "
      ]
     },
     "metadata": {},
     "output_type": "display_data"
    },
    {
     "name": "stdout",
     "output_type": "stream",
     "text": [
      "\n",
      "Missing Values:\n"
     ]
    },
    {
     "data": {
      "text/plain": [
       "membership_id           0\n",
       "cycle_number            0\n",
       "round_number            0\n",
       "round_type              0\n",
       "round_current_status    0\n",
       "dtype: int64"
      ]
     },
     "metadata": {},
     "output_type": "display_data"
    },
    {
     "name": "stdout",
     "output_type": "stream",
     "text": [
      "\n",
      "Number of Duplicate Rows: 0\n"
     ]
    }
   ],
   "source": [
    "# Convert column names to lowercase and replace spaces with underscores, rename the 3rd column to 'round_number'\n",
    "rounds_df.columns = rounds_df.columns.str.lower().str.replace(' ', '_')\n",
    "rounds_df.rename(columns={\n",
    "    'round_number_(excluding_cancelled_rounds_and_counts_towards_insurance_=_true)': 'round_number'\n",
    "}, inplace=True)\n",
    "\n",
    "# High-level statistics\n",
    "print(\"High-Level Statistics for Rounds DataFrame:\")\n",
    "display(rounds_df.describe(include='all'))\n",
    "\n",
    "# Check for null values\n",
    "print(\"\\nMissing Values:\")\n",
    "display(rounds_df.isnull().sum())\n",
    "\n",
    "# Check for duplicates\n",
    "duplicates = rounds_df.duplicated()\n",
    "print(f\"\\nNumber of Duplicate Rows: {duplicates.sum()}\")\n",
    "if duplicates.sum() > 0:\n",
    "    print(\"\\nExample Duplicate Rows:\")\n",
    "    display(rounds_df[duplicates].head())"
   ]
  },
  {
   "cell_type": "code",
   "execution_count": 40,
   "id": "421d3baf-c051-477a-9eb7-c50f51c1b6a8",
   "metadata": {},
   "outputs": [
    {
     "name": "stdout",
     "output_type": "stream",
     "text": [
      "\n",
      "Distinct values for round_type:\n",
      "['FROZEN_TRANSFER' 'ANY_IVF_WITH_FRESH_TRANSFER'\n",
      " 'ANY_IVF_WITH_EMBRYO_FREEZING']\n",
      "\n",
      "Distinct values for round_current_status:\n",
      "['PENDING_TRANSFER' 'TREATMENT_STARTED' 'UNSUCCESSFUL' 'PREGNANCY'\n",
      " 'PENDING' 'CLEARED_TO_BEGIN_TREATMENT' 'CANCELLED']\n"
     ]
    }
   ],
   "source": [
    "# Explore distinct values of round_type and round_current_status\n",
    "round_type_values = rounds_df['round_type'].unique()\n",
    "round_status_values = rounds_df['round_current_status'].unique()\n",
    "\n",
    "print(\"\\nDistinct values for round_type:\")\n",
    "print(round_type_values)\n",
    "\n",
    "print(\"\\nDistinct values for round_current_status:\")\n",
    "print(round_status_values)"
   ]
  },
  {
   "cell_type": "code",
   "execution_count": 65,
   "id": "762045b0-f526-433f-accb-d807b2ea8fc2",
   "metadata": {},
   "outputs": [
    {
     "name": "stdout",
     "output_type": "stream",
     "text": [
      "\n",
      "No duplicate entries found based on membership_id, cycle_number, and round_number.\n"
     ]
    }
   ],
   "source": [
    "# Find duplicate entries based on membership_id, cycle_number, and round_number\n",
    "duplicate_entries = rounds_df[rounds_df.duplicated(subset=['membership_id', 'cycle_number', 'round_number'], keep=False)]\n",
    "\n",
    "if not duplicate_entries.empty:\n",
    "    print(\"\\nDuplicate entries based on membership_id, cycle_number, and round_number:\")\n",
    "    display(duplicate_entries)\n",
    "else:\n",
    "    print(\"\\nNo duplicate entries found based on membership_id, cycle_number, and round_number.\")\n"
   ]
  },
  {
   "cell_type": "code",
   "execution_count": 76,
   "id": "5dfc96e9-dbaf-4015-bbd5-9ad31b00d0c7",
   "metadata": {},
   "outputs": [
    {
     "name": "stdout",
     "output_type": "stream",
     "text": [
      "\n",
      "Data for Member ID: clrhmcyo600010cjn1739f02m\n"
     ]
    },
    {
     "data": {
      "text/html": [
       "<div>\n",
       "<style scoped>\n",
       "    .dataframe tbody tr th:only-of-type {\n",
       "        vertical-align: middle;\n",
       "    }\n",
       "\n",
       "    .dataframe tbody tr th {\n",
       "        vertical-align: top;\n",
       "    }\n",
       "\n",
       "    .dataframe thead th {\n",
       "        text-align: right;\n",
       "    }\n",
       "</style>\n",
       "<table border=\"1\" class=\"dataframe\">\n",
       "  <thead>\n",
       "    <tr style=\"text-align: right;\">\n",
       "      <th></th>\n",
       "      <th>membership_id</th>\n",
       "      <th>cycle_number</th>\n",
       "      <th>round_number</th>\n",
       "      <th>round_type</th>\n",
       "      <th>round_current_status</th>\n",
       "    </tr>\n",
       "  </thead>\n",
       "  <tbody>\n",
       "    <tr>\n",
       "      <th>2</th>\n",
       "      <td>clrhmcyo600010cjn1739f02m</td>\n",
       "      <td>1</td>\n",
       "      <td>1</td>\n",
       "      <td>ANY_IVF_WITH_FRESH_TRANSFER</td>\n",
       "      <td>UNSUCCESSFUL</td>\n",
       "    </tr>\n",
       "    <tr>\n",
       "      <th>1</th>\n",
       "      <td>clrhmcyo600010cjn1739f02m</td>\n",
       "      <td>2</td>\n",
       "      <td>2</td>\n",
       "      <td>ANY_IVF_WITH_FRESH_TRANSFER</td>\n",
       "      <td>TREATMENT_STARTED</td>\n",
       "    </tr>\n",
       "  </tbody>\n",
       "</table>\n",
       "</div>"
      ],
      "text/plain": [
       "               membership_id  cycle_number  round_number  \\\n",
       "2  clrhmcyo600010cjn1739f02m             1             1   \n",
       "1  clrhmcyo600010cjn1739f02m             2             2   \n",
       "\n",
       "                    round_type round_current_status  \n",
       "2  ANY_IVF_WITH_FRESH_TRANSFER         UNSUCCESSFUL  \n",
       "1  ANY_IVF_WITH_FRESH_TRANSFER    TREATMENT_STARTED  "
      ]
     },
     "metadata": {},
     "output_type": "display_data"
    },
    {
     "name": "stdout",
     "output_type": "stream",
     "text": [
      "\n",
      "Data for Member ID: cltr095r700010cl6hvxx82bt\n"
     ]
    },
    {
     "data": {
      "text/html": [
       "<div>\n",
       "<style scoped>\n",
       "    .dataframe tbody tr th:only-of-type {\n",
       "        vertical-align: middle;\n",
       "    }\n",
       "\n",
       "    .dataframe tbody tr th {\n",
       "        vertical-align: top;\n",
       "    }\n",
       "\n",
       "    .dataframe thead th {\n",
       "        text-align: right;\n",
       "    }\n",
       "</style>\n",
       "<table border=\"1\" class=\"dataframe\">\n",
       "  <thead>\n",
       "    <tr style=\"text-align: right;\">\n",
       "      <th></th>\n",
       "      <th>membership_id</th>\n",
       "      <th>cycle_number</th>\n",
       "      <th>round_number</th>\n",
       "      <th>round_type</th>\n",
       "      <th>round_current_status</th>\n",
       "    </tr>\n",
       "  </thead>\n",
       "  <tbody>\n",
       "    <tr>\n",
       "      <th>37</th>\n",
       "      <td>cltr095r700010cl6hvxx82bt</td>\n",
       "      <td>1</td>\n",
       "      <td>1</td>\n",
       "      <td>ANY_IVF_WITH_FRESH_TRANSFER</td>\n",
       "      <td>UNSUCCESSFUL</td>\n",
       "    </tr>\n",
       "    <tr>\n",
       "      <th>38</th>\n",
       "      <td>cltr095r700010cl6hvxx82bt</td>\n",
       "      <td>2</td>\n",
       "      <td>2</td>\n",
       "      <td>ANY_IVF_WITH_FRESH_TRANSFER</td>\n",
       "      <td>PREGNANCY</td>\n",
       "    </tr>\n",
       "  </tbody>\n",
       "</table>\n",
       "</div>"
      ],
      "text/plain": [
       "                membership_id  cycle_number  round_number  \\\n",
       "37  cltr095r700010cl6hvxx82bt             1             1   \n",
       "38  cltr095r700010cl6hvxx82bt             2             2   \n",
       "\n",
       "                     round_type round_current_status  \n",
       "37  ANY_IVF_WITH_FRESH_TRANSFER         UNSUCCESSFUL  \n",
       "38  ANY_IVF_WITH_FRESH_TRANSFER            PREGNANCY  "
      ]
     },
     "metadata": {},
     "output_type": "display_data"
    },
    {
     "name": "stdout",
     "output_type": "stream",
     "text": [
      "\n",
      "Data for Member ID: clv5bwdln00010dl31s8v17rh\n"
     ]
    },
    {
     "data": {
      "text/html": [
       "<div>\n",
       "<style scoped>\n",
       "    .dataframe tbody tr th:only-of-type {\n",
       "        vertical-align: middle;\n",
       "    }\n",
       "\n",
       "    .dataframe tbody tr th {\n",
       "        vertical-align: top;\n",
       "    }\n",
       "\n",
       "    .dataframe thead th {\n",
       "        text-align: right;\n",
       "    }\n",
       "</style>\n",
       "<table border=\"1\" class=\"dataframe\">\n",
       "  <thead>\n",
       "    <tr style=\"text-align: right;\">\n",
       "      <th></th>\n",
       "      <th>membership_id</th>\n",
       "      <th>cycle_number</th>\n",
       "      <th>round_number</th>\n",
       "      <th>round_type</th>\n",
       "      <th>round_current_status</th>\n",
       "    </tr>\n",
       "  </thead>\n",
       "  <tbody>\n",
       "    <tr>\n",
       "      <th>73</th>\n",
       "      <td>clv5bwdln00010dl31s8v17rh</td>\n",
       "      <td>1</td>\n",
       "      <td>1</td>\n",
       "      <td>ANY_IVF_WITH_FRESH_TRANSFER</td>\n",
       "      <td>UNSUCCESSFUL</td>\n",
       "    </tr>\n",
       "    <tr>\n",
       "      <th>72</th>\n",
       "      <td>clv5bwdln00010dl31s8v17rh</td>\n",
       "      <td>2</td>\n",
       "      <td>2</td>\n",
       "      <td>ANY_IVF_WITH_FRESH_TRANSFER</td>\n",
       "      <td>PENDING</td>\n",
       "    </tr>\n",
       "  </tbody>\n",
       "</table>\n",
       "</div>"
      ],
      "text/plain": [
       "                membership_id  cycle_number  round_number  \\\n",
       "73  clv5bwdln00010dl31s8v17rh             1             1   \n",
       "72  clv5bwdln00010dl31s8v17rh             2             2   \n",
       "\n",
       "                     round_type round_current_status  \n",
       "73  ANY_IVF_WITH_FRESH_TRANSFER         UNSUCCESSFUL  \n",
       "72  ANY_IVF_WITH_FRESH_TRANSFER              PENDING  "
      ]
     },
     "metadata": {},
     "output_type": "display_data"
    },
    {
     "name": "stdout",
     "output_type": "stream",
     "text": [
      "\n",
      "Data for Member ID: clrp4kifk00010dl30y7y9s5d\n"
     ]
    },
    {
     "data": {
      "text/html": [
       "<div>\n",
       "<style scoped>\n",
       "    .dataframe tbody tr th:only-of-type {\n",
       "        vertical-align: middle;\n",
       "    }\n",
       "\n",
       "    .dataframe tbody tr th {\n",
       "        vertical-align: top;\n",
       "    }\n",
       "\n",
       "    .dataframe thead th {\n",
       "        text-align: right;\n",
       "    }\n",
       "</style>\n",
       "<table border=\"1\" class=\"dataframe\">\n",
       "  <thead>\n",
       "    <tr style=\"text-align: right;\">\n",
       "      <th></th>\n",
       "      <th>membership_id</th>\n",
       "      <th>cycle_number</th>\n",
       "      <th>round_number</th>\n",
       "      <th>round_type</th>\n",
       "      <th>round_current_status</th>\n",
       "    </tr>\n",
       "  </thead>\n",
       "  <tbody>\n",
       "    <tr>\n",
       "      <th>5</th>\n",
       "      <td>clrp4kifk00010dl30y7y9s5d</td>\n",
       "      <td>1</td>\n",
       "      <td>1</td>\n",
       "      <td>ANY_IVF_WITH_FRESH_TRANSFER</td>\n",
       "      <td>UNSUCCESSFUL</td>\n",
       "    </tr>\n",
       "    <tr>\n",
       "      <th>7</th>\n",
       "      <td>clrp4kifk00010dl30y7y9s5d</td>\n",
       "      <td>2</td>\n",
       "      <td>2</td>\n",
       "      <td>ANY_IVF_WITH_FRESH_TRANSFER</td>\n",
       "      <td>UNSUCCESSFUL</td>\n",
       "    </tr>\n",
       "    <tr>\n",
       "      <th>6</th>\n",
       "      <td>clrp4kifk00010dl30y7y9s5d</td>\n",
       "      <td>2</td>\n",
       "      <td>3</td>\n",
       "      <td>FROZEN_TRANSFER</td>\n",
       "      <td>TREATMENT_STARTED</td>\n",
       "    </tr>\n",
       "  </tbody>\n",
       "</table>\n",
       "</div>"
      ],
      "text/plain": [
       "               membership_id  cycle_number  round_number  \\\n",
       "5  clrp4kifk00010dl30y7y9s5d             1             1   \n",
       "7  clrp4kifk00010dl30y7y9s5d             2             2   \n",
       "6  clrp4kifk00010dl30y7y9s5d             2             3   \n",
       "\n",
       "                    round_type round_current_status  \n",
       "5  ANY_IVF_WITH_FRESH_TRANSFER         UNSUCCESSFUL  \n",
       "7  ANY_IVF_WITH_FRESH_TRANSFER         UNSUCCESSFUL  \n",
       "6              FROZEN_TRANSFER    TREATMENT_STARTED  "
      ]
     },
     "metadata": {},
     "output_type": "display_data"
    },
    {
     "name": "stdout",
     "output_type": "stream",
     "text": [
      "\n",
      "Data for Member ID: clujrhhx400010djr0hop7jxm\n"
     ]
    },
    {
     "data": {
      "text/html": [
       "<div>\n",
       "<style scoped>\n",
       "    .dataframe tbody tr th:only-of-type {\n",
       "        vertical-align: middle;\n",
       "    }\n",
       "\n",
       "    .dataframe tbody tr th {\n",
       "        vertical-align: top;\n",
       "    }\n",
       "\n",
       "    .dataframe thead th {\n",
       "        text-align: right;\n",
       "    }\n",
       "</style>\n",
       "<table border=\"1\" class=\"dataframe\">\n",
       "  <thead>\n",
       "    <tr style=\"text-align: right;\">\n",
       "      <th></th>\n",
       "      <th>membership_id</th>\n",
       "      <th>cycle_number</th>\n",
       "      <th>round_number</th>\n",
       "      <th>round_type</th>\n",
       "      <th>round_current_status</th>\n",
       "    </tr>\n",
       "  </thead>\n",
       "  <tbody>\n",
       "    <tr>\n",
       "      <th>59</th>\n",
       "      <td>clujrhhx400010djr0hop7jxm</td>\n",
       "      <td>1</td>\n",
       "      <td>1</td>\n",
       "      <td>ANY_IVF_WITH_FRESH_TRANSFER</td>\n",
       "      <td>UNSUCCESSFUL</td>\n",
       "    </tr>\n",
       "    <tr>\n",
       "      <th>57</th>\n",
       "      <td>clujrhhx400010djr0hop7jxm</td>\n",
       "      <td>2</td>\n",
       "      <td>2</td>\n",
       "      <td>ANY_IVF_WITH_FRESH_TRANSFER</td>\n",
       "      <td>CANCELLED</td>\n",
       "    </tr>\n",
       "    <tr>\n",
       "      <th>58</th>\n",
       "      <td>clujrhhx400010djr0hop7jxm</td>\n",
       "      <td>2</td>\n",
       "      <td>3</td>\n",
       "      <td>FROZEN_TRANSFER</td>\n",
       "      <td>TREATMENT_STARTED</td>\n",
       "    </tr>\n",
       "  </tbody>\n",
       "</table>\n",
       "</div>"
      ],
      "text/plain": [
       "                membership_id  cycle_number  round_number  \\\n",
       "59  clujrhhx400010djr0hop7jxm             1             1   \n",
       "57  clujrhhx400010djr0hop7jxm             2             2   \n",
       "58  clujrhhx400010djr0hop7jxm             2             3   \n",
       "\n",
       "                     round_type round_current_status  \n",
       "59  ANY_IVF_WITH_FRESH_TRANSFER         UNSUCCESSFUL  \n",
       "57  ANY_IVF_WITH_FRESH_TRANSFER            CANCELLED  \n",
       "58              FROZEN_TRANSFER    TREATMENT_STARTED  "
      ]
     },
     "metadata": {},
     "output_type": "display_data"
    },
    {
     "name": "stdout",
     "output_type": "stream",
     "text": [
      "\n",
      "Data for Member ID: clwqdfqi900010dl24tug27xk\n"
     ]
    },
    {
     "data": {
      "text/html": [
       "<div>\n",
       "<style scoped>\n",
       "    .dataframe tbody tr th:only-of-type {\n",
       "        vertical-align: middle;\n",
       "    }\n",
       "\n",
       "    .dataframe tbody tr th {\n",
       "        vertical-align: top;\n",
       "    }\n",
       "\n",
       "    .dataframe thead th {\n",
       "        text-align: right;\n",
       "    }\n",
       "</style>\n",
       "<table border=\"1\" class=\"dataframe\">\n",
       "  <thead>\n",
       "    <tr style=\"text-align: right;\">\n",
       "      <th></th>\n",
       "      <th>membership_id</th>\n",
       "      <th>cycle_number</th>\n",
       "      <th>round_number</th>\n",
       "      <th>round_type</th>\n",
       "      <th>round_current_status</th>\n",
       "    </tr>\n",
       "  </thead>\n",
       "  <tbody>\n",
       "    <tr>\n",
       "      <th>120</th>\n",
       "      <td>clwqdfqi900010dl24tug27xk</td>\n",
       "      <td>1</td>\n",
       "      <td>1</td>\n",
       "      <td>ANY_IVF_WITH_EMBRYO_FREEZING</td>\n",
       "      <td>CANCELLED</td>\n",
       "    </tr>\n",
       "    <tr>\n",
       "      <th>119</th>\n",
       "      <td>clwqdfqi900010dl24tug27xk</td>\n",
       "      <td>2</td>\n",
       "      <td>2</td>\n",
       "      <td>ANY_IVF_WITH_EMBRYO_FREEZING</td>\n",
       "      <td>TREATMENT_STARTED</td>\n",
       "    </tr>\n",
       "  </tbody>\n",
       "</table>\n",
       "</div>"
      ],
      "text/plain": [
       "                 membership_id  cycle_number  round_number  \\\n",
       "120  clwqdfqi900010dl24tug27xk             1             1   \n",
       "119  clwqdfqi900010dl24tug27xk             2             2   \n",
       "\n",
       "                       round_type round_current_status  \n",
       "120  ANY_IVF_WITH_EMBRYO_FREEZING            CANCELLED  \n",
       "119  ANY_IVF_WITH_EMBRYO_FREEZING    TREATMENT_STARTED  "
      ]
     },
     "metadata": {},
     "output_type": "display_data"
    },
    {
     "name": "stdout",
     "output_type": "stream",
     "text": [
      "\n",
      "Data for Member ID: clsc1oywi00010bjscbmrdo51\n"
     ]
    },
    {
     "data": {
      "text/html": [
       "<div>\n",
       "<style scoped>\n",
       "    .dataframe tbody tr th:only-of-type {\n",
       "        vertical-align: middle;\n",
       "    }\n",
       "\n",
       "    .dataframe tbody tr th {\n",
       "        vertical-align: top;\n",
       "    }\n",
       "\n",
       "    .dataframe thead th {\n",
       "        text-align: right;\n",
       "    }\n",
       "</style>\n",
       "<table border=\"1\" class=\"dataframe\">\n",
       "  <thead>\n",
       "    <tr style=\"text-align: right;\">\n",
       "      <th></th>\n",
       "      <th>membership_id</th>\n",
       "      <th>cycle_number</th>\n",
       "      <th>round_number</th>\n",
       "      <th>round_type</th>\n",
       "      <th>round_current_status</th>\n",
       "    </tr>\n",
       "  </thead>\n",
       "  <tbody>\n",
       "    <tr>\n",
       "      <th>19</th>\n",
       "      <td>clsc1oywi00010bjscbmrdo51</td>\n",
       "      <td>1</td>\n",
       "      <td>1</td>\n",
       "      <td>FROZEN_TRANSFER</td>\n",
       "      <td>UNSUCCESSFUL</td>\n",
       "    </tr>\n",
       "    <tr>\n",
       "      <th>18</th>\n",
       "      <td>clsc1oywi00010bjscbmrdo51</td>\n",
       "      <td>2</td>\n",
       "      <td>2</td>\n",
       "      <td>ANY_IVF_WITH_FRESH_TRANSFER</td>\n",
       "      <td>PENDING</td>\n",
       "    </tr>\n",
       "  </tbody>\n",
       "</table>\n",
       "</div>"
      ],
      "text/plain": [
       "                membership_id  cycle_number  round_number  \\\n",
       "19  clsc1oywi00010bjscbmrdo51             1             1   \n",
       "18  clsc1oywi00010bjscbmrdo51             2             2   \n",
       "\n",
       "                     round_type round_current_status  \n",
       "19              FROZEN_TRANSFER         UNSUCCESSFUL  \n",
       "18  ANY_IVF_WITH_FRESH_TRANSFER              PENDING  "
      ]
     },
     "metadata": {},
     "output_type": "display_data"
    },
    {
     "name": "stdout",
     "output_type": "stream",
     "text": [
      "\n",
      "Data for Member ID: clve869zo00010bl8524sgwqc\n"
     ]
    },
    {
     "data": {
      "text/html": [
       "<div>\n",
       "<style scoped>\n",
       "    .dataframe tbody tr th:only-of-type {\n",
       "        vertical-align: middle;\n",
       "    }\n",
       "\n",
       "    .dataframe tbody tr th {\n",
       "        vertical-align: top;\n",
       "    }\n",
       "\n",
       "    .dataframe thead th {\n",
       "        text-align: right;\n",
       "    }\n",
       "</style>\n",
       "<table border=\"1\" class=\"dataframe\">\n",
       "  <thead>\n",
       "    <tr style=\"text-align: right;\">\n",
       "      <th></th>\n",
       "      <th>membership_id</th>\n",
       "      <th>cycle_number</th>\n",
       "      <th>round_number</th>\n",
       "      <th>round_type</th>\n",
       "      <th>round_current_status</th>\n",
       "    </tr>\n",
       "  </thead>\n",
       "  <tbody>\n",
       "    <tr>\n",
       "      <th>80</th>\n",
       "      <td>clve869zo00010bl8524sgwqc</td>\n",
       "      <td>1</td>\n",
       "      <td>1</td>\n",
       "      <td>ANY_IVF_WITH_EMBRYO_FREEZING</td>\n",
       "      <td>UNSUCCESSFUL</td>\n",
       "    </tr>\n",
       "    <tr>\n",
       "      <th>79</th>\n",
       "      <td>clve869zo00010bl8524sgwqc</td>\n",
       "      <td>2</td>\n",
       "      <td>2</td>\n",
       "      <td>ANY_IVF_WITH_EMBRYO_FREEZING</td>\n",
       "      <td>UNSUCCESSFUL</td>\n",
       "    </tr>\n",
       "  </tbody>\n",
       "</table>\n",
       "</div>"
      ],
      "text/plain": [
       "                membership_id  cycle_number  round_number  \\\n",
       "80  clve869zo00010bl8524sgwqc             1             1   \n",
       "79  clve869zo00010bl8524sgwqc             2             2   \n",
       "\n",
       "                      round_type round_current_status  \n",
       "80  ANY_IVF_WITH_EMBRYO_FREEZING         UNSUCCESSFUL  \n",
       "79  ANY_IVF_WITH_EMBRYO_FREEZING         UNSUCCESSFUL  "
      ]
     },
     "metadata": {},
     "output_type": "display_data"
    },
    {
     "name": "stdout",
     "output_type": "stream",
     "text": [
      "\n",
      "Data for Member ID: clw0nafr000010jmh52x5de3n\n"
     ]
    },
    {
     "data": {
      "text/html": [
       "<div>\n",
       "<style scoped>\n",
       "    .dataframe tbody tr th:only-of-type {\n",
       "        vertical-align: middle;\n",
       "    }\n",
       "\n",
       "    .dataframe tbody tr th {\n",
       "        vertical-align: top;\n",
       "    }\n",
       "\n",
       "    .dataframe thead th {\n",
       "        text-align: right;\n",
       "    }\n",
       "</style>\n",
       "<table border=\"1\" class=\"dataframe\">\n",
       "  <thead>\n",
       "    <tr style=\"text-align: right;\">\n",
       "      <th></th>\n",
       "      <th>membership_id</th>\n",
       "      <th>cycle_number</th>\n",
       "      <th>round_number</th>\n",
       "      <th>round_type</th>\n",
       "      <th>round_current_status</th>\n",
       "    </tr>\n",
       "  </thead>\n",
       "  <tbody>\n",
       "    <tr>\n",
       "      <th>100</th>\n",
       "      <td>clw0nafr000010jmh52x5de3n</td>\n",
       "      <td>1</td>\n",
       "      <td>1</td>\n",
       "      <td>ANY_IVF_WITH_FRESH_TRANSFER</td>\n",
       "      <td>UNSUCCESSFUL</td>\n",
       "    </tr>\n",
       "    <tr>\n",
       "      <th>101</th>\n",
       "      <td>clw0nafr000010jmh52x5de3n</td>\n",
       "      <td>2</td>\n",
       "      <td>2</td>\n",
       "      <td>ANY_IVF_WITH_FRESH_TRANSFER</td>\n",
       "      <td>TREATMENT_STARTED</td>\n",
       "    </tr>\n",
       "  </tbody>\n",
       "</table>\n",
       "</div>"
      ],
      "text/plain": [
       "                 membership_id  cycle_number  round_number  \\\n",
       "100  clw0nafr000010jmh52x5de3n             1             1   \n",
       "101  clw0nafr000010jmh52x5de3n             2             2   \n",
       "\n",
       "                      round_type round_current_status  \n",
       "100  ANY_IVF_WITH_FRESH_TRANSFER         UNSUCCESSFUL  \n",
       "101  ANY_IVF_WITH_FRESH_TRANSFER    TREATMENT_STARTED  "
      ]
     },
     "metadata": {},
     "output_type": "display_data"
    },
    {
     "name": "stdout",
     "output_type": "stream",
     "text": [
      "\n",
      "Data for Member ID: clx91g833000t0dl8a3pcfn7n\n"
     ]
    },
    {
     "data": {
      "text/html": [
       "<div>\n",
       "<style scoped>\n",
       "    .dataframe tbody tr th:only-of-type {\n",
       "        vertical-align: middle;\n",
       "    }\n",
       "\n",
       "    .dataframe tbody tr th {\n",
       "        vertical-align: top;\n",
       "    }\n",
       "\n",
       "    .dataframe thead th {\n",
       "        text-align: right;\n",
       "    }\n",
       "</style>\n",
       "<table border=\"1\" class=\"dataframe\">\n",
       "  <thead>\n",
       "    <tr style=\"text-align: right;\">\n",
       "      <th></th>\n",
       "      <th>membership_id</th>\n",
       "      <th>cycle_number</th>\n",
       "      <th>round_number</th>\n",
       "      <th>round_type</th>\n",
       "      <th>round_current_status</th>\n",
       "    </tr>\n",
       "  </thead>\n",
       "  <tbody>\n",
       "    <tr>\n",
       "      <th>132</th>\n",
       "      <td>clx91g833000t0dl8a3pcfn7n</td>\n",
       "      <td>1</td>\n",
       "      <td>1</td>\n",
       "      <td>ANY_IVF_WITH_EMBRYO_FREEZING</td>\n",
       "      <td>UNSUCCESSFUL</td>\n",
       "    </tr>\n",
       "    <tr>\n",
       "      <th>131</th>\n",
       "      <td>clx91g833000t0dl8a3pcfn7n</td>\n",
       "      <td>2</td>\n",
       "      <td>2</td>\n",
       "      <td>ANY_IVF_WITH_EMBRYO_FREEZING</td>\n",
       "      <td>TREATMENT_STARTED</td>\n",
       "    </tr>\n",
       "  </tbody>\n",
       "</table>\n",
       "</div>"
      ],
      "text/plain": [
       "                 membership_id  cycle_number  round_number  \\\n",
       "132  clx91g833000t0dl8a3pcfn7n             1             1   \n",
       "131  clx91g833000t0dl8a3pcfn7n             2             2   \n",
       "\n",
       "                       round_type round_current_status  \n",
       "132  ANY_IVF_WITH_EMBRYO_FREEZING         UNSUCCESSFUL  \n",
       "131  ANY_IVF_WITH_EMBRYO_FREEZING    TREATMENT_STARTED  "
      ]
     },
     "metadata": {},
     "output_type": "display_data"
    }
   ],
   "source": [
    "# Identify members who went through multiple cycles\n",
    "multi_cycle_members = rounds_df.groupby('membership_id')['cycle_number'].nunique()\n",
    "multi_cycle_members = multi_cycle_members[multi_cycle_members > 1]\n",
    "\n",
    "# Filter the original DataFrame for these members\n",
    "multi_cycle_data = rounds_df[rounds_df['membership_id'].isin(multi_cycle_members.index)]\n",
    "\n",
    "# Randomly select 5 members who went through multiple cycles\n",
    "random_members = multi_cycle_members.sample(10, random_state=42).index\n",
    "\n",
    "# Display data for the selected members ordered by cycle_number and round_number ASC\n",
    "for member_id in random_members:\n",
    "    member_data = multi_cycle_data[multi_cycle_data['membership_id'] == member_id]\n",
    "    member_data = member_data.sort_values(by=['cycle_number', 'round_number'], ascending=True)\n",
    "    print(f\"\\nData for Member ID: {member_id}\")\n",
    "    display(member_data)\n"
   ]
  },
  {
   "cell_type": "code",
   "execution_count": 77,
   "id": "49e27ed0-d047-40a3-82ba-a2e8397830b6",
   "metadata": {},
   "outputs": [
    {
     "data": {
      "text/html": [
       "<div>\n",
       "<style scoped>\n",
       "    .dataframe tbody tr th:only-of-type {\n",
       "        vertical-align: middle;\n",
       "    }\n",
       "\n",
       "    .dataframe tbody tr th {\n",
       "        vertical-align: top;\n",
       "    }\n",
       "\n",
       "    .dataframe thead th {\n",
       "        text-align: right;\n",
       "    }\n",
       "</style>\n",
       "<table border=\"1\" class=\"dataframe\">\n",
       "  <thead>\n",
       "    <tr style=\"text-align: right;\">\n",
       "      <th></th>\n",
       "      <th>membership_id</th>\n",
       "      <th>cycle_number</th>\n",
       "      <th>round_number</th>\n",
       "      <th>round_type</th>\n",
       "      <th>round_current_status</th>\n",
       "    </tr>\n",
       "  </thead>\n",
       "  <tbody>\n",
       "    <tr>\n",
       "      <th>2</th>\n",
       "      <td>clrhmcyo600010cjn1739f02m</td>\n",
       "      <td>1</td>\n",
       "      <td>1</td>\n",
       "      <td>ANY_IVF_WITH_FRESH_TRANSFER</td>\n",
       "      <td>UNSUCCESSFUL</td>\n",
       "    </tr>\n",
       "    <tr>\n",
       "      <th>1</th>\n",
       "      <td>clrhmcyo600010cjn1739f02m</td>\n",
       "      <td>2</td>\n",
       "      <td>2</td>\n",
       "      <td>ANY_IVF_WITH_FRESH_TRANSFER</td>\n",
       "      <td>TREATMENT_STARTED</td>\n",
       "    </tr>\n",
       "    <tr>\n",
       "      <th>5</th>\n",
       "      <td>clrp4kifk00010dl30y7y9s5d</td>\n",
       "      <td>1</td>\n",
       "      <td>1</td>\n",
       "      <td>ANY_IVF_WITH_FRESH_TRANSFER</td>\n",
       "      <td>UNSUCCESSFUL</td>\n",
       "    </tr>\n",
       "    <tr>\n",
       "      <th>7</th>\n",
       "      <td>clrp4kifk00010dl30y7y9s5d</td>\n",
       "      <td>2</td>\n",
       "      <td>2</td>\n",
       "      <td>ANY_IVF_WITH_FRESH_TRANSFER</td>\n",
       "      <td>UNSUCCESSFUL</td>\n",
       "    </tr>\n",
       "    <tr>\n",
       "      <th>6</th>\n",
       "      <td>clrp4kifk00010dl30y7y9s5d</td>\n",
       "      <td>2</td>\n",
       "      <td>3</td>\n",
       "      <td>FROZEN_TRANSFER</td>\n",
       "      <td>TREATMENT_STARTED</td>\n",
       "    </tr>\n",
       "    <tr>\n",
       "      <th>17</th>\n",
       "      <td>clsbq8w3q00010mjo5ydteyn5</td>\n",
       "      <td>2</td>\n",
       "      <td>1</td>\n",
       "      <td>ANY_IVF_WITH_FRESH_TRANSFER</td>\n",
       "      <td>UNSUCCESSFUL</td>\n",
       "    </tr>\n",
       "    <tr>\n",
       "      <th>16</th>\n",
       "      <td>clsbq8w3q00010mjo5ydteyn5</td>\n",
       "      <td>3</td>\n",
       "      <td>2</td>\n",
       "      <td>ANY_IVF_WITH_FRESH_TRANSFER</td>\n",
       "      <td>PENDING</td>\n",
       "    </tr>\n",
       "    <tr>\n",
       "      <th>19</th>\n",
       "      <td>clsc1oywi00010bjscbmrdo51</td>\n",
       "      <td>1</td>\n",
       "      <td>1</td>\n",
       "      <td>FROZEN_TRANSFER</td>\n",
       "      <td>UNSUCCESSFUL</td>\n",
       "    </tr>\n",
       "    <tr>\n",
       "      <th>18</th>\n",
       "      <td>clsc1oywi00010bjscbmrdo51</td>\n",
       "      <td>2</td>\n",
       "      <td>2</td>\n",
       "      <td>ANY_IVF_WITH_FRESH_TRANSFER</td>\n",
       "      <td>PENDING</td>\n",
       "    </tr>\n",
       "    <tr>\n",
       "      <th>21</th>\n",
       "      <td>clsog29bz00010djxg33sbfyq</td>\n",
       "      <td>1</td>\n",
       "      <td>3</td>\n",
       "      <td>ANY_IVF_WITH_FRESH_TRANSFER</td>\n",
       "      <td>UNSUCCESSFUL</td>\n",
       "    </tr>\n",
       "    <tr>\n",
       "      <th>20</th>\n",
       "      <td>clsog29bz00010djxg33sbfyq</td>\n",
       "      <td>2</td>\n",
       "      <td>4</td>\n",
       "      <td>ANY_IVF_WITH_FRESH_TRANSFER</td>\n",
       "      <td>TREATMENT_STARTED</td>\n",
       "    </tr>\n",
       "    <tr>\n",
       "      <th>37</th>\n",
       "      <td>cltr095r700010cl6hvxx82bt</td>\n",
       "      <td>1</td>\n",
       "      <td>1</td>\n",
       "      <td>ANY_IVF_WITH_FRESH_TRANSFER</td>\n",
       "      <td>UNSUCCESSFUL</td>\n",
       "    </tr>\n",
       "    <tr>\n",
       "      <th>38</th>\n",
       "      <td>cltr095r700010cl6hvxx82bt</td>\n",
       "      <td>2</td>\n",
       "      <td>2</td>\n",
       "      <td>ANY_IVF_WITH_FRESH_TRANSFER</td>\n",
       "      <td>PREGNANCY</td>\n",
       "    </tr>\n",
       "    <tr>\n",
       "      <th>41</th>\n",
       "      <td>cltrhc9au000i0cjvhmgc7263</td>\n",
       "      <td>1</td>\n",
       "      <td>1</td>\n",
       "      <td>ANY_IVF_WITH_FRESH_TRANSFER</td>\n",
       "      <td>UNSUCCESSFUL</td>\n",
       "    </tr>\n",
       "    <tr>\n",
       "      <th>40</th>\n",
       "      <td>cltrhc9au000i0cjvhmgc7263</td>\n",
       "      <td>2</td>\n",
       "      <td>2</td>\n",
       "      <td>ANY_IVF_WITH_EMBRYO_FREEZING</td>\n",
       "      <td>UNSUCCESSFUL</td>\n",
       "    </tr>\n",
       "    <tr>\n",
       "      <th>39</th>\n",
       "      <td>cltrhc9au000i0cjvhmgc7263</td>\n",
       "      <td>3</td>\n",
       "      <td>3</td>\n",
       "      <td>ANY_IVF_WITH_EMBRYO_FREEZING</td>\n",
       "      <td>PENDING</td>\n",
       "    </tr>\n",
       "    <tr>\n",
       "      <th>47</th>\n",
       "      <td>clu12oyjk00040bl90op86z4b</td>\n",
       "      <td>1</td>\n",
       "      <td>1</td>\n",
       "      <td>ANY_IVF_WITH_FRESH_TRANSFER</td>\n",
       "      <td>UNSUCCESSFUL</td>\n",
       "    </tr>\n",
       "    <tr>\n",
       "      <th>48</th>\n",
       "      <td>clu12oyjk00040bl90op86z4b</td>\n",
       "      <td>2</td>\n",
       "      <td>2</td>\n",
       "      <td>ANY_IVF_WITH_FRESH_TRANSFER</td>\n",
       "      <td>PREGNANCY</td>\n",
       "    </tr>\n",
       "    <tr>\n",
       "      <th>59</th>\n",
       "      <td>clujrhhx400010djr0hop7jxm</td>\n",
       "      <td>1</td>\n",
       "      <td>1</td>\n",
       "      <td>ANY_IVF_WITH_FRESH_TRANSFER</td>\n",
       "      <td>UNSUCCESSFUL</td>\n",
       "    </tr>\n",
       "    <tr>\n",
       "      <th>57</th>\n",
       "      <td>clujrhhx400010djr0hop7jxm</td>\n",
       "      <td>2</td>\n",
       "      <td>2</td>\n",
       "      <td>ANY_IVF_WITH_FRESH_TRANSFER</td>\n",
       "      <td>CANCELLED</td>\n",
       "    </tr>\n",
       "    <tr>\n",
       "      <th>58</th>\n",
       "      <td>clujrhhx400010djr0hop7jxm</td>\n",
       "      <td>2</td>\n",
       "      <td>3</td>\n",
       "      <td>FROZEN_TRANSFER</td>\n",
       "      <td>TREATMENT_STARTED</td>\n",
       "    </tr>\n",
       "    <tr>\n",
       "      <th>63</th>\n",
       "      <td>clusms8uk00010dl79j6cb85v</td>\n",
       "      <td>1</td>\n",
       "      <td>1</td>\n",
       "      <td>ANY_IVF_WITH_FRESH_TRANSFER</td>\n",
       "      <td>UNSUCCESSFUL</td>\n",
       "    </tr>\n",
       "    <tr>\n",
       "      <th>64</th>\n",
       "      <td>clusms8uk00010dl79j6cb85v</td>\n",
       "      <td>2</td>\n",
       "      <td>2</td>\n",
       "      <td>ANY_IVF_WITH_FRESH_TRANSFER</td>\n",
       "      <td>PENDING</td>\n",
       "    </tr>\n",
       "    <tr>\n",
       "      <th>70</th>\n",
       "      <td>cluwkrgnf00010bk25kic02pf</td>\n",
       "      <td>1</td>\n",
       "      <td>1</td>\n",
       "      <td>ANY_IVF_WITH_FRESH_TRANSFER</td>\n",
       "      <td>UNSUCCESSFUL</td>\n",
       "    </tr>\n",
       "    <tr>\n",
       "      <th>69</th>\n",
       "      <td>cluwkrgnf00010bk25kic02pf</td>\n",
       "      <td>2</td>\n",
       "      <td>2</td>\n",
       "      <td>ANY_IVF_WITH_FRESH_TRANSFER</td>\n",
       "      <td>PENDING</td>\n",
       "    </tr>\n",
       "    <tr>\n",
       "      <th>73</th>\n",
       "      <td>clv5bwdln00010dl31s8v17rh</td>\n",
       "      <td>1</td>\n",
       "      <td>1</td>\n",
       "      <td>ANY_IVF_WITH_FRESH_TRANSFER</td>\n",
       "      <td>UNSUCCESSFUL</td>\n",
       "    </tr>\n",
       "    <tr>\n",
       "      <th>72</th>\n",
       "      <td>clv5bwdln00010dl31s8v17rh</td>\n",
       "      <td>2</td>\n",
       "      <td>2</td>\n",
       "      <td>ANY_IVF_WITH_FRESH_TRANSFER</td>\n",
       "      <td>PENDING</td>\n",
       "    </tr>\n",
       "    <tr>\n",
       "      <th>78</th>\n",
       "      <td>clvdqsd8t00010bjn2nvlbinb</td>\n",
       "      <td>1</td>\n",
       "      <td>1</td>\n",
       "      <td>ANY_IVF_WITH_FRESH_TRANSFER</td>\n",
       "      <td>CANCELLED</td>\n",
       "    </tr>\n",
       "    <tr>\n",
       "      <th>77</th>\n",
       "      <td>clvdqsd8t00010bjn2nvlbinb</td>\n",
       "      <td>2</td>\n",
       "      <td>2</td>\n",
       "      <td>ANY_IVF_WITH_FRESH_TRANSFER</td>\n",
       "      <td>UNSUCCESSFUL</td>\n",
       "    </tr>\n",
       "    <tr>\n",
       "      <th>80</th>\n",
       "      <td>clve869zo00010bl8524sgwqc</td>\n",
       "      <td>1</td>\n",
       "      <td>1</td>\n",
       "      <td>ANY_IVF_WITH_EMBRYO_FREEZING</td>\n",
       "      <td>UNSUCCESSFUL</td>\n",
       "    </tr>\n",
       "    <tr>\n",
       "      <th>79</th>\n",
       "      <td>clve869zo00010bl8524sgwqc</td>\n",
       "      <td>2</td>\n",
       "      <td>2</td>\n",
       "      <td>ANY_IVF_WITH_EMBRYO_FREEZING</td>\n",
       "      <td>UNSUCCESSFUL</td>\n",
       "    </tr>\n",
       "    <tr>\n",
       "      <th>91</th>\n",
       "      <td>clvmb4r1c00010dl32pnefzxc</td>\n",
       "      <td>1</td>\n",
       "      <td>1</td>\n",
       "      <td>ANY_IVF_WITH_FRESH_TRANSFER</td>\n",
       "      <td>UNSUCCESSFUL</td>\n",
       "    </tr>\n",
       "    <tr>\n",
       "      <th>90</th>\n",
       "      <td>clvmb4r1c00010dl32pnefzxc</td>\n",
       "      <td>3</td>\n",
       "      <td>2</td>\n",
       "      <td>ANY_IVF_WITH_FRESH_TRANSFER</td>\n",
       "      <td>TREATMENT_STARTED</td>\n",
       "    </tr>\n",
       "    <tr>\n",
       "      <th>100</th>\n",
       "      <td>clw0nafr000010jmh52x5de3n</td>\n",
       "      <td>1</td>\n",
       "      <td>1</td>\n",
       "      <td>ANY_IVF_WITH_FRESH_TRANSFER</td>\n",
       "      <td>UNSUCCESSFUL</td>\n",
       "    </tr>\n",
       "    <tr>\n",
       "      <th>101</th>\n",
       "      <td>clw0nafr000010jmh52x5de3n</td>\n",
       "      <td>2</td>\n",
       "      <td>2</td>\n",
       "      <td>ANY_IVF_WITH_FRESH_TRANSFER</td>\n",
       "      <td>TREATMENT_STARTED</td>\n",
       "    </tr>\n",
       "    <tr>\n",
       "      <th>120</th>\n",
       "      <td>clwqdfqi900010dl24tug27xk</td>\n",
       "      <td>1</td>\n",
       "      <td>1</td>\n",
       "      <td>ANY_IVF_WITH_EMBRYO_FREEZING</td>\n",
       "      <td>CANCELLED</td>\n",
       "    </tr>\n",
       "    <tr>\n",
       "      <th>119</th>\n",
       "      <td>clwqdfqi900010dl24tug27xk</td>\n",
       "      <td>2</td>\n",
       "      <td>2</td>\n",
       "      <td>ANY_IVF_WITH_EMBRYO_FREEZING</td>\n",
       "      <td>TREATMENT_STARTED</td>\n",
       "    </tr>\n",
       "    <tr>\n",
       "      <th>132</th>\n",
       "      <td>clx91g833000t0dl8a3pcfn7n</td>\n",
       "      <td>1</td>\n",
       "      <td>1</td>\n",
       "      <td>ANY_IVF_WITH_EMBRYO_FREEZING</td>\n",
       "      <td>UNSUCCESSFUL</td>\n",
       "    </tr>\n",
       "    <tr>\n",
       "      <th>131</th>\n",
       "      <td>clx91g833000t0dl8a3pcfn7n</td>\n",
       "      <td>2</td>\n",
       "      <td>2</td>\n",
       "      <td>ANY_IVF_WITH_EMBRYO_FREEZING</td>\n",
       "      <td>TREATMENT_STARTED</td>\n",
       "    </tr>\n",
       "    <tr>\n",
       "      <th>139</th>\n",
       "      <td>clxdei6f400010dl68sua3n1f</td>\n",
       "      <td>1</td>\n",
       "      <td>1</td>\n",
       "      <td>ANY_IVF_WITH_FRESH_TRANSFER</td>\n",
       "      <td>UNSUCCESSFUL</td>\n",
       "    </tr>\n",
       "    <tr>\n",
       "      <th>140</th>\n",
       "      <td>clxdei6f400010dl68sua3n1f</td>\n",
       "      <td>2</td>\n",
       "      <td>2</td>\n",
       "      <td>ANY_IVF_WITH_FRESH_TRANSFER</td>\n",
       "      <td>PENDING</td>\n",
       "    </tr>\n",
       "  </tbody>\n",
       "</table>\n",
       "</div>"
      ],
      "text/plain": [
       "                 membership_id  cycle_number  round_number  \\\n",
       "2    clrhmcyo600010cjn1739f02m             1             1   \n",
       "1    clrhmcyo600010cjn1739f02m             2             2   \n",
       "5    clrp4kifk00010dl30y7y9s5d             1             1   \n",
       "7    clrp4kifk00010dl30y7y9s5d             2             2   \n",
       "6    clrp4kifk00010dl30y7y9s5d             2             3   \n",
       "17   clsbq8w3q00010mjo5ydteyn5             2             1   \n",
       "16   clsbq8w3q00010mjo5ydteyn5             3             2   \n",
       "19   clsc1oywi00010bjscbmrdo51             1             1   \n",
       "18   clsc1oywi00010bjscbmrdo51             2             2   \n",
       "21   clsog29bz00010djxg33sbfyq             1             3   \n",
       "20   clsog29bz00010djxg33sbfyq             2             4   \n",
       "37   cltr095r700010cl6hvxx82bt             1             1   \n",
       "38   cltr095r700010cl6hvxx82bt             2             2   \n",
       "41   cltrhc9au000i0cjvhmgc7263             1             1   \n",
       "40   cltrhc9au000i0cjvhmgc7263             2             2   \n",
       "39   cltrhc9au000i0cjvhmgc7263             3             3   \n",
       "47   clu12oyjk00040bl90op86z4b             1             1   \n",
       "48   clu12oyjk00040bl90op86z4b             2             2   \n",
       "59   clujrhhx400010djr0hop7jxm             1             1   \n",
       "57   clujrhhx400010djr0hop7jxm             2             2   \n",
       "58   clujrhhx400010djr0hop7jxm             2             3   \n",
       "63   clusms8uk00010dl79j6cb85v             1             1   \n",
       "64   clusms8uk00010dl79j6cb85v             2             2   \n",
       "70   cluwkrgnf00010bk25kic02pf             1             1   \n",
       "69   cluwkrgnf00010bk25kic02pf             2             2   \n",
       "73   clv5bwdln00010dl31s8v17rh             1             1   \n",
       "72   clv5bwdln00010dl31s8v17rh             2             2   \n",
       "78   clvdqsd8t00010bjn2nvlbinb             1             1   \n",
       "77   clvdqsd8t00010bjn2nvlbinb             2             2   \n",
       "80   clve869zo00010bl8524sgwqc             1             1   \n",
       "79   clve869zo00010bl8524sgwqc             2             2   \n",
       "91   clvmb4r1c00010dl32pnefzxc             1             1   \n",
       "90   clvmb4r1c00010dl32pnefzxc             3             2   \n",
       "100  clw0nafr000010jmh52x5de3n             1             1   \n",
       "101  clw0nafr000010jmh52x5de3n             2             2   \n",
       "120  clwqdfqi900010dl24tug27xk             1             1   \n",
       "119  clwqdfqi900010dl24tug27xk             2             2   \n",
       "132  clx91g833000t0dl8a3pcfn7n             1             1   \n",
       "131  clx91g833000t0dl8a3pcfn7n             2             2   \n",
       "139  clxdei6f400010dl68sua3n1f             1             1   \n",
       "140  clxdei6f400010dl68sua3n1f             2             2   \n",
       "\n",
       "                       round_type round_current_status  \n",
       "2     ANY_IVF_WITH_FRESH_TRANSFER         UNSUCCESSFUL  \n",
       "1     ANY_IVF_WITH_FRESH_TRANSFER    TREATMENT_STARTED  \n",
       "5     ANY_IVF_WITH_FRESH_TRANSFER         UNSUCCESSFUL  \n",
       "7     ANY_IVF_WITH_FRESH_TRANSFER         UNSUCCESSFUL  \n",
       "6                 FROZEN_TRANSFER    TREATMENT_STARTED  \n",
       "17    ANY_IVF_WITH_FRESH_TRANSFER         UNSUCCESSFUL  \n",
       "16    ANY_IVF_WITH_FRESH_TRANSFER              PENDING  \n",
       "19                FROZEN_TRANSFER         UNSUCCESSFUL  \n",
       "18    ANY_IVF_WITH_FRESH_TRANSFER              PENDING  \n",
       "21    ANY_IVF_WITH_FRESH_TRANSFER         UNSUCCESSFUL  \n",
       "20    ANY_IVF_WITH_FRESH_TRANSFER    TREATMENT_STARTED  \n",
       "37    ANY_IVF_WITH_FRESH_TRANSFER         UNSUCCESSFUL  \n",
       "38    ANY_IVF_WITH_FRESH_TRANSFER            PREGNANCY  \n",
       "41    ANY_IVF_WITH_FRESH_TRANSFER         UNSUCCESSFUL  \n",
       "40   ANY_IVF_WITH_EMBRYO_FREEZING         UNSUCCESSFUL  \n",
       "39   ANY_IVF_WITH_EMBRYO_FREEZING              PENDING  \n",
       "47    ANY_IVF_WITH_FRESH_TRANSFER         UNSUCCESSFUL  \n",
       "48    ANY_IVF_WITH_FRESH_TRANSFER            PREGNANCY  \n",
       "59    ANY_IVF_WITH_FRESH_TRANSFER         UNSUCCESSFUL  \n",
       "57    ANY_IVF_WITH_FRESH_TRANSFER            CANCELLED  \n",
       "58                FROZEN_TRANSFER    TREATMENT_STARTED  \n",
       "63    ANY_IVF_WITH_FRESH_TRANSFER         UNSUCCESSFUL  \n",
       "64    ANY_IVF_WITH_FRESH_TRANSFER              PENDING  \n",
       "70    ANY_IVF_WITH_FRESH_TRANSFER         UNSUCCESSFUL  \n",
       "69    ANY_IVF_WITH_FRESH_TRANSFER              PENDING  \n",
       "73    ANY_IVF_WITH_FRESH_TRANSFER         UNSUCCESSFUL  \n",
       "72    ANY_IVF_WITH_FRESH_TRANSFER              PENDING  \n",
       "78    ANY_IVF_WITH_FRESH_TRANSFER            CANCELLED  \n",
       "77    ANY_IVF_WITH_FRESH_TRANSFER         UNSUCCESSFUL  \n",
       "80   ANY_IVF_WITH_EMBRYO_FREEZING         UNSUCCESSFUL  \n",
       "79   ANY_IVF_WITH_EMBRYO_FREEZING         UNSUCCESSFUL  \n",
       "91    ANY_IVF_WITH_FRESH_TRANSFER         UNSUCCESSFUL  \n",
       "90    ANY_IVF_WITH_FRESH_TRANSFER    TREATMENT_STARTED  \n",
       "100   ANY_IVF_WITH_FRESH_TRANSFER         UNSUCCESSFUL  \n",
       "101   ANY_IVF_WITH_FRESH_TRANSFER    TREATMENT_STARTED  \n",
       "120  ANY_IVF_WITH_EMBRYO_FREEZING            CANCELLED  \n",
       "119  ANY_IVF_WITH_EMBRYO_FREEZING    TREATMENT_STARTED  \n",
       "132  ANY_IVF_WITH_EMBRYO_FREEZING         UNSUCCESSFUL  \n",
       "131  ANY_IVF_WITH_EMBRYO_FREEZING    TREATMENT_STARTED  \n",
       "139   ANY_IVF_WITH_FRESH_TRANSFER         UNSUCCESSFUL  \n",
       "140   ANY_IVF_WITH_FRESH_TRANSFER              PENDING  "
      ]
     },
     "metadata": {},
     "output_type": "display_data"
    }
   ],
   "source": [
    "# Check round progression across cycles for members with multiple cycles\n",
    "multi_cycle_members = rounds_df.groupby('membership_id')['cycle_number'].nunique()\n",
    "multi_cycle_data = rounds_df[rounds_df['membership_id'].isin(multi_cycle_members[multi_cycle_members > 1].index)]\n",
    "round_progression = multi_cycle_data.sort_values(by=['membership_id', 'cycle_number', 'round_number'])\n",
    "display(round_progression)\n"
   ]
  },
  {
   "cell_type": "markdown",
   "id": "86c4a737-e039-4919-9fa8-7822ba0d42cd",
   "metadata": {},
   "source": [
    "## Analysis of Round Number Sequence Within Cycles\n",
    "\n",
    "### 1. **Expected Behavior**\n",
    "- A new `cycle_number` should typically start with `round_number = 1`.\n",
    "- Subsequent rounds (`round_number = 2`, `round_number = 3`, etc.) occur within the same cycle.\n",
    "\n",
    "### 2. **Observed Issues**\n",
    "- **Missing or Skipped Round 1**:\n",
    "  - Some cycles do not start with `round_number = 1`.\n",
    "    - Example: `clrhmcyo600010cjn1739f02m` in `cycle_number = 2` starts at `round_number = 2`.\n",
    "  - Possible reasons:\n",
    "    - Data entry errors.\n",
    "    - Skipped or canceled rounds not explicitly marked in the data.\n",
    "\n",
    "- **Examples**:\n",
    "  - Member `clsbq8w3q00010mjo5ydteyn5`:\n",
    "    - `round_number = 1` exists in `cycle_number = 2` but starts with `round_number = 2` in `cycle_number = 3`.\n",
    "  - Member `clsc1oywi00010bjscbmrdo51`:\n",
    "    - Starts directly at `round_number = 2` in `cycle_number = 2`.\n"
   ]
  },
  {
   "cell_type": "code",
   "execution_count": 105,
   "id": "4cebdfc9-2573-45c6-8255-37ec9fb7629c",
   "metadata": {},
   "outputs": [
    {
     "data": {
      "application/vnd.plotly.v1+json": {
       "config": {
        "plotlyServerURL": "https://plot.ly"
       },
       "data": [
        {
         "link": {
          "source": [
           0,
           0,
           0,
           0,
           0,
           0,
           0,
           1,
           6,
           8
          ],
          "target": [
           1,
           2,
           3,
           4,
           5,
           6,
           7,
           8,
           8,
           8
          ],
          "value": [
           2,
           2,
           50,
           2,
           76,
           48,
           24,
           2,
           17,
           9
          ]
         },
         "node": {
          "label": [
           "Cycle 1",
           "CANCELLED",
           "CLEARED_TO_BEGIN_TREATMENT",
           "TREATMENT_STARTED",
           "PENDING_TRANSFER",
           "PENDING",
           "UNSUCCESSFUL",
           "PREGNANCY",
           "Cycle 2",
           "Skipped Cycle 1"
          ],
          "line": {
           "color": "black",
           "width": 0.5
          },
          "pad": 15,
          "thickness": 20,
          "x": [
           0.009285051067780872,
           0.4835851826267161,
           0.9578853141856514,
           0.9578853141856514,
           0.9578853141856514,
           0.9578853141856514,
           0.4835851826267161,
           0.9578853141856514,
           0.9578853141856514
          ],
          "y": [
           0.21666828242748457,
           0.8461984989719239,
           0.5481102436783546,
           0.24257962492474575,
           0.6736949049288085,
           0.04490715777397075,
           0.6934331895951199,
           0.40952614201964604,
           0.8146425412071993
          ]
         },
         "type": "sankey"
        }
       ],
       "layout": {
        "autosize": true,
        "font": {
         "size": 10
        },
        "template": {
         "data": {
          "bar": [
           {
            "error_x": {
             "color": "#2a3f5f"
            },
            "error_y": {
             "color": "#2a3f5f"
            },
            "marker": {
             "line": {
              "color": "#E5ECF6",
              "width": 0.5
             },
             "pattern": {
              "fillmode": "overlay",
              "size": 10,
              "solidity": 0.2
             }
            },
            "type": "bar"
           }
          ],
          "barpolar": [
           {
            "marker": {
             "line": {
              "color": "#E5ECF6",
              "width": 0.5
             },
             "pattern": {
              "fillmode": "overlay",
              "size": 10,
              "solidity": 0.2
             }
            },
            "type": "barpolar"
           }
          ],
          "carpet": [
           {
            "aaxis": {
             "endlinecolor": "#2a3f5f",
             "gridcolor": "white",
             "linecolor": "white",
             "minorgridcolor": "white",
             "startlinecolor": "#2a3f5f"
            },
            "baxis": {
             "endlinecolor": "#2a3f5f",
             "gridcolor": "white",
             "linecolor": "white",
             "minorgridcolor": "white",
             "startlinecolor": "#2a3f5f"
            },
            "type": "carpet"
           }
          ],
          "choropleth": [
           {
            "colorbar": {
             "outlinewidth": 0,
             "ticks": ""
            },
            "type": "choropleth"
           }
          ],
          "contour": [
           {
            "colorbar": {
             "outlinewidth": 0,
             "ticks": ""
            },
            "colorscale": [
             [
              0,
              "#0d0887"
             ],
             [
              0.1111111111111111,
              "#46039f"
             ],
             [
              0.2222222222222222,
              "#7201a8"
             ],
             [
              0.3333333333333333,
              "#9c179e"
             ],
             [
              0.4444444444444444,
              "#bd3786"
             ],
             [
              0.5555555555555556,
              "#d8576b"
             ],
             [
              0.6666666666666666,
              "#ed7953"
             ],
             [
              0.7777777777777778,
              "#fb9f3a"
             ],
             [
              0.8888888888888888,
              "#fdca26"
             ],
             [
              1,
              "#f0f921"
             ]
            ],
            "type": "contour"
           }
          ],
          "contourcarpet": [
           {
            "colorbar": {
             "outlinewidth": 0,
             "ticks": ""
            },
            "type": "contourcarpet"
           }
          ],
          "heatmap": [
           {
            "colorbar": {
             "outlinewidth": 0,
             "ticks": ""
            },
            "colorscale": [
             [
              0,
              "#0d0887"
             ],
             [
              0.1111111111111111,
              "#46039f"
             ],
             [
              0.2222222222222222,
              "#7201a8"
             ],
             [
              0.3333333333333333,
              "#9c179e"
             ],
             [
              0.4444444444444444,
              "#bd3786"
             ],
             [
              0.5555555555555556,
              "#d8576b"
             ],
             [
              0.6666666666666666,
              "#ed7953"
             ],
             [
              0.7777777777777778,
              "#fb9f3a"
             ],
             [
              0.8888888888888888,
              "#fdca26"
             ],
             [
              1,
              "#f0f921"
             ]
            ],
            "type": "heatmap"
           }
          ],
          "heatmapgl": [
           {
            "colorbar": {
             "outlinewidth": 0,
             "ticks": ""
            },
            "colorscale": [
             [
              0,
              "#0d0887"
             ],
             [
              0.1111111111111111,
              "#46039f"
             ],
             [
              0.2222222222222222,
              "#7201a8"
             ],
             [
              0.3333333333333333,
              "#9c179e"
             ],
             [
              0.4444444444444444,
              "#bd3786"
             ],
             [
              0.5555555555555556,
              "#d8576b"
             ],
             [
              0.6666666666666666,
              "#ed7953"
             ],
             [
              0.7777777777777778,
              "#fb9f3a"
             ],
             [
              0.8888888888888888,
              "#fdca26"
             ],
             [
              1,
              "#f0f921"
             ]
            ],
            "type": "heatmapgl"
           }
          ],
          "histogram": [
           {
            "marker": {
             "pattern": {
              "fillmode": "overlay",
              "size": 10,
              "solidity": 0.2
             }
            },
            "type": "histogram"
           }
          ],
          "histogram2d": [
           {
            "colorbar": {
             "outlinewidth": 0,
             "ticks": ""
            },
            "colorscale": [
             [
              0,
              "#0d0887"
             ],
             [
              0.1111111111111111,
              "#46039f"
             ],
             [
              0.2222222222222222,
              "#7201a8"
             ],
             [
              0.3333333333333333,
              "#9c179e"
             ],
             [
              0.4444444444444444,
              "#bd3786"
             ],
             [
              0.5555555555555556,
              "#d8576b"
             ],
             [
              0.6666666666666666,
              "#ed7953"
             ],
             [
              0.7777777777777778,
              "#fb9f3a"
             ],
             [
              0.8888888888888888,
              "#fdca26"
             ],
             [
              1,
              "#f0f921"
             ]
            ],
            "type": "histogram2d"
           }
          ],
          "histogram2dcontour": [
           {
            "colorbar": {
             "outlinewidth": 0,
             "ticks": ""
            },
            "colorscale": [
             [
              0,
              "#0d0887"
             ],
             [
              0.1111111111111111,
              "#46039f"
             ],
             [
              0.2222222222222222,
              "#7201a8"
             ],
             [
              0.3333333333333333,
              "#9c179e"
             ],
             [
              0.4444444444444444,
              "#bd3786"
             ],
             [
              0.5555555555555556,
              "#d8576b"
             ],
             [
              0.6666666666666666,
              "#ed7953"
             ],
             [
              0.7777777777777778,
              "#fb9f3a"
             ],
             [
              0.8888888888888888,
              "#fdca26"
             ],
             [
              1,
              "#f0f921"
             ]
            ],
            "type": "histogram2dcontour"
           }
          ],
          "mesh3d": [
           {
            "colorbar": {
             "outlinewidth": 0,
             "ticks": ""
            },
            "type": "mesh3d"
           }
          ],
          "parcoords": [
           {
            "line": {
             "colorbar": {
              "outlinewidth": 0,
              "ticks": ""
             }
            },
            "type": "parcoords"
           }
          ],
          "pie": [
           {
            "automargin": true,
            "type": "pie"
           }
          ],
          "scatter": [
           {
            "marker": {
             "colorbar": {
              "outlinewidth": 0,
              "ticks": ""
             }
            },
            "type": "scatter"
           }
          ],
          "scatter3d": [
           {
            "line": {
             "colorbar": {
              "outlinewidth": 0,
              "ticks": ""
             }
            },
            "marker": {
             "colorbar": {
              "outlinewidth": 0,
              "ticks": ""
             }
            },
            "type": "scatter3d"
           }
          ],
          "scattercarpet": [
           {
            "marker": {
             "colorbar": {
              "outlinewidth": 0,
              "ticks": ""
             }
            },
            "type": "scattercarpet"
           }
          ],
          "scattergeo": [
           {
            "marker": {
             "colorbar": {
              "outlinewidth": 0,
              "ticks": ""
             }
            },
            "type": "scattergeo"
           }
          ],
          "scattergl": [
           {
            "marker": {
             "colorbar": {
              "outlinewidth": 0,
              "ticks": ""
             }
            },
            "type": "scattergl"
           }
          ],
          "scattermapbox": [
           {
            "marker": {
             "colorbar": {
              "outlinewidth": 0,
              "ticks": ""
             }
            },
            "type": "scattermapbox"
           }
          ],
          "scatterpolar": [
           {
            "marker": {
             "colorbar": {
              "outlinewidth": 0,
              "ticks": ""
             }
            },
            "type": "scatterpolar"
           }
          ],
          "scatterpolargl": [
           {
            "marker": {
             "colorbar": {
              "outlinewidth": 0,
              "ticks": ""
             }
            },
            "type": "scatterpolargl"
           }
          ],
          "scatterternary": [
           {
            "marker": {
             "colorbar": {
              "outlinewidth": 0,
              "ticks": ""
             }
            },
            "type": "scatterternary"
           }
          ],
          "surface": [
           {
            "colorbar": {
             "outlinewidth": 0,
             "ticks": ""
            },
            "colorscale": [
             [
              0,
              "#0d0887"
             ],
             [
              0.1111111111111111,
              "#46039f"
             ],
             [
              0.2222222222222222,
              "#7201a8"
             ],
             [
              0.3333333333333333,
              "#9c179e"
             ],
             [
              0.4444444444444444,
              "#bd3786"
             ],
             [
              0.5555555555555556,
              "#d8576b"
             ],
             [
              0.6666666666666666,
              "#ed7953"
             ],
             [
              0.7777777777777778,
              "#fb9f3a"
             ],
             [
              0.8888888888888888,
              "#fdca26"
             ],
             [
              1,
              "#f0f921"
             ]
            ],
            "type": "surface"
           }
          ],
          "table": [
           {
            "cells": {
             "fill": {
              "color": "#EBF0F8"
             },
             "line": {
              "color": "white"
             }
            },
            "header": {
             "fill": {
              "color": "#C8D4E3"
             },
             "line": {
              "color": "white"
             }
            },
            "type": "table"
           }
          ]
         },
         "layout": {
          "annotationdefaults": {
           "arrowcolor": "#2a3f5f",
           "arrowhead": 0,
           "arrowwidth": 1
          },
          "autotypenumbers": "strict",
          "coloraxis": {
           "colorbar": {
            "outlinewidth": 0,
            "ticks": ""
           }
          },
          "colorscale": {
           "diverging": [
            [
             0,
             "#8e0152"
            ],
            [
             0.1,
             "#c51b7d"
            ],
            [
             0.2,
             "#de77ae"
            ],
            [
             0.3,
             "#f1b6da"
            ],
            [
             0.4,
             "#fde0ef"
            ],
            [
             0.5,
             "#f7f7f7"
            ],
            [
             0.6,
             "#e6f5d0"
            ],
            [
             0.7,
             "#b8e186"
            ],
            [
             0.8,
             "#7fbc41"
            ],
            [
             0.9,
             "#4d9221"
            ],
            [
             1,
             "#276419"
            ]
           ],
           "sequential": [
            [
             0,
             "#0d0887"
            ],
            [
             0.1111111111111111,
             "#46039f"
            ],
            [
             0.2222222222222222,
             "#7201a8"
            ],
            [
             0.3333333333333333,
             "#9c179e"
            ],
            [
             0.4444444444444444,
             "#bd3786"
            ],
            [
             0.5555555555555556,
             "#d8576b"
            ],
            [
             0.6666666666666666,
             "#ed7953"
            ],
            [
             0.7777777777777778,
             "#fb9f3a"
            ],
            [
             0.8888888888888888,
             "#fdca26"
            ],
            [
             1,
             "#f0f921"
            ]
           ],
           "sequentialminus": [
            [
             0,
             "#0d0887"
            ],
            [
             0.1111111111111111,
             "#46039f"
            ],
            [
             0.2222222222222222,
             "#7201a8"
            ],
            [
             0.3333333333333333,
             "#9c179e"
            ],
            [
             0.4444444444444444,
             "#bd3786"
            ],
            [
             0.5555555555555556,
             "#d8576b"
            ],
            [
             0.6666666666666666,
             "#ed7953"
            ],
            [
             0.7777777777777778,
             "#fb9f3a"
            ],
            [
             0.8888888888888888,
             "#fdca26"
            ],
            [
             1,
             "#f0f921"
            ]
           ]
          },
          "colorway": [
           "#636efa",
           "#EF553B",
           "#00cc96",
           "#ab63fa",
           "#FFA15A",
           "#19d3f3",
           "#FF6692",
           "#B6E880",
           "#FF97FF",
           "#FECB52"
          ],
          "font": {
           "color": "#2a3f5f"
          },
          "geo": {
           "bgcolor": "white",
           "lakecolor": "white",
           "landcolor": "#E5ECF6",
           "showlakes": true,
           "showland": true,
           "subunitcolor": "white"
          },
          "hoverlabel": {
           "align": "left"
          },
          "hovermode": "closest",
          "mapbox": {
           "style": "light"
          },
          "paper_bgcolor": "white",
          "plot_bgcolor": "#E5ECF6",
          "polar": {
           "angularaxis": {
            "gridcolor": "white",
            "linecolor": "white",
            "ticks": ""
           },
           "bgcolor": "#E5ECF6",
           "radialaxis": {
            "gridcolor": "white",
            "linecolor": "white",
            "ticks": ""
           }
          },
          "scene": {
           "xaxis": {
            "backgroundcolor": "#E5ECF6",
            "gridcolor": "white",
            "gridwidth": 2,
            "linecolor": "white",
            "showbackground": true,
            "ticks": "",
            "zerolinecolor": "white"
           },
           "yaxis": {
            "backgroundcolor": "#E5ECF6",
            "gridcolor": "white",
            "gridwidth": 2,
            "linecolor": "white",
            "showbackground": true,
            "ticks": "",
            "zerolinecolor": "white"
           },
           "zaxis": {
            "backgroundcolor": "#E5ECF6",
            "gridcolor": "white",
            "gridwidth": 2,
            "linecolor": "white",
            "showbackground": true,
            "ticks": "",
            "zerolinecolor": "white"
           }
          },
          "shapedefaults": {
           "line": {
            "color": "#2a3f5f"
           }
          },
          "ternary": {
           "aaxis": {
            "gridcolor": "white",
            "linecolor": "white",
            "ticks": ""
           },
           "baxis": {
            "gridcolor": "white",
            "linecolor": "white",
            "ticks": ""
           },
           "bgcolor": "#E5ECF6",
           "caxis": {
            "gridcolor": "white",
            "linecolor": "white",
            "ticks": ""
           }
          },
          "title": {
           "x": 0.05
          },
          "xaxis": {
           "automargin": true,
           "gridcolor": "white",
           "linecolor": "white",
           "ticks": "",
           "title": {
            "standoff": 15
           },
           "zerolinecolor": "white",
           "zerolinewidth": 2
          },
          "yaxis": {
           "automargin": true,
           "gridcolor": "white",
           "linecolor": "white",
           "ticks": "",
           "title": {
            "standoff": 15
           },
           "zerolinecolor": "white",
           "zerolinewidth": 2
          }
         }
        },
        "title": {
         "text": "Member Transitions from Cycle 1 to Cycle 2 with Categories"
        }
       }
      },
      "image/png": "[encoded data removed]",
      "text/html": [
       "<div>                            <div id=\"8a8de976-b6a1-4f34-8a4c-27e30fc15f1d\" class=\"plotly-graph-div\" style=\"height:525px; width:100%;\"></div>            <script type=\"text/javascript\">                require([\"plotly\"], function(Plotly) {                    window.PLOTLYENV=window.PLOTLYENV || {};                                    if (document.getElementById(\"8a8de976-b6a1-4f34-8a4c-27e30fc15f1d\")) {                    Plotly.newPlot(                        \"8a8de976-b6a1-4f34-8a4c-27e30fc15f1d\",                        [{\"link\":{\"source\":[0,0,0,0,0,0,0,1,6,8],\"target\":[1,2,3,4,5,6,7,8,8,8],\"value\":[2,2,50,2,76,48,24,2,17,9]},\"node\":{\"label\":[\"Cycle 1\",\"CANCELLED\",\"CLEARED_TO_BEGIN_TREATMENT\",\"TREATMENT_STARTED\",\"PENDING_TRANSFER\",\"PENDING\",\"UNSUCCESSFUL\",\"PREGNANCY\",\"Cycle 2\",\"Skipped Cycle 1\"],\"line\":{\"color\":\"black\",\"width\":0.5},\"pad\":15,\"thickness\":20},\"type\":\"sankey\"}],                        {\"template\":{\"data\":{\"bar\":[{\"error_x\":{\"color\":\"#2a3f5f\"},\"error_y\":{\"color\":\"#2a3f5f\"},\"marker\":{\"line\":{\"color\":\"#E5ECF6\",\"width\":0.5},\"pattern\":{\"fillmode\":\"overlay\",\"size\":10,\"solidity\":0.2}},\"type\":\"bar\"}],\"barpolar\":[{\"marker\":{\"line\":{\"color\":\"#E5ECF6\",\"width\":0.5},\"pattern\":{\"fillmode\":\"overlay\",\"size\":10,\"solidity\":0.2}},\"type\":\"barpolar\"}],\"carpet\":[{\"aaxis\":{\"endlinecolor\":\"#2a3f5f\",\"gridcolor\":\"white\",\"linecolor\":\"white\",\"minorgridcolor\":\"white\",\"startlinecolor\":\"#2a3f5f\"},\"baxis\":{\"endlinecolor\":\"#2a3f5f\",\"gridcolor\":\"white\",\"linecolor\":\"white\",\"minorgridcolor\":\"white\",\"startlinecolor\":\"#2a3f5f\"},\"type\":\"carpet\"}],\"choropleth\":[{\"colorbar\":{\"outlinewidth\":0,\"ticks\":\"\"},\"type\":\"choropleth\"}],\"contour\":[{\"colorbar\":{\"outlinewidth\":0,\"ticks\":\"\"},\"colorscale\":[[0.0,\"#0d0887\"],[0.1111111111111111,\"#46039f\"],[0.2222222222222222,\"#7201a8\"],[0.3333333333333333,\"#9c179e\"],[0.4444444444444444,\"#bd3786\"],[0.5555555555555556,\"#d8576b\"],[0.6666666666666666,\"#ed7953\"],[0.7777777777777778,\"#fb9f3a\"],[0.8888888888888888,\"#fdca26\"],[1.0,\"#f0f921\"]],\"type\":\"contour\"}],\"contourcarpet\":[{\"colorbar\":{\"outlinewidth\":0,\"ticks\":\"\"},\"type\":\"contourcarpet\"}],\"heatmap\":[{\"colorbar\":{\"outlinewidth\":0,\"ticks\":\"\"},\"colorscale\":[[0.0,\"#0d0887\"],[0.1111111111111111,\"#46039f\"],[0.2222222222222222,\"#7201a8\"],[0.3333333333333333,\"#9c179e\"],[0.4444444444444444,\"#bd3786\"],[0.5555555555555556,\"#d8576b\"],[0.6666666666666666,\"#ed7953\"],[0.7777777777777778,\"#fb9f3a\"],[0.8888888888888888,\"#fdca26\"],[1.0,\"#f0f921\"]],\"type\":\"heatmap\"}],\"heatmapgl\":[{\"colorbar\":{\"outlinewidth\":0,\"ticks\":\"\"},\"colorscale\":[[0.0,\"#0d0887\"],[0.1111111111111111,\"#46039f\"],[0.2222222222222222,\"#7201a8\"],[0.3333333333333333,\"#9c179e\"],[0.4444444444444444,\"#bd3786\"],[0.5555555555555556,\"#d8576b\"],[0.6666666666666666,\"#ed7953\"],[0.7777777777777778,\"#fb9f3a\"],[0.8888888888888888,\"#fdca26\"],[1.0,\"#f0f921\"]],\"type\":\"heatmapgl\"}],\"histogram\":[{\"marker\":{\"pattern\":{\"fillmode\":\"overlay\",\"size\":10,\"solidity\":0.2}},\"type\":\"histogram\"}],\"histogram2d\":[{\"colorbar\":{\"outlinewidth\":0,\"ticks\":\"\"},\"colorscale\":[[0.0,\"#0d0887\"],[0.1111111111111111,\"#46039f\"],[0.2222222222222222,\"#7201a8\"],[0.3333333333333333,\"#9c179e\"],[0.4444444444444444,\"#bd3786\"],[0.5555555555555556,\"#d8576b\"],[0.6666666666666666,\"#ed7953\"],[0.7777777777777778,\"#fb9f3a\"],[0.8888888888888888,\"#fdca26\"],[1.0,\"#f0f921\"]],\"type\":\"histogram2d\"}],\"histogram2dcontour\":[{\"colorbar\":{\"outlinewidth\":0,\"ticks\":\"\"},\"colorscale\":[[0.0,\"#0d0887\"],[0.1111111111111111,\"#46039f\"],[0.2222222222222222,\"#7201a8\"],[0.3333333333333333,\"#9c179e\"],[0.4444444444444444,\"#bd3786\"],[0.5555555555555556,\"#d8576b\"],[0.6666666666666666,\"#ed7953\"],[0.7777777777777778,\"#fb9f3a\"],[0.8888888888888888,\"#fdca26\"],[1.0,\"#f0f921\"]],\"type\":\"histogram2dcontour\"}],\"mesh3d\":[{\"colorbar\":{\"outlinewidth\":0,\"ticks\":\"\"},\"type\":\"mesh3d\"}],\"parcoords\":[{\"line\":{\"colorbar\":{\"outlinewidth\":0,\"ticks\":\"\"}},\"type\":\"parcoords\"}],\"pie\":[{\"automargin\":true,\"type\":\"pie\"}],\"scatter\":[{\"marker\":{\"colorbar\":{\"outlinewidth\":0,\"ticks\":\"\"}},\"type\":\"scatter\"}],\"scatter3d\":[{\"line\":{\"colorbar\":{\"outlinewidth\":0,\"ticks\":\"\"}},\"marker\":{\"colorbar\":{\"outlinewidth\":0,\"ticks\":\"\"}},\"type\":\"scatter3d\"}],\"scattercarpet\":[{\"marker\":{\"colorbar\":{\"outlinewidth\":0,\"ticks\":\"\"}},\"type\":\"scattercarpet\"}],\"scattergeo\":[{\"marker\":{\"colorbar\":{\"outlinewidth\":0,\"ticks\":\"\"}},\"type\":\"scattergeo\"}],\"scattergl\":[{\"marker\":{\"colorbar\":{\"outlinewidth\":0,\"ticks\":\"\"}},\"type\":\"scattergl\"}],\"scattermapbox\":[{\"marker\":{\"colorbar\":{\"outlinewidth\":0,\"ticks\":\"\"}},\"type\":\"scattermapbox\"}],\"scatterpolar\":[{\"marker\":{\"colorbar\":{\"outlinewidth\":0,\"ticks\":\"\"}},\"type\":\"scatterpolar\"}],\"scatterpolargl\":[{\"marker\":{\"colorbar\":{\"outlinewidth\":0,\"ticks\":\"\"}},\"type\":\"scatterpolargl\"}],\"scatterternary\":[{\"marker\":{\"colorbar\":{\"outlinewidth\":0,\"ticks\":\"\"}},\"type\":\"scatterternary\"}],\"surface\":[{\"colorbar\":{\"outlinewidth\":0,\"ticks\":\"\"},\"colorscale\":[[0.0,\"#0d0887\"],[0.1111111111111111,\"#46039f\"],[0.2222222222222222,\"#7201a8\"],[0.3333333333333333,\"#9c179e\"],[0.4444444444444444,\"#bd3786\"],[0.5555555555555556,\"#d8576b\"],[0.6666666666666666,\"#ed7953\"],[0.7777777777777778,\"#fb9f3a\"],[0.8888888888888888,\"#fdca26\"],[1.0,\"#f0f921\"]],\"type\":\"surface\"}],\"table\":[{\"cells\":{\"fill\":{\"color\":\"#EBF0F8\"},\"line\":{\"color\":\"white\"}},\"header\":{\"fill\":{\"color\":\"#C8D4E3\"},\"line\":{\"color\":\"white\"}},\"type\":\"table\"}]},\"layout\":{\"annotationdefaults\":{\"arrowcolor\":\"#2a3f5f\",\"arrowhead\":0,\"arrowwidth\":1},\"autotypenumbers\":\"strict\",\"coloraxis\":{\"colorbar\":{\"outlinewidth\":0,\"ticks\":\"\"}},\"colorscale\":{\"diverging\":[[0,\"#8e0152\"],[0.1,\"#c51b7d\"],[0.2,\"#de77ae\"],[0.3,\"#f1b6da\"],[0.4,\"#fde0ef\"],[0.5,\"#f7f7f7\"],[0.6,\"#e6f5d0\"],[0.7,\"#b8e186\"],[0.8,\"#7fbc41\"],[0.9,\"#4d9221\"],[1,\"#276419\"]],\"sequential\":[[0.0,\"#0d0887\"],[0.1111111111111111,\"#46039f\"],[0.2222222222222222,\"#7201a8\"],[0.3333333333333333,\"#9c179e\"],[0.4444444444444444,\"#bd3786\"],[0.5555555555555556,\"#d8576b\"],[0.6666666666666666,\"#ed7953\"],[0.7777777777777778,\"#fb9f3a\"],[0.8888888888888888,\"#fdca26\"],[1.0,\"#f0f921\"]],\"sequentialminus\":[[0.0,\"#0d0887\"],[0.1111111111111111,\"#46039f\"],[0.2222222222222222,\"#7201a8\"],[0.3333333333333333,\"#9c179e\"],[0.4444444444444444,\"#bd3786\"],[0.5555555555555556,\"#d8576b\"],[0.6666666666666666,\"#ed7953\"],[0.7777777777777778,\"#fb9f3a\"],[0.8888888888888888,\"#fdca26\"],[1.0,\"#f0f921\"]]},\"colorway\":[\"#636efa\",\"#EF553B\",\"#00cc96\",\"#ab63fa\",\"#FFA15A\",\"#19d3f3\",\"#FF6692\",\"#B6E880\",\"#FF97FF\",\"#FECB52\"],\"font\":{\"color\":\"#2a3f5f\"},\"geo\":{\"bgcolor\":\"white\",\"lakecolor\":\"white\",\"landcolor\":\"#E5ECF6\",\"showlakes\":true,\"showland\":true,\"subunitcolor\":\"white\"},\"hoverlabel\":{\"align\":\"left\"},\"hovermode\":\"closest\",\"mapbox\":{\"style\":\"light\"},\"paper_bgcolor\":\"white\",\"plot_bgcolor\":\"#E5ECF6\",\"polar\":{\"angularaxis\":{\"gridcolor\":\"white\",\"linecolor\":\"white\",\"ticks\":\"\"},\"bgcolor\":\"#E5ECF6\",\"radialaxis\":{\"gridcolor\":\"white\",\"linecolor\":\"white\",\"ticks\":\"\"}},\"scene\":{\"xaxis\":{\"backgroundcolor\":\"#E5ECF6\",\"gridcolor\":\"white\",\"gridwidth\":2,\"linecolor\":\"white\",\"showbackground\":true,\"ticks\":\"\",\"zerolinecolor\":\"white\"},\"yaxis\":{\"backgroundcolor\":\"#E5ECF6\",\"gridcolor\":\"white\",\"gridwidth\":2,\"linecolor\":\"white\",\"showbackground\":true,\"ticks\":\"\",\"zerolinecolor\":\"white\"},\"zaxis\":{\"backgroundcolor\":\"#E5ECF6\",\"gridcolor\":\"white\",\"gridwidth\":2,\"linecolor\":\"white\",\"showbackground\":true,\"ticks\":\"\",\"zerolinecolor\":\"white\"}},\"shapedefaults\":{\"line\":{\"color\":\"#2a3f5f\"}},\"ternary\":{\"aaxis\":{\"gridcolor\":\"white\",\"linecolor\":\"white\",\"ticks\":\"\"},\"baxis\":{\"gridcolor\":\"white\",\"linecolor\":\"white\",\"ticks\":\"\"},\"bgcolor\":\"#E5ECF6\",\"caxis\":{\"gridcolor\":\"white\",\"linecolor\":\"white\",\"ticks\":\"\"}},\"title\":{\"x\":0.05},\"xaxis\":{\"automargin\":true,\"gridcolor\":\"white\",\"linecolor\":\"white\",\"ticks\":\"\",\"title\":{\"standoff\":15},\"zerolinecolor\":\"white\",\"zerolinewidth\":2},\"yaxis\":{\"automargin\":true,\"gridcolor\":\"white\",\"linecolor\":\"white\",\"ticks\":\"\",\"title\":{\"standoff\":15},\"zerolinecolor\":\"white\",\"zerolinewidth\":2}}},\"title\":{\"text\":\"Member Transitions from Cycle 1 to Cycle 2 with Categories\"},\"font\":{\"size\":10}},                        {\"responsive\": true}                    ).then(function(){\n",
       "                            \n",
       "var gd = document.getElementById('8a8de976-b6a1-4f34-8a4c-27e30fc15f1d');\n",
       "var x = new MutationObserver(function (mutations, observer) {{\n",
       "        var display = window.getComputedStyle(gd).display;\n",
       "        if (!display || display === 'none') {{\n",
       "            console.log([gd, 'removed!']);\n",
       "            Plotly.purge(gd);\n",
       "            observer.disconnect();\n",
       "        }}\n",
       "}});\n",
       "\n",
       "// Listen for the removal of the full notebook cells\n",
       "var notebookContainer = gd.closest('#notebook-container');\n",
       "if (notebookContainer) {{\n",
       "    x.observe(notebookContainer, {childList: true});\n",
       "}}\n",
       "\n",
       "// Listen for the clearing of the current output cell\n",
       "var outputEl = gd.closest('.output');\n",
       "if (outputEl) {{\n",
       "    x.observe(outputEl, {childList: true});\n",
       "}}\n",
       "\n",
       "                        })                };                });            </script>        </div>"
      ]
     },
     "metadata": {},
     "output_type": "display_data"
    }
   ],
   "source": [
    "# Define statuses of interest\n",
    "statuses = [\"CANCELLED\", \"CLEARED_TO_BEGIN_TREATMENT\", \"TREATMENT_STARTED\", \"PENDING_TRANSFER\", \n",
    "            \"PENDING\", \"UNSUCCESSFUL\", \"PREGNANCY\"]\n",
    "\n",
    "# Unique members in Cycle 1 (distinct by membership_id, cycle_number, and round_number)\n",
    "unique_cycle_1_members = rounds_df[rounds_df['cycle_number'] == 1].drop_duplicates(subset=['membership_id', 'cycle_number', 'round_number'])\n",
    "\n",
    "# Categorize members in Cycle 1 by their statuses\n",
    "category_counts_cycle_1 = {}\n",
    "for status in statuses:\n",
    "    category_counts_cycle_1[status] = unique_cycle_1_members[unique_cycle_1_members['round_current_status'] == status]['membership_id'].unique()\n",
    "\n",
    "# Members in Cycle 2 originating from Cycle 1\n",
    "unique_cycle_2_members = rounds_df[rounds_df['cycle_number'] == 2].drop_duplicates(subset=['membership_id', 'cycle_number', 'round_number'])\n",
    "members_from_cycle_1 = unique_cycle_2_members[unique_cycle_2_members['membership_id'].isin(unique_cycle_1_members['membership_id'])]\n",
    "\n",
    "# Members in Cycle 2 who did not go through Cycle 1\n",
    "members_skipped_cycle_1 = unique_cycle_2_members[~unique_cycle_2_members['membership_id'].isin(unique_cycle_1_members['membership_id'])]\n",
    "\n",
    "# Categorize members in Cycle 2 by their statuses\n",
    "category_counts_cycle_2 = {}\n",
    "for status in statuses:\n",
    "    category_counts_cycle_2[status] = members_from_cycle_1[members_from_cycle_1['round_current_status'] == status]['membership_id'].unique()\n",
    "\n",
    "# Prepare data for Sankey diagram\n",
    "import plotly.graph_objects as go\n",
    "\n",
    "source, target, value = [], [], []\n",
    "\n",
    "# From Cycle 1 to Each Status\n",
    "exit_index_start = 1  # Index of first status category\n",
    "for i, status in enumerate(statuses):\n",
    "    members_in_status = category_counts_cycle_1[status]\n",
    "    if len(members_in_status) > 0:\n",
    "        source.append(0)  # Stage 1 index (Cycle 1)\n",
    "        target.append(exit_index_start + i)  # Index for this status\n",
    "        value.append(len(members_in_status))\n",
    "\n",
    "# From Each Status in Cycle 1 to Cycle 2\n",
    "cycle_2_index = len(statuses) + 1\n",
    "for i, status in enumerate(statuses):\n",
    "    members_in_status = category_counts_cycle_1[status]\n",
    "    members_in_cycle_2 = members_from_cycle_1[members_from_cycle_1['membership_id'].isin(members_in_status)]\n",
    "    if len(members_in_cycle_2) > 0:\n",
    "        source.append(exit_index_start + i)  # Index for this status\n",
    "        target.append(cycle_2_index)  # Index for Cycle 2\n",
    "        value.append(len(members_in_cycle_2))\n",
    "\n",
    "# Add skipped members to Cycle 2\n",
    "if len(members_skipped_cycle_1) > 0:\n",
    "    source.append(len(statuses) + 1)  # Skipped index\n",
    "    target.append(cycle_2_index)  # Index for Cycle 2\n",
    "    value.append(len(members_skipped_cycle_1))\n",
    "\n",
    "# Define node labels\n",
    "labels = [\"Cycle 1\"] + statuses + [\"Cycle 2\", \"Skipped Cycle 1\"]\n",
    "\n",
    "# Create the Sankey diagram\n",
    "fig = go.Figure(go.Sankey(\n",
    "    node=dict(\n",
    "        pad=15,\n",
    "        thickness=20,\n",
    "        line=dict(color=\"black\", width=0.5),\n",
    "        label=labels\n",
    "    ),\n",
    "    link=dict(\n",
    "        source=source,\n",
    "        target=target,\n",
    "        value=value\n",
    "    )\n",
    "))\n",
    "\n",
    "fig.update_layout(title_text=\"Member Transitions from Cycle 1 to Cycle 2 with Categories\", font_size=10)\n",
    "fig.show()\n"
   ]
  },
  {
   "cell_type": "code",
   "execution_count": 106,
   "id": "51ba6f43-979f-42f6-929c-913076b486ab",
   "metadata": {},
   "outputs": [
    {
     "name": "stdout",
     "output_type": "stream",
     "text": [
      "Unique members in Cycle 2: 28\n",
      "Members with status CANCELLED in Cycle 2: 1\n",
      "Members with status CLEARED_TO_BEGIN_TREATMENT in Cycle 2: 0\n",
      "Members with status TREATMENT_STARTED in Cycle 2: 9\n",
      "Members with status PENDING_TRANSFER in Cycle 2: 0\n",
      "Members with status PENDING in Cycle 2: 6\n",
      "Members with status UNSUCCESSFUL in Cycle 2: 7\n",
      "Members with status PREGNANCY in Cycle 2: 5\n",
      "Members in Cycle 3 from Cycle 2: 2\n",
      "Members in Cycle 3 who did not go through Cycle 2: 1\n",
      "Members with status CANCELLED in Cycle 3: 0\n",
      "Members with status CLEARED_TO_BEGIN_TREATMENT in Cycle 3: 0\n",
      "Members with status TREATMENT_STARTED in Cycle 3: 0\n",
      "Members with status PENDING_TRANSFER in Cycle 3: 0\n",
      "Members with status PENDING in Cycle 3: 2\n",
      "Members with status UNSUCCESSFUL in Cycle 3: 0\n",
      "Members with status PREGNANCY in Cycle 3: 0\n"
     ]
    },
    {
     "data": {
      "application/vnd.plotly.v1+json": {
       "config": {
        "plotlyServerURL": "https://plot.ly"
       },
       "data": [
        {
         "link": {
          "source": [
           0,
           0,
           0,
           0,
           0,
           6,
           8,
           8
          ],
          "target": [
           1,
           3,
           5,
           6,
           7,
           8,
           8,
           13
          ],
          "value": [
           1,
           9,
           6,
           7,
           5,
           2,
           1,
           2
          ]
         },
         "node": {
          "label": [
           "Cycle 2",
           "CANCELLED",
           "CLEARED_TO_BEGIN_TREATMENT",
           "TREATMENT_STARTED",
           "PENDING_TRANSFER",
           "PENDING",
           "UNSUCCESSFUL",
           "PREGNANCY",
           "Cycle 3",
           "Skipped Cycle 2",
           "CANCELLED",
           "CLEARED_TO_BEGIN_TREATMENT",
           "TREATMENT_STARTED",
           "PENDING_TRANSFER",
           "PENDING",
           "UNSUCCESSFUL",
           "PREGNANCY"
          ],
          "line": {
           "color": "black",
           "width": 0.5
          },
          "pad": 15,
          "thickness": 20,
          "x": [
           0.009285051067780872,
           0.9907149489322191,
           0.9907149489322191,
           0.9907149489322191,
           0.33642835035592694,
           0.9907149489322191,
           0.663571649644073,
           0.9907149489322191
          ],
          "y": [
           0.16274430247528024,
           0.6680642853098181,
           0.07997289466873903,
           0.30118997645598744,
           0.5614253389332023,
           0.49915787217533863,
           0.7506039443192388,
           0.8195338088933751
          ]
         },
         "type": "sankey"
        }
       ],
       "layout": {
        "autosize": true,
        "font": {
         "size": 10
        },
        "template": {
         "data": {
          "bar": [
           {
            "error_x": {
             "color": "#2a3f5f"
            },
            "error_y": {
             "color": "#2a3f5f"
            },
            "marker": {
             "line": {
              "color": "#E5ECF6",
              "width": 0.5
             },
             "pattern": {
              "fillmode": "overlay",
              "size": 10,
              "solidity": 0.2
             }
            },
            "type": "bar"
           }
          ],
          "barpolar": [
           {
            "marker": {
             "line": {
              "color": "#E5ECF6",
              "width": 0.5
             },
             "pattern": {
              "fillmode": "overlay",
              "size": 10,
              "solidity": 0.2
             }
            },
            "type": "barpolar"
           }
          ],
          "carpet": [
           {
            "aaxis": {
             "endlinecolor": "#2a3f5f",
             "gridcolor": "white",
             "linecolor": "white",
             "minorgridcolor": "white",
             "startlinecolor": "#2a3f5f"
            },
            "baxis": {
             "endlinecolor": "#2a3f5f",
             "gridcolor": "white",
             "linecolor": "white",
             "minorgridcolor": "white",
             "startlinecolor": "#2a3f5f"
            },
            "type": "carpet"
           }
          ],
          "choropleth": [
           {
            "colorbar": {
             "outlinewidth": 0,
             "ticks": ""
            },
            "type": "choropleth"
           }
          ],
          "contour": [
           {
            "colorbar": {
             "outlinewidth": 0,
             "ticks": ""
            },
            "colorscale": [
             [
              0,
              "#0d0887"
             ],
             [
              0.1111111111111111,
              "#46039f"
             ],
             [
              0.2222222222222222,
              "#7201a8"
             ],
             [
              0.3333333333333333,
              "#9c179e"
             ],
             [
              0.4444444444444444,
              "#bd3786"
             ],
             [
              0.5555555555555556,
              "#d8576b"
             ],
             [
              0.6666666666666666,
              "#ed7953"
             ],
             [
              0.7777777777777778,
              "#fb9f3a"
             ],
             [
              0.8888888888888888,
              "#fdca26"
             ],
             [
              1,
              "#f0f921"
             ]
            ],
            "type": "contour"
           }
          ],
          "contourcarpet": [
           {
            "colorbar": {
             "outlinewidth": 0,
             "ticks": ""
            },
            "type": "contourcarpet"
           }
          ],
          "heatmap": [
           {
            "colorbar": {
             "outlinewidth": 0,
             "ticks": ""
            },
            "colorscale": [
             [
              0,
              "#0d0887"
             ],
             [
              0.1111111111111111,
              "#46039f"
             ],
             [
              0.2222222222222222,
              "#7201a8"
             ],
             [
              0.3333333333333333,
              "#9c179e"
             ],
             [
              0.4444444444444444,
              "#bd3786"
             ],
             [
              0.5555555555555556,
              "#d8576b"
             ],
             [
              0.6666666666666666,
              "#ed7953"
             ],
             [
              0.7777777777777778,
              "#fb9f3a"
             ],
             [
              0.8888888888888888,
              "#fdca26"
             ],
             [
              1,
              "#f0f921"
             ]
            ],
            "type": "heatmap"
           }
          ],
          "heatmapgl": [
           {
            "colorbar": {
             "outlinewidth": 0,
             "ticks": ""
            },
            "colorscale": [
             [
              0,
              "#0d0887"
             ],
             [
              0.1111111111111111,
              "#46039f"
             ],
             [
              0.2222222222222222,
              "#7201a8"
             ],
             [
              0.3333333333333333,
              "#9c179e"
             ],
             [
              0.4444444444444444,
              "#bd3786"
             ],
             [
              0.5555555555555556,
              "#d8576b"
             ],
             [
              0.6666666666666666,
              "#ed7953"
             ],
             [
              0.7777777777777778,
              "#fb9f3a"
             ],
             [
              0.8888888888888888,
              "#fdca26"
             ],
             [
              1,
              "#f0f921"
             ]
            ],
            "type": "heatmapgl"
           }
          ],
          "histogram": [
           {
            "marker": {
             "pattern": {
              "fillmode": "overlay",
              "size": 10,
              "solidity": 0.2
             }
            },
            "type": "histogram"
           }
          ],
          "histogram2d": [
           {
            "colorbar": {
             "outlinewidth": 0,
             "ticks": ""
            },
            "colorscale": [
             [
              0,
              "#0d0887"
             ],
             [
              0.1111111111111111,
              "#46039f"
             ],
             [
              0.2222222222222222,
              "#7201a8"
             ],
             [
              0.3333333333333333,
              "#9c179e"
             ],
             [
              0.4444444444444444,
              "#bd3786"
             ],
             [
              0.5555555555555556,
              "#d8576b"
             ],
             [
              0.6666666666666666,
              "#ed7953"
             ],
             [
              0.7777777777777778,
              "#fb9f3a"
             ],
             [
              0.8888888888888888,
              "#fdca26"
             ],
             [
              1,
              "#f0f921"
             ]
            ],
            "type": "histogram2d"
           }
          ],
          "histogram2dcontour": [
           {
            "colorbar": {
             "outlinewidth": 0,
             "ticks": ""
            },
            "colorscale": [
             [
              0,
              "#0d0887"
             ],
             [
              0.1111111111111111,
              "#46039f"
             ],
             [
              0.2222222222222222,
              "#7201a8"
             ],
             [
              0.3333333333333333,
              "#9c179e"
             ],
             [
              0.4444444444444444,
              "#bd3786"
             ],
             [
              0.5555555555555556,
              "#d8576b"
             ],
             [
              0.6666666666666666,
              "#ed7953"
             ],
             [
              0.7777777777777778,
              "#fb9f3a"
             ],
             [
              0.8888888888888888,
              "#fdca26"
             ],
             [
              1,
              "#f0f921"
             ]
            ],
            "type": "histogram2dcontour"
           }
          ],
          "mesh3d": [
           {
            "colorbar": {
             "outlinewidth": 0,
             "ticks": ""
            },
            "type": "mesh3d"
           }
          ],
          "parcoords": [
           {
            "line": {
             "colorbar": {
              "outlinewidth": 0,
              "ticks": ""
             }
            },
            "type": "parcoords"
           }
          ],
          "pie": [
           {
            "automargin": true,
            "type": "pie"
           }
          ],
          "scatter": [
           {
            "marker": {
             "colorbar": {
              "outlinewidth": 0,
              "ticks": ""
             }
            },
            "type": "scatter"
           }
          ],
          "scatter3d": [
           {
            "line": {
             "colorbar": {
              "outlinewidth": 0,
              "ticks": ""
             }
            },
            "marker": {
             "colorbar": {
              "outlinewidth": 0,
              "ticks": ""
             }
            },
            "type": "scatter3d"
           }
          ],
          "scattercarpet": [
           {
            "marker": {
             "colorbar": {
              "outlinewidth": 0,
              "ticks": ""
             }
            },
            "type": "scattercarpet"
           }
          ],
          "scattergeo": [
           {
            "marker": {
             "colorbar": {
              "outlinewidth": 0,
              "ticks": ""
             }
            },
            "type": "scattergeo"
           }
          ],
          "scattergl": [
           {
            "marker": {
             "colorbar": {
              "outlinewidth": 0,
              "ticks": ""
             }
            },
            "type": "scattergl"
           }
          ],
          "scattermapbox": [
           {
            "marker": {
             "colorbar": {
              "outlinewidth": 0,
              "ticks": ""
             }
            },
            "type": "scattermapbox"
           }
          ],
          "scatterpolar": [
           {
            "marker": {
             "colorbar": {
              "outlinewidth": 0,
              "ticks": ""
             }
            },
            "type": "scatterpolar"
           }
          ],
          "scatterpolargl": [
           {
            "marker": {
             "colorbar": {
              "outlinewidth": 0,
              "ticks": ""
             }
            },
            "type": "scatterpolargl"
           }
          ],
          "scatterternary": [
           {
            "marker": {
             "colorbar": {
              "outlinewidth": 0,
              "ticks": ""
             }
            },
            "type": "scatterternary"
           }
          ],
          "surface": [
           {
            "colorbar": {
             "outlinewidth": 0,
             "ticks": ""
            },
            "colorscale": [
             [
              0,
              "#0d0887"
             ],
             [
              0.1111111111111111,
              "#46039f"
             ],
             [
              0.2222222222222222,
              "#7201a8"
             ],
             [
              0.3333333333333333,
              "#9c179e"
             ],
             [
              0.4444444444444444,
              "#bd3786"
             ],
             [
              0.5555555555555556,
              "#d8576b"
             ],
             [
              0.6666666666666666,
              "#ed7953"
             ],
             [
              0.7777777777777778,
              "#fb9f3a"
             ],
             [
              0.8888888888888888,
              "#fdca26"
             ],
             [
              1,
              "#f0f921"
             ]
            ],
            "type": "surface"
           }
          ],
          "table": [
           {
            "cells": {
             "fill": {
              "color": "#EBF0F8"
             },
             "line": {
              "color": "white"
             }
            },
            "header": {
             "fill": {
              "color": "#C8D4E3"
             },
             "line": {
              "color": "white"
             }
            },
            "type": "table"
           }
          ]
         },
         "layout": {
          "annotationdefaults": {
           "arrowcolor": "#2a3f5f",
           "arrowhead": 0,
           "arrowwidth": 1
          },
          "autotypenumbers": "strict",
          "coloraxis": {
           "colorbar": {
            "outlinewidth": 0,
            "ticks": ""
           }
          },
          "colorscale": {
           "diverging": [
            [
             0,
             "#8e0152"
            ],
            [
             0.1,
             "#c51b7d"
            ],
            [
             0.2,
             "#de77ae"
            ],
            [
             0.3,
             "#f1b6da"
            ],
            [
             0.4,
             "#fde0ef"
            ],
            [
             0.5,
             "#f7f7f7"
            ],
            [
             0.6,
             "#e6f5d0"
            ],
            [
             0.7,
             "#b8e186"
            ],
            [
             0.8,
             "#7fbc41"
            ],
            [
             0.9,
             "#4d9221"
            ],
            [
             1,
             "#276419"
            ]
           ],
           "sequential": [
            [
             0,
             "#0d0887"
            ],
            [
             0.1111111111111111,
             "#46039f"
            ],
            [
             0.2222222222222222,
             "#7201a8"
            ],
            [
             0.3333333333333333,
             "#9c179e"
            ],
            [
             0.4444444444444444,
             "#bd3786"
            ],
            [
             0.5555555555555556,
             "#d8576b"
            ],
            [
             0.6666666666666666,
             "#ed7953"
            ],
            [
             0.7777777777777778,
             "#fb9f3a"
            ],
            [
             0.8888888888888888,
             "#fdca26"
            ],
            [
             1,
             "#f0f921"
            ]
           ],
           "sequentialminus": [
            [
             0,
             "#0d0887"
            ],
            [
             0.1111111111111111,
             "#46039f"
            ],
            [
             0.2222222222222222,
             "#7201a8"
            ],
            [
             0.3333333333333333,
             "#9c179e"
            ],
            [
             0.4444444444444444,
             "#bd3786"
            ],
            [
             0.5555555555555556,
             "#d8576b"
            ],
            [
             0.6666666666666666,
             "#ed7953"
            ],
            [
             0.7777777777777778,
             "#fb9f3a"
            ],
            [
             0.8888888888888888,
             "#fdca26"
            ],
            [
             1,
             "#f0f921"
            ]
           ]
          },
          "colorway": [
           "#636efa",
           "#EF553B",
           "#00cc96",
           "#ab63fa",
           "#FFA15A",
           "#19d3f3",
           "#FF6692",
           "#B6E880",
           "#FF97FF",
           "#FECB52"
          ],
          "font": {
           "color": "#2a3f5f"
          },
          "geo": {
           "bgcolor": "white",
           "lakecolor": "white",
           "landcolor": "#E5ECF6",
           "showlakes": true,
           "showland": true,
           "subunitcolor": "white"
          },
          "hoverlabel": {
           "align": "left"
          },
          "hovermode": "closest",
          "mapbox": {
           "style": "light"
          },
          "paper_bgcolor": "white",
          "plot_bgcolor": "#E5ECF6",
          "polar": {
           "angularaxis": {
            "gridcolor": "white",
            "linecolor": "white",
            "ticks": ""
           },
           "bgcolor": "#E5ECF6",
           "radialaxis": {
            "gridcolor": "white",
            "linecolor": "white",
            "ticks": ""
           }
          },
          "scene": {
           "xaxis": {
            "backgroundcolor": "#E5ECF6",
            "gridcolor": "white",
            "gridwidth": 2,
            "linecolor": "white",
            "showbackground": true,
            "ticks": "",
            "zerolinecolor": "white"
           },
           "yaxis": {
            "backgroundcolor": "#E5ECF6",
            "gridcolor": "white",
            "gridwidth": 2,
            "linecolor": "white",
            "showbackground": true,
            "ticks": "",
            "zerolinecolor": "white"
           },
           "zaxis": {
            "backgroundcolor": "#E5ECF6",
            "gridcolor": "white",
            "gridwidth": 2,
            "linecolor": "white",
            "showbackground": true,
            "ticks": "",
            "zerolinecolor": "white"
           }
          },
          "shapedefaults": {
           "line": {
            "color": "#2a3f5f"
           }
          },
          "ternary": {
           "aaxis": {
            "gridcolor": "white",
            "linecolor": "white",
            "ticks": ""
           },
           "baxis": {
            "gridcolor": "white",
            "linecolor": "white",
            "ticks": ""
           },
           "bgcolor": "#E5ECF6",
           "caxis": {
            "gridcolor": "white",
            "linecolor": "white",
            "ticks": ""
           }
          },
          "title": {
           "x": 0.05
          },
          "xaxis": {
           "automargin": true,
           "gridcolor": "white",
           "linecolor": "white",
           "ticks": "",
           "title": {
            "standoff": 15
           },
           "zerolinecolor": "white",
           "zerolinewidth": 2
          },
          "yaxis": {
           "automargin": true,
           "gridcolor": "white",
           "linecolor": "white",
           "ticks": "",
           "title": {
            "standoff": 15
           },
           "zerolinecolor": "white",
           "zerolinewidth": 2
          }
         }
        },
        "title": {
         "text": "Member Transitions from Cycle 2 to Cycle 3 with Categories"
        }
       }
      },
      "image/png": "[encoded data removed]",
      "text/html": [
       "<div>                            <div id=\"3fc0f473-cb42-464d-afe8-3dba3375b332\" class=\"plotly-graph-div\" style=\"height:525px; width:100%;\"></div>            <script type=\"text/javascript\">                require([\"plotly\"], function(Plotly) {                    window.PLOTLYENV=window.PLOTLYENV || {};                                    if (document.getElementById(\"3fc0f473-cb42-464d-afe8-3dba3375b332\")) {                    Plotly.newPlot(                        \"3fc0f473-cb42-464d-afe8-3dba3375b332\",                        [{\"link\":{\"source\":[0,0,0,0,0,6,8,8],\"target\":[1,3,5,6,7,8,8,13],\"value\":[1,9,6,7,5,2,1,2]},\"node\":{\"label\":[\"Cycle 2\",\"CANCELLED\",\"CLEARED_TO_BEGIN_TREATMENT\",\"TREATMENT_STARTED\",\"PENDING_TRANSFER\",\"PENDING\",\"UNSUCCESSFUL\",\"PREGNANCY\",\"Cycle 3\",\"Skipped Cycle 2\",\"CANCELLED\",\"CLEARED_TO_BEGIN_TREATMENT\",\"TREATMENT_STARTED\",\"PENDING_TRANSFER\",\"PENDING\",\"UNSUCCESSFUL\",\"PREGNANCY\"],\"line\":{\"color\":\"black\",\"width\":0.5},\"pad\":15,\"thickness\":20},\"type\":\"sankey\"}],                        {\"template\":{\"data\":{\"bar\":[{\"error_x\":{\"color\":\"#2a3f5f\"},\"error_y\":{\"color\":\"#2a3f5f\"},\"marker\":{\"line\":{\"color\":\"#E5ECF6\",\"width\":0.5},\"pattern\":{\"fillmode\":\"overlay\",\"size\":10,\"solidity\":0.2}},\"type\":\"bar\"}],\"barpolar\":[{\"marker\":{\"line\":{\"color\":\"#E5ECF6\",\"width\":0.5},\"pattern\":{\"fillmode\":\"overlay\",\"size\":10,\"solidity\":0.2}},\"type\":\"barpolar\"}],\"carpet\":[{\"aaxis\":{\"endlinecolor\":\"#2a3f5f\",\"gridcolor\":\"white\",\"linecolor\":\"white\",\"minorgridcolor\":\"white\",\"startlinecolor\":\"#2a3f5f\"},\"baxis\":{\"endlinecolor\":\"#2a3f5f\",\"gridcolor\":\"white\",\"linecolor\":\"white\",\"minorgridcolor\":\"white\",\"startlinecolor\":\"#2a3f5f\"},\"type\":\"carpet\"}],\"choropleth\":[{\"colorbar\":{\"outlinewidth\":0,\"ticks\":\"\"},\"type\":\"choropleth\"}],\"contour\":[{\"colorbar\":{\"outlinewidth\":0,\"ticks\":\"\"},\"colorscale\":[[0.0,\"#0d0887\"],[0.1111111111111111,\"#46039f\"],[0.2222222222222222,\"#7201a8\"],[0.3333333333333333,\"#9c179e\"],[0.4444444444444444,\"#bd3786\"],[0.5555555555555556,\"#d8576b\"],[0.6666666666666666,\"#ed7953\"],[0.7777777777777778,\"#fb9f3a\"],[0.8888888888888888,\"#fdca26\"],[1.0,\"#f0f921\"]],\"type\":\"contour\"}],\"contourcarpet\":[{\"colorbar\":{\"outlinewidth\":0,\"ticks\":\"\"},\"type\":\"contourcarpet\"}],\"heatmap\":[{\"colorbar\":{\"outlinewidth\":0,\"ticks\":\"\"},\"colorscale\":[[0.0,\"#0d0887\"],[0.1111111111111111,\"#46039f\"],[0.2222222222222222,\"#7201a8\"],[0.3333333333333333,\"#9c179e\"],[0.4444444444444444,\"#bd3786\"],[0.5555555555555556,\"#d8576b\"],[0.6666666666666666,\"#ed7953\"],[0.7777777777777778,\"#fb9f3a\"],[0.8888888888888888,\"#fdca26\"],[1.0,\"#f0f921\"]],\"type\":\"heatmap\"}],\"heatmapgl\":[{\"colorbar\":{\"outlinewidth\":0,\"ticks\":\"\"},\"colorscale\":[[0.0,\"#0d0887\"],[0.1111111111111111,\"#46039f\"],[0.2222222222222222,\"#7201a8\"],[0.3333333333333333,\"#9c179e\"],[0.4444444444444444,\"#bd3786\"],[0.5555555555555556,\"#d8576b\"],[0.6666666666666666,\"#ed7953\"],[0.7777777777777778,\"#fb9f3a\"],[0.8888888888888888,\"#fdca26\"],[1.0,\"#f0f921\"]],\"type\":\"heatmapgl\"}],\"histogram\":[{\"marker\":{\"pattern\":{\"fillmode\":\"overlay\",\"size\":10,\"solidity\":0.2}},\"type\":\"histogram\"}],\"histogram2d\":[{\"colorbar\":{\"outlinewidth\":0,\"ticks\":\"\"},\"colorscale\":[[0.0,\"#0d0887\"],[0.1111111111111111,\"#46039f\"],[0.2222222222222222,\"#7201a8\"],[0.3333333333333333,\"#9c179e\"],[0.4444444444444444,\"#bd3786\"],[0.5555555555555556,\"#d8576b\"],[0.6666666666666666,\"#ed7953\"],[0.7777777777777778,\"#fb9f3a\"],[0.8888888888888888,\"#fdca26\"],[1.0,\"#f0f921\"]],\"type\":\"histogram2d\"}],\"histogram2dcontour\":[{\"colorbar\":{\"outlinewidth\":0,\"ticks\":\"\"},\"colorscale\":[[0.0,\"#0d0887\"],[0.1111111111111111,\"#46039f\"],[0.2222222222222222,\"#7201a8\"],[0.3333333333333333,\"#9c179e\"],[0.4444444444444444,\"#bd3786\"],[0.5555555555555556,\"#d8576b\"],[0.6666666666666666,\"#ed7953\"],[0.7777777777777778,\"#fb9f3a\"],[0.8888888888888888,\"#fdca26\"],[1.0,\"#f0f921\"]],\"type\":\"histogram2dcontour\"}],\"mesh3d\":[{\"colorbar\":{\"outlinewidth\":0,\"ticks\":\"\"},\"type\":\"mesh3d\"}],\"parcoords\":[{\"line\":{\"colorbar\":{\"outlinewidth\":0,\"ticks\":\"\"}},\"type\":\"parcoords\"}],\"pie\":[{\"automargin\":true,\"type\":\"pie\"}],\"scatter\":[{\"marker\":{\"colorbar\":{\"outlinewidth\":0,\"ticks\":\"\"}},\"type\":\"scatter\"}],\"scatter3d\":[{\"line\":{\"colorbar\":{\"outlinewidth\":0,\"ticks\":\"\"}},\"marker\":{\"colorbar\":{\"outlinewidth\":0,\"ticks\":\"\"}},\"type\":\"scatter3d\"}],\"scattercarpet\":[{\"marker\":{\"colorbar\":{\"outlinewidth\":0,\"ticks\":\"\"}},\"type\":\"scattercarpet\"}],\"scattergeo\":[{\"marker\":{\"colorbar\":{\"outlinewidth\":0,\"ticks\":\"\"}},\"type\":\"scattergeo\"}],\"scattergl\":[{\"marker\":{\"colorbar\":{\"outlinewidth\":0,\"ticks\":\"\"}},\"type\":\"scattergl\"}],\"scattermapbox\":[{\"marker\":{\"colorbar\":{\"outlinewidth\":0,\"ticks\":\"\"}},\"type\":\"scattermapbox\"}],\"scatterpolar\":[{\"marker\":{\"colorbar\":{\"outlinewidth\":0,\"ticks\":\"\"}},\"type\":\"scatterpolar\"}],\"scatterpolargl\":[{\"marker\":{\"colorbar\":{\"outlinewidth\":0,\"ticks\":\"\"}},\"type\":\"scatterpolargl\"}],\"scatterternary\":[{\"marker\":{\"colorbar\":{\"outlinewidth\":0,\"ticks\":\"\"}},\"type\":\"scatterternary\"}],\"surface\":[{\"colorbar\":{\"outlinewidth\":0,\"ticks\":\"\"},\"colorscale\":[[0.0,\"#0d0887\"],[0.1111111111111111,\"#46039f\"],[0.2222222222222222,\"#7201a8\"],[0.3333333333333333,\"#9c179e\"],[0.4444444444444444,\"#bd3786\"],[0.5555555555555556,\"#d8576b\"],[0.6666666666666666,\"#ed7953\"],[0.7777777777777778,\"#fb9f3a\"],[0.8888888888888888,\"#fdca26\"],[1.0,\"#f0f921\"]],\"type\":\"surface\"}],\"table\":[{\"cells\":{\"fill\":{\"color\":\"#EBF0F8\"},\"line\":{\"color\":\"white\"}},\"header\":{\"fill\":{\"color\":\"#C8D4E3\"},\"line\":{\"color\":\"white\"}},\"type\":\"table\"}]},\"layout\":{\"annotationdefaults\":{\"arrowcolor\":\"#2a3f5f\",\"arrowhead\":0,\"arrowwidth\":1},\"autotypenumbers\":\"strict\",\"coloraxis\":{\"colorbar\":{\"outlinewidth\":0,\"ticks\":\"\"}},\"colorscale\":{\"diverging\":[[0,\"#8e0152\"],[0.1,\"#c51b7d\"],[0.2,\"#de77ae\"],[0.3,\"#f1b6da\"],[0.4,\"#fde0ef\"],[0.5,\"#f7f7f7\"],[0.6,\"#e6f5d0\"],[0.7,\"#b8e186\"],[0.8,\"#7fbc41\"],[0.9,\"#4d9221\"],[1,\"#276419\"]],\"sequential\":[[0.0,\"#0d0887\"],[0.1111111111111111,\"#46039f\"],[0.2222222222222222,\"#7201a8\"],[0.3333333333333333,\"#9c179e\"],[0.4444444444444444,\"#bd3786\"],[0.5555555555555556,\"#d8576b\"],[0.6666666666666666,\"#ed7953\"],[0.7777777777777778,\"#fb9f3a\"],[0.8888888888888888,\"#fdca26\"],[1.0,\"#f0f921\"]],\"sequentialminus\":[[0.0,\"#0d0887\"],[0.1111111111111111,\"#46039f\"],[0.2222222222222222,\"#7201a8\"],[0.3333333333333333,\"#9c179e\"],[0.4444444444444444,\"#bd3786\"],[0.5555555555555556,\"#d8576b\"],[0.6666666666666666,\"#ed7953\"],[0.7777777777777778,\"#fb9f3a\"],[0.8888888888888888,\"#fdca26\"],[1.0,\"#f0f921\"]]},\"colorway\":[\"#636efa\",\"#EF553B\",\"#00cc96\",\"#ab63fa\",\"#FFA15A\",\"#19d3f3\",\"#FF6692\",\"#B6E880\",\"#FF97FF\",\"#FECB52\"],\"font\":{\"color\":\"#2a3f5f\"},\"geo\":{\"bgcolor\":\"white\",\"lakecolor\":\"white\",\"landcolor\":\"#E5ECF6\",\"showlakes\":true,\"showland\":true,\"subunitcolor\":\"white\"},\"hoverlabel\":{\"align\":\"left\"},\"hovermode\":\"closest\",\"mapbox\":{\"style\":\"light\"},\"paper_bgcolor\":\"white\",\"plot_bgcolor\":\"#E5ECF6\",\"polar\":{\"angularaxis\":{\"gridcolor\":\"white\",\"linecolor\":\"white\",\"ticks\":\"\"},\"bgcolor\":\"#E5ECF6\",\"radialaxis\":{\"gridcolor\":\"white\",\"linecolor\":\"white\",\"ticks\":\"\"}},\"scene\":{\"xaxis\":{\"backgroundcolor\":\"#E5ECF6\",\"gridcolor\":\"white\",\"gridwidth\":2,\"linecolor\":\"white\",\"showbackground\":true,\"ticks\":\"\",\"zerolinecolor\":\"white\"},\"yaxis\":{\"backgroundcolor\":\"#E5ECF6\",\"gridcolor\":\"white\",\"gridwidth\":2,\"linecolor\":\"white\",\"showbackground\":true,\"ticks\":\"\",\"zerolinecolor\":\"white\"},\"zaxis\":{\"backgroundcolor\":\"#E5ECF6\",\"gridcolor\":\"white\",\"gridwidth\":2,\"linecolor\":\"white\",\"showbackground\":true,\"ticks\":\"\",\"zerolinecolor\":\"white\"}},\"shapedefaults\":{\"line\":{\"color\":\"#2a3f5f\"}},\"ternary\":{\"aaxis\":{\"gridcolor\":\"white\",\"linecolor\":\"white\",\"ticks\":\"\"},\"baxis\":{\"gridcolor\":\"white\",\"linecolor\":\"white\",\"ticks\":\"\"},\"bgcolor\":\"#E5ECF6\",\"caxis\":{\"gridcolor\":\"white\",\"linecolor\":\"white\",\"ticks\":\"\"}},\"title\":{\"x\":0.05},\"xaxis\":{\"automargin\":true,\"gridcolor\":\"white\",\"linecolor\":\"white\",\"ticks\":\"\",\"title\":{\"standoff\":15},\"zerolinecolor\":\"white\",\"zerolinewidth\":2},\"yaxis\":{\"automargin\":true,\"gridcolor\":\"white\",\"linecolor\":\"white\",\"ticks\":\"\",\"title\":{\"standoff\":15},\"zerolinecolor\":\"white\",\"zerolinewidth\":2}}},\"title\":{\"text\":\"Member Transitions from Cycle 2 to Cycle 3 with Categories\"},\"font\":{\"size\":10}},                        {\"responsive\": true}                    ).then(function(){\n",
       "                            \n",
       "var gd = document.getElementById('3fc0f473-cb42-464d-afe8-3dba3375b332');\n",
       "var x = new MutationObserver(function (mutations, observer) {{\n",
       "        var display = window.getComputedStyle(gd).display;\n",
       "        if (!display || display === 'none') {{\n",
       "            console.log([gd, 'removed!']);\n",
       "            Plotly.purge(gd);\n",
       "            observer.disconnect();\n",
       "        }}\n",
       "}});\n",
       "\n",
       "// Listen for the removal of the full notebook cells\n",
       "var notebookContainer = gd.closest('#notebook-container');\n",
       "if (notebookContainer) {{\n",
       "    x.observe(notebookContainer, {childList: true});\n",
       "}}\n",
       "\n",
       "// Listen for the clearing of the current output cell\n",
       "var outputEl = gd.closest('.output');\n",
       "if (outputEl) {{\n",
       "    x.observe(outputEl, {childList: true});\n",
       "}}\n",
       "\n",
       "                        })                };                });            </script>        </div>"
      ]
     },
     "metadata": {},
     "output_type": "display_data"
    }
   ],
   "source": [
    "# Create the Sankey diagram: Cycle 2 to Cycle 3 transitions\n",
    "\n",
    "# Define statuses of interest\n",
    "statuses = [\"CANCELLED\", \"CLEARED_TO_BEGIN_TREATMENT\", \"TREATMENT_STARTED\", \"PENDING_TRANSFER\", \n",
    "            \"PENDING\", \"UNSUCCESSFUL\", \"PREGNANCY\"]\n",
    "\n",
    "# Unique members in Cycle 2 (distinct by membership_id, cycle_number, and round_number)\n",
    "unique_cycle_2_members = rounds_df[rounds_df['cycle_number'] == 2].drop_duplicates(subset=['membership_id', 'cycle_number', 'round_number'])\n",
    "print(f\"Unique members in Cycle 2: {len(unique_cycle_2_members)}\")\n",
    "\n",
    "# Categorize members in Cycle 2 by their statuses\n",
    "category_counts_cycle_2 = {}\n",
    "for status in statuses:\n",
    "    category_counts_cycle_2[status] = unique_cycle_2_members[unique_cycle_2_members['round_current_status'] == status]['membership_id'].unique()\n",
    "    print(f\"Members with status {status} in Cycle 2: {len(category_counts_cycle_2[status])}\")\n",
    "\n",
    "# Members in Cycle 3 originating from Cycle 2\n",
    "unique_cycle_3_members = rounds_df[rounds_df['cycle_number'] == 3].drop_duplicates(subset=['membership_id', 'cycle_number', 'round_number'])\n",
    "members_from_cycle_2 = unique_cycle_3_members[unique_cycle_3_members['membership_id'].isin(unique_cycle_2_members['membership_id'])]\n",
    "print(f\"Members in Cycle 3 from Cycle 2: {len(members_from_cycle_2)}\")\n",
    "\n",
    "# Members in Cycle 3 who did not go through Cycle 2\n",
    "members_skipped_cycle_2 = unique_cycle_3_members[~unique_cycle_3_members['membership_id'].isin(unique_cycle_2_members['membership_id'])]\n",
    "print(f\"Members in Cycle 3 who did not go through Cycle 2: {len(members_skipped_cycle_2)}\")\n",
    "\n",
    "# Categorize members in Cycle 3 by their statuses\n",
    "category_counts_cycle_3 = {}\n",
    "for status in statuses:\n",
    "    category_counts_cycle_3[status] = members_from_cycle_2[members_from_cycle_2['round_current_status'] == status]['membership_id'].unique()\n",
    "    print(f\"Members with status {status} in Cycle 3: {len(category_counts_cycle_3[status])}\")\n",
    "\n",
    "# Prepare data for Sankey diagram\n",
    "import plotly.graph_objects as go\n",
    "\n",
    "source, target, value = [], [], []\n",
    "\n",
    "# From Cycle 2 to Each Status\n",
    "exit_index_start = 1  # Index of first status category\n",
    "for i, status in enumerate(statuses):\n",
    "    members_in_status = category_counts_cycle_2[status]\n",
    "    if len(members_in_status) > 0:\n",
    "        source.append(0)  # Stage 1 index (Cycle 2)\n",
    "        target.append(exit_index_start + i)  # Index for this status\n",
    "        value.append(len(members_in_status))\n",
    "\n",
    "# From Each Status in Cycle 2 to Cycle 3\n",
    "cycle_3_index = len(statuses) + 1\n",
    "for i, status in enumerate(statuses):\n",
    "    members_in_status = category_counts_cycle_2[status]\n",
    "    members_in_cycle_3 = members_from_cycle_2[members_from_cycle_2['membership_id'].isin(members_in_status)]\n",
    "    if len(members_in_cycle_3) > 0:\n",
    "        source.append(exit_index_start + i)  # Index for this status\n",
    "        target.append(cycle_3_index)  # Index for Cycle 3\n",
    "        value.append(len(members_in_cycle_3))\n",
    "\n",
    "# Add skipped members to Cycle 3\n",
    "if len(members_skipped_cycle_2) > 0:\n",
    "    source.append(len(statuses) + 1)  # Skipped index\n",
    "    target.append(cycle_3_index)  # Index for Cycle 3\n",
    "    value.append(len(members_skipped_cycle_2))\n",
    "\n",
    "# From Cycle 3 to Each Status\n",
    "exit_index_start_cycle_3 = len(statuses) + 2\n",
    "for i, status in enumerate(statuses):\n",
    "    members_in_status = category_counts_cycle_3[status]\n",
    "    if len(members_in_status) > 0:\n",
    "        source.append(cycle_3_index)  # Stage 3 index (Cycle 3)\n",
    "        target.append(exit_index_start_cycle_3 + i)  # Index for this status in Cycle 3\n",
    "        value.append(len(members_in_status))\n",
    "\n",
    "# Define node labels\n",
    "labels = [\"Cycle 2\"] + statuses + [\"Cycle 3\", \"Skipped Cycle 2\"] + statuses\n",
    "\n",
    "# Create the Sankey diagram\n",
    "fig = go.Figure(go.Sankey(\n",
    "    node=dict(\n",
    "        pad=15,\n",
    "        thickness=20,\n",
    "        line=dict(color=\"black\", width=0.5),\n",
    "        label=labels\n",
    "    ),\n",
    "    link=dict(\n",
    "        source=source,\n",
    "        target=target,\n",
    "        value=value\n",
    "    )\n",
    "))\n",
    "\n",
    "fig.update_layout(title_text=\"Member Transitions from Cycle 2 to Cycle 3 with Categories\", font_size=10)\n",
    "fig.show()\n"
   ]
  },
  {
   "cell_type": "code",
   "execution_count": 107,
   "id": "0faca5c9-d73d-4876-9c67-8d365658712d",
   "metadata": {},
   "outputs": [
    {
     "name": "stdout",
     "output_type": "stream",
     "text": [
      "\n",
      "Success Rate Calculation:\n",
      "Cycle 1 - Total Members After Filtering: 71\n",
      "Cycle 1 - Number of Successful (PREGNANCY): 24\n",
      "Cycle 1 - Success Rate: 33.80%\n",
      "\n",
      "Cycle 2 - Total Members After Filtering: 12\n",
      "Cycle 2 - Number of Successful (PREGNANCY): 5\n",
      "Cycle 2 - Success Rate: 41.67%\n"
     ]
    }
   ],
   "source": [
    "# Calculate the success rate (PREGNANCY proportion) for Cycle 1 and Cycle 2\n",
    "\n",
    "# Filter data for PREGNANCY and UNSUCCESSFUL statuses\n",
    "filtered_status = rounds_df[rounds_df['round_current_status'].isin(['PREGNANCY', 'UNSUCCESSFUL'])]\n",
    "\n",
    "# Calculate success rate for Cycle 1\n",
    "cycle_1_status = filtered_status[filtered_status['cycle_number'] == 1]\n",
    "cycle_1_status_no_duplicates = cycle_1_status.drop_duplicates(subset=['membership_id'], keep='first')\n",
    "\n",
    "pregnancy_count_cycle_1 = (cycle_1_status_no_duplicates['round_current_status'] == 'PREGNANCY').sum()\n",
    "total_filtered_cycle_1 = len(cycle_1_status_no_duplicates)\n",
    "success_rate_cycle_1 = pregnancy_count_cycle_1 / total_filtered_cycle_1 * 100\n",
    "\n",
    "# Calculate success rate for Cycle 2\n",
    "cycle_2_status = filtered_status[filtered_status['cycle_number'] == 2]\n",
    "cycle_2_status_no_duplicates = cycle_2_status.drop_duplicates(subset=['membership_id'], keep='first')\n",
    "\n",
    "pregnancy_count_cycle_2 = (cycle_2_status_no_duplicates['round_current_status'] == 'PREGNANCY').sum()\n",
    "total_filtered_cycle_2 = len(cycle_2_status_no_duplicates)\n",
    "success_rate_cycle_2 = pregnancy_count_cycle_2 / total_filtered_cycle_2 * 100\n",
    "\n",
    "# Print the results\n",
    "print(\"\\nSuccess Rate Calculation:\")\n",
    "print(f\"Cycle 1 - Total Members After Filtering: {total_filtered_cycle_1}\")\n",
    "print(f\"Cycle 1 - Number of Successful (PREGNANCY): {pregnancy_count_cycle_1}\")\n",
    "print(f\"Cycle 1 - Success Rate: {success_rate_cycle_1:.2f}%\")\n",
    "\n",
    "print(f\"\\nCycle 2 - Total Members After Filtering: {total_filtered_cycle_2}\")\n",
    "print(f\"Cycle 2 - Number of Successful (PREGNANCY): {pregnancy_count_cycle_2}\")\n",
    "print(f\"Cycle 2 - Success Rate: {success_rate_cycle_2:.2f}%\")\n"
   ]
  },
  {
   "cell_type": "code",
   "execution_count": null,
   "id": "93cd9dda-fcdb-4666-b809-c6ebc49ededa",
   "metadata": {},
   "outputs": [],
   "source": []
  },
  {
   "cell_type": "code",
   "execution_count": 66,
   "id": "81786fc4-24e6-42f9-9809-e3125faab333",
   "metadata": {},
   "outputs": [
    {
     "data": {
      "image/png": "[encoded data removed]",
      "text/plain": [
       "<Figure size 576x360 with 1 Axes>"
      ]
     },
     "metadata": {
      "needs_background": "light"
     },
     "output_type": "display_data"
    }
   ],
   "source": [
    "# Aggregate data to count the number of cycles per member\n",
    "cycle_counts = rounds_df.groupby('membership_id')['cycle_number'].max()\n",
    "cycle_distribution = cycle_counts.value_counts().sort_index()\n",
    "\n",
    "# Calculate percentages\n",
    "total_members = cycle_distribution.sum()\n",
    "percentage_distribution = (cycle_distribution / total_members) * 100\n",
    "\n",
    "# Plot the distribution with percentages\n",
    "fig, ax = plt.subplots(figsize=(8, 5))\n",
    "bars = ax.bar(cycle_distribution.index, cycle_distribution, edgecolor='black', label='Number of Members')\n",
    "\n",
    "# Annotate bars with percentages\n",
    "for bar, percentage in zip(bars, percentage_distribution):\n",
    "    ax.text(bar.get_x() + bar.get_width() / 2, bar.get_height(), f\"{percentage:.1f}%\", \n",
    "            ha='center', va='bottom', fontsize=10)\n",
    "\n",
    "# Customize the plot\n",
    "ax.set_title(\"Number of Cycles vs. Count of Members (with Percentages)\", fontsize=14)\n",
    "ax.set_xlabel(\"Number of Cycles\", fontsize=12)\n",
    "ax.set_ylabel(\"Number of Members\", fontsize=12)\n",
    "ax.set_xticks(cycle_distribution.index)\n",
    "ax.grid(axis='y', linestyle='--', alpha=0.7)\n",
    "plt.show()"
   ]
  },
  {
   "cell_type": "code",
   "execution_count": null,
   "id": "e906426f-891b-4d26-9796-bc60c651228a",
   "metadata": {},
   "outputs": [],
   "source": []
  },
  {
   "cell_type": "code",
   "execution_count": 67,
   "id": "6e802463-e980-4bad-b5c4-bafe192ae0ea",
   "metadata": {},
   "outputs": [
    {
     "name": "stdout",
     "output_type": "stream",
     "text": [
      "Number of discrepancies where members and cycle numbers are missing in rounds_df: 37\n",
      "Number of discrepancies where members and cycle numbers are missing in cycles_df: 0\n",
      "\n",
      "Examples of members and cycles missing in rounds_df:\n"
     ]
    },
    {
     "data": {
      "text/html": [
       "<div>\n",
       "<style scoped>\n",
       "    .dataframe tbody tr th:only-of-type {\n",
       "        vertical-align: middle;\n",
       "    }\n",
       "\n",
       "    .dataframe tbody tr th {\n",
       "        vertical-align: top;\n",
       "    }\n",
       "\n",
       "    .dataframe thead th {\n",
       "        text-align: right;\n",
       "    }\n",
       "</style>\n",
       "<table border=\"1\" class=\"dataframe\">\n",
       "  <thead>\n",
       "    <tr style=\"text-align: right;\">\n",
       "      <th></th>\n",
       "      <th>membership_id</th>\n",
       "      <th>cycle_number</th>\n",
       "      <th>_merge</th>\n",
       "    </tr>\n",
       "  </thead>\n",
       "  <tbody>\n",
       "    <tr>\n",
       "      <th>7</th>\n",
       "      <td>clteh44db00010dldddvphpcq</td>\n",
       "      <td>1</td>\n",
       "      <td>left_only</td>\n",
       "    </tr>\n",
       "    <tr>\n",
       "      <th>9</th>\n",
       "      <td>clt8gc5eu00010djv3i3w7cu8</td>\n",
       "      <td>1</td>\n",
       "      <td>left_only</td>\n",
       "    </tr>\n",
       "    <tr>\n",
       "      <th>12</th>\n",
       "      <td>cm04ztff200010dl2hycf2e5j</td>\n",
       "      <td>1</td>\n",
       "      <td>left_only</td>\n",
       "    </tr>\n",
       "    <tr>\n",
       "      <th>16</th>\n",
       "      <td>clumrkpp100010bkydx7y5dy4</td>\n",
       "      <td>1</td>\n",
       "      <td>left_only</td>\n",
       "    </tr>\n",
       "    <tr>\n",
       "      <th>19</th>\n",
       "      <td>cluwmw5hd00010cjmafwwgl30</td>\n",
       "      <td>1</td>\n",
       "      <td>left_only</td>\n",
       "    </tr>\n",
       "  </tbody>\n",
       "</table>\n",
       "</div>"
      ],
      "text/plain": [
       "                membership_id  cycle_number     _merge\n",
       "7   clteh44db00010dldddvphpcq             1  left_only\n",
       "9   clt8gc5eu00010djv3i3w7cu8             1  left_only\n",
       "12  cm04ztff200010dl2hycf2e5j             1  left_only\n",
       "16  clumrkpp100010bkydx7y5dy4             1  left_only\n",
       "19  cluwmw5hd00010cjmafwwgl30             1  left_only"
      ]
     },
     "metadata": {},
     "output_type": "display_data"
    },
    {
     "data": {
      "image/png": "[encoded data removed]",
      "text/plain": [
       "<Figure size 576x360 with 1 Axes>"
      ]
     },
     "metadata": {
      "needs_background": "light"
     },
     "output_type": "display_data"
    }
   ],
   "source": [
    "import matplotlib.pyplot as plt\n",
    "\n",
    "# Validate members and cycle numbers consistency between cycles_df and rounds_df\n",
    "cycles_members_cycles = cycles_df[['membership_id', 'cycle_number']].drop_duplicates()\n",
    "rounds_members_cycles = rounds_df[['membership_id', 'cycle_number']].drop_duplicates()\n",
    "\n",
    "# Find discrepancies\n",
    "discrepancies = cycles_members_cycles.merge(rounds_members_cycles, on=['membership_id', 'cycle_number'], how='outer', indicator=True)\n",
    "missing_in_rounds = discrepancies[discrepancies['_merge'] == 'left_only']\n",
    "missing_in_cycles = discrepancies[discrepancies['_merge'] == 'right_only']\n",
    "\n",
    "print(f\"Number of discrepancies where members and cycle numbers are missing in rounds_df: {len(missing_in_rounds)}\")\n",
    "print(f\"Number of discrepancies where members and cycle numbers are missing in cycles_df: {len(missing_in_cycles)}\")\n",
    "\n",
    "if not missing_in_rounds.empty:\n",
    "    print(\"\\nExamples of members and cycles missing in rounds_df:\")\n",
    "    display(missing_in_rounds.head())\n",
    "\n",
    "if not missing_in_cycles.empty:\n",
    "    print(\"\\nExamples of members and cycles missing in cycles_df:\")\n",
    "    display(missing_in_cycles.head())\n",
    "\n",
    "# Aggregate data to count the number of cycles per member\n",
    "cycle_counts = cycles_df.groupby('membership_id')['cycle_number'].max()\n",
    "cycle_distribution = cycle_counts.value_counts().sort_index()\n",
    "\n",
    "# Calculate percentages\n",
    "total_members = cycle_distribution.sum()\n",
    "percentage_distribution = (cycle_distribution / total_members) * 100\n",
    "\n",
    "# Plot the distribution with percentages\n",
    "fig, ax = plt.subplots(figsize=(8, 5))\n",
    "bars = ax.bar(cycle_distribution.index, cycle_distribution, edgecolor='black', label='Number of Members')\n",
    "\n",
    "# Annotate bars with percentages\n",
    "for bar, percentage in zip(bars, percentage_distribution):\n",
    "    ax.text(bar.get_x() + bar.get_width() / 2, bar.get_height(), f\"{percentage:.1f}%\", \n",
    "            ha='center', va='bottom', fontsize=10)\n",
    "\n",
    "# Customize the plot\n",
    "ax.set_title(\"Number of Cycles vs. Count of Members (with Percentages)\", fontsize=14)\n",
    "ax.set_xlabel(\"Number of Cycles\", fontsize=12)\n",
    "ax.set_ylabel(\"Number of Members\", fontsize=12)\n",
    "ax.set_xticks(cycle_distribution.index)\n",
    "ax.grid(axis='y', linestyle='--', alpha=0.7)\n",
    "plt.show()\n"
   ]
  },
  {
   "cell_type": "markdown",
   "id": "fb618ee9-e51f-44ef-b8bb-982af7729733",
   "metadata": {},
   "source": [
    "## Analysis of Discrepancy\n",
    "\n",
    "### Overview\n",
    "The results indicate that **37 members with corresponding cycle numbers are present in `cycles_df` but missing in `rounds_df`**, while there are no discrepancies in the other direction (`rounds_df` missing from `cycles_df`).\n",
    "\n",
    "### Possible Reasons for Missing Rounds\n",
    "1. **Data Entry Issues**:\n",
    "   - Cycles may have been recorded in `cycles_df` but not updated in `rounds_df`.\n",
    "\n",
    "2. **Canceled or Incomplete Cycles**:\n",
    "   - Certain cycles may have been canceled or deferred and not included in `rounds_df`.\n",
    "\n",
    "3. **Differences in Business Rules**:\n",
    "   - The inclusion criteria for `cycles_df` and `rounds_df` might differ (e.g., canceled treatments might be excluded from `rounds_df`).\n"
   ]
  },
  {
   "cell_type": "code",
   "execution_count": 32,
   "id": "8e382c57-8d24-4fac-9e87-528a5b37859d",
   "metadata": {},
   "outputs": [
    {
     "name": "stdout",
     "output_type": "stream",
     "text": [
      "Number of missing entries in rounds_df: 37\n"
     ]
    },
    {
     "data": {
      "text/html": [
       "<div>\n",
       "<style scoped>\n",
       "    .dataframe tbody tr th:only-of-type {\n",
       "        vertical-align: middle;\n",
       "    }\n",
       "\n",
       "    .dataframe tbody tr th {\n",
       "        vertical-align: top;\n",
       "    }\n",
       "\n",
       "    .dataframe thead th {\n",
       "        text-align: right;\n",
       "    }\n",
       "</style>\n",
       "<table border=\"1\" class=\"dataframe\">\n",
       "  <thead>\n",
       "    <tr style=\"text-align: right;\">\n",
       "      <th></th>\n",
       "      <th>membership_id</th>\n",
       "      <th>cycle_number</th>\n",
       "      <th>cycle_liability_post_discount</th>\n",
       "      <th>clinics_id</th>\n",
       "      <th>round_number</th>\n",
       "      <th>round_type</th>\n",
       "      <th>round_current_status</th>\n",
       "      <th>_merge</th>\n",
       "    </tr>\n",
       "  </thead>\n",
       "  <tbody>\n",
       "    <tr>\n",
       "      <th>8</th>\n",
       "      <td>clteh44db00010dldddvphpcq</td>\n",
       "      <td>1</td>\n",
       "      <td>8177.83</td>\n",
       "      <td>51ee7c940ea14feeb5bd1f64b2776fdd</td>\n",
       "      <td>NaN</td>\n",
       "      <td>NaN</td>\n",
       "      <td>NaN</td>\n",
       "      <td>left_only</td>\n",
       "    </tr>\n",
       "    <tr>\n",
       "      <th>10</th>\n",
       "      <td>clt8gc5eu00010djv3i3w7cu8</td>\n",
       "      <td>1</td>\n",
       "      <td>10862.70</td>\n",
       "      <td>clmqb6tsx00050jmhelshbqde</td>\n",
       "      <td>NaN</td>\n",
       "      <td>NaN</td>\n",
       "      <td>NaN</td>\n",
       "      <td>left_only</td>\n",
       "    </tr>\n",
       "    <tr>\n",
       "      <th>13</th>\n",
       "      <td>cm04ztff200010dl2hycf2e5j</td>\n",
       "      <td>1</td>\n",
       "      <td>9582.56</td>\n",
       "      <td>d83295faca2847aea5b2967865cf68b6</td>\n",
       "      <td>NaN</td>\n",
       "      <td>NaN</td>\n",
       "      <td>NaN</td>\n",
       "      <td>left_only</td>\n",
       "    </tr>\n",
       "    <tr>\n",
       "      <th>17</th>\n",
       "      <td>clumrkpp100010bkydx7y5dy4</td>\n",
       "      <td>1</td>\n",
       "      <td>6185.69</td>\n",
       "      <td>acdba87c-af1e-4122-a8d5-de1d5bd18254</td>\n",
       "      <td>NaN</td>\n",
       "      <td>NaN</td>\n",
       "      <td>NaN</td>\n",
       "      <td>left_only</td>\n",
       "    </tr>\n",
       "    <tr>\n",
       "      <th>20</th>\n",
       "      <td>cluwmw5hd00010cjmafwwgl30</td>\n",
       "      <td>1</td>\n",
       "      <td>7889.33</td>\n",
       "      <td>3ac907157d7f44ec8a5177ca5402c398</td>\n",
       "      <td>NaN</td>\n",
       "      <td>NaN</td>\n",
       "      <td>NaN</td>\n",
       "      <td>left_only</td>\n",
       "    </tr>\n",
       "    <tr>\n",
       "      <th>21</th>\n",
       "      <td>clt5puckd00010dkzde5286m9</td>\n",
       "      <td>1</td>\n",
       "      <td>8379.72</td>\n",
       "      <td>fd150b6165d64c008f0b708b554b3200</td>\n",
       "      <td>NaN</td>\n",
       "      <td>NaN</td>\n",
       "      <td>NaN</td>\n",
       "      <td>left_only</td>\n",
       "    </tr>\n",
       "    <tr>\n",
       "      <th>23</th>\n",
       "      <td>clu12l3hj00010bl9eo8qfroo</td>\n",
       "      <td>1</td>\n",
       "      <td>10422.81</td>\n",
       "      <td>c1919b2c63a047bcb5c4fc871ae68372</td>\n",
       "      <td>NaN</td>\n",
       "      <td>NaN</td>\n",
       "      <td>NaN</td>\n",
       "      <td>left_only</td>\n",
       "    </tr>\n",
       "    <tr>\n",
       "      <th>28</th>\n",
       "      <td>cls2z6ewt00040bjs5r81alyr</td>\n",
       "      <td>1</td>\n",
       "      <td>4255.84</td>\n",
       "      <td>f6bef049db3d47bcb0e32f89b3e36d09</td>\n",
       "      <td>NaN</td>\n",
       "      <td>NaN</td>\n",
       "      <td>NaN</td>\n",
       "      <td>left_only</td>\n",
       "    </tr>\n",
       "    <tr>\n",
       "      <th>31</th>\n",
       "      <td>cltgy3jji00010bjzbbuzft96</td>\n",
       "      <td>1</td>\n",
       "      <td>5371.22</td>\n",
       "      <td>clepzgncm00050djk1x3fgndm</td>\n",
       "      <td>NaN</td>\n",
       "      <td>NaN</td>\n",
       "      <td>NaN</td>\n",
       "      <td>left_only</td>\n",
       "    </tr>\n",
       "    <tr>\n",
       "      <th>32</th>\n",
       "      <td>cluwn6rc700010dk035ve45hq</td>\n",
       "      <td>1</td>\n",
       "      <td>8674.30</td>\n",
       "      <td>54c97730c0c44b56b7f244131add4b71</td>\n",
       "      <td>NaN</td>\n",
       "      <td>NaN</td>\n",
       "      <td>NaN</td>\n",
       "      <td>left_only</td>\n",
       "    </tr>\n",
       "    <tr>\n",
       "      <th>44</th>\n",
       "      <td>cltzs0dsp00010dl8crfd8p5z</td>\n",
       "      <td>1</td>\n",
       "      <td>11031.27</td>\n",
       "      <td>clpjlnr6100070dl3d9wj81bb</td>\n",
       "      <td>NaN</td>\n",
       "      <td>NaN</td>\n",
       "      <td>NaN</td>\n",
       "      <td>left_only</td>\n",
       "    </tr>\n",
       "    <tr>\n",
       "      <th>54</th>\n",
       "      <td>clxek1cwd00010djo34bzfrjv</td>\n",
       "      <td>1</td>\n",
       "      <td>8049.60</td>\n",
       "      <td>83c6da596e60430aac0e5608a0a15a17</td>\n",
       "      <td>NaN</td>\n",
       "      <td>NaN</td>\n",
       "      <td>NaN</td>\n",
       "      <td>left_only</td>\n",
       "    </tr>\n",
       "    <tr>\n",
       "      <th>60</th>\n",
       "      <td>clst7xsfw00010bl80dm1f6wh</td>\n",
       "      <td>1</td>\n",
       "      <td>10722.27</td>\n",
       "      <td>clpjlnr6100070dl3d9wj81bb</td>\n",
       "      <td>NaN</td>\n",
       "      <td>NaN</td>\n",
       "      <td>NaN</td>\n",
       "      <td>left_only</td>\n",
       "    </tr>\n",
       "    <tr>\n",
       "      <th>69</th>\n",
       "      <td>clrkf5m7r00010cla7eio6d0b</td>\n",
       "      <td>1</td>\n",
       "      <td>7383.07</td>\n",
       "      <td>3bcb2e8b040a48458a981261654a5593</td>\n",
       "      <td>NaN</td>\n",
       "      <td>NaN</td>\n",
       "      <td>NaN</td>\n",
       "      <td>left_only</td>\n",
       "    </tr>\n",
       "    <tr>\n",
       "      <th>71</th>\n",
       "      <td>clx0kimwj00010dkz4swlfdop</td>\n",
       "      <td>1</td>\n",
       "      <td>12232.79</td>\n",
       "      <td>ed236c69937b44678dcd6875393d8cc5</td>\n",
       "      <td>NaN</td>\n",
       "      <td>NaN</td>\n",
       "      <td>NaN</td>\n",
       "      <td>left_only</td>\n",
       "    </tr>\n",
       "    <tr>\n",
       "      <th>72</th>\n",
       "      <td>clt4ihfi300010ml95pepc42l</td>\n",
       "      <td>1</td>\n",
       "      <td>15933.74</td>\n",
       "      <td>8431aa62ec764cb49b242e5561a8a136</td>\n",
       "      <td>NaN</td>\n",
       "      <td>NaN</td>\n",
       "      <td>NaN</td>\n",
       "      <td>left_only</td>\n",
       "    </tr>\n",
       "    <tr>\n",
       "      <th>79</th>\n",
       "      <td>clsevml3300010dle4ml5ftsw</td>\n",
       "      <td>1</td>\n",
       "      <td>10736.30</td>\n",
       "      <td>b1f0581d86bd4c6c818c7d596aa4053f</td>\n",
       "      <td>NaN</td>\n",
       "      <td>NaN</td>\n",
       "      <td>NaN</td>\n",
       "      <td>left_only</td>\n",
       "    </tr>\n",
       "    <tr>\n",
       "      <th>80</th>\n",
       "      <td>clte5rhb400010djsb39zcuv0</td>\n",
       "      <td>1</td>\n",
       "      <td>8714.15</td>\n",
       "      <td>d8462f9d50d24586aee405ba1c356fd1</td>\n",
       "      <td>NaN</td>\n",
       "      <td>NaN</td>\n",
       "      <td>NaN</td>\n",
       "      <td>left_only</td>\n",
       "    </tr>\n",
       "    <tr>\n",
       "      <th>84</th>\n",
       "      <td>clvdqa2jo00010clddqhs515j</td>\n",
       "      <td>1</td>\n",
       "      <td>18222.27</td>\n",
       "      <td>8431aa62ec764cb49b242e5561a8a136</td>\n",
       "      <td>NaN</td>\n",
       "      <td>NaN</td>\n",
       "      <td>NaN</td>\n",
       "      <td>left_only</td>\n",
       "    </tr>\n",
       "    <tr>\n",
       "      <th>96</th>\n",
       "      <td>clsbq8w3q00010mjo5ydteyn5</td>\n",
       "      <td>1</td>\n",
       "      <td>3332.99</td>\n",
       "      <td>3bcb2e8b040a48458a981261654a5593</td>\n",
       "      <td>NaN</td>\n",
       "      <td>NaN</td>\n",
       "      <td>NaN</td>\n",
       "      <td>left_only</td>\n",
       "    </tr>\n",
       "    <tr>\n",
       "      <th>100</th>\n",
       "      <td>clsxe6huc00010hl52elo8d5e</td>\n",
       "      <td>1</td>\n",
       "      <td>5943.12</td>\n",
       "      <td>55bfff2e54de4bfd8c01c74bbc4b0b4f</td>\n",
       "      <td>NaN</td>\n",
       "      <td>NaN</td>\n",
       "      <td>NaN</td>\n",
       "      <td>left_only</td>\n",
       "    </tr>\n",
       "    <tr>\n",
       "      <th>118</th>\n",
       "      <td>clsiz1cqb000i0djwa4b795gg</td>\n",
       "      <td>1</td>\n",
       "      <td>8238.70</td>\n",
       "      <td>114feefce3064eb096c8e71174126ef8</td>\n",
       "      <td>NaN</td>\n",
       "      <td>NaN</td>\n",
       "      <td>NaN</td>\n",
       "      <td>left_only</td>\n",
       "    </tr>\n",
       "    <tr>\n",
       "      <th>152</th>\n",
       "      <td>clt5koaqf00010djo3yjk2xb3</td>\n",
       "      <td>1</td>\n",
       "      <td>10540.93</td>\n",
       "      <td>f41eb7e430e34ce183e3a5f433f9aaec</td>\n",
       "      <td>NaN</td>\n",
       "      <td>NaN</td>\n",
       "      <td>NaN</td>\n",
       "      <td>left_only</td>\n",
       "    </tr>\n",
       "    <tr>\n",
       "      <th>171</th>\n",
       "      <td>clssw7fkh00010cl952lw5hik</td>\n",
       "      <td>1</td>\n",
       "      <td>11177.66</td>\n",
       "      <td>clisp8fir001c0cmh05mk3xdm</td>\n",
       "      <td>NaN</td>\n",
       "      <td>NaN</td>\n",
       "      <td>NaN</td>\n",
       "      <td>left_only</td>\n",
       "    </tr>\n",
       "    <tr>\n",
       "      <th>181</th>\n",
       "      <td>clrrr43m400010didg9y0e8kj</td>\n",
       "      <td>1</td>\n",
       "      <td>14082.02</td>\n",
       "      <td>cliomdr2o000q0cmo6275abmg</td>\n",
       "      <td>NaN</td>\n",
       "      <td>NaN</td>\n",
       "      <td>NaN</td>\n",
       "      <td>left_only</td>\n",
       "    </tr>\n",
       "    <tr>\n",
       "      <th>191</th>\n",
       "      <td>clt8spkmp00010cl56f253bg1</td>\n",
       "      <td>1</td>\n",
       "      <td>9489.77</td>\n",
       "      <td>clpjlnr6100070dl3d9wj81bb</td>\n",
       "      <td>NaN</td>\n",
       "      <td>NaN</td>\n",
       "      <td>NaN</td>\n",
       "      <td>left_only</td>\n",
       "    </tr>\n",
       "    <tr>\n",
       "      <th>201</th>\n",
       "      <td>cls31cpri00010bldaqa5gzfx</td>\n",
       "      <td>1</td>\n",
       "      <td>9038.36</td>\n",
       "      <td>e56bdf9dd4d0468293568488afece52a</td>\n",
       "      <td>NaN</td>\n",
       "      <td>NaN</td>\n",
       "      <td>NaN</td>\n",
       "      <td>left_only</td>\n",
       "    </tr>\n",
       "    <tr>\n",
       "      <th>212</th>\n",
       "      <td>cltikq97y00010cl551na1gos</td>\n",
       "      <td>1</td>\n",
       "      <td>10884.63</td>\n",
       "      <td>98cbc52929df43d8964557df7ba6b1e9</td>\n",
       "      <td>NaN</td>\n",
       "      <td>NaN</td>\n",
       "      <td>NaN</td>\n",
       "      <td>left_only</td>\n",
       "    </tr>\n",
       "    <tr>\n",
       "      <th>213</th>\n",
       "      <td>clrhpa07f00010dl55eqf2fcd</td>\n",
       "      <td>1</td>\n",
       "      <td>7945.57</td>\n",
       "      <td>50dd9c2efb514775bf810eb393c9b669</td>\n",
       "      <td>NaN</td>\n",
       "      <td>NaN</td>\n",
       "      <td>NaN</td>\n",
       "      <td>left_only</td>\n",
       "    </tr>\n",
       "    <tr>\n",
       "      <th>219</th>\n",
       "      <td>clzcm7uw400010di91jxeaaus</td>\n",
       "      <td>1</td>\n",
       "      <td>5392.06</td>\n",
       "      <td>205e8f7cd5574d0bb1e3edd944705814</td>\n",
       "      <td>NaN</td>\n",
       "      <td>NaN</td>\n",
       "      <td>NaN</td>\n",
       "      <td>left_only</td>\n",
       "    </tr>\n",
       "    <tr>\n",
       "      <th>220</th>\n",
       "      <td>clryrab1h00010el34hinde56</td>\n",
       "      <td>1</td>\n",
       "      <td>7897.83</td>\n",
       "      <td>3ac907157d7f44ec8a5177ca5402c398</td>\n",
       "      <td>NaN</td>\n",
       "      <td>NaN</td>\n",
       "      <td>NaN</td>\n",
       "      <td>left_only</td>\n",
       "    </tr>\n",
       "    <tr>\n",
       "      <th>225</th>\n",
       "      <td>clsaij9ym00010cl528dmhecv</td>\n",
       "      <td>1</td>\n",
       "      <td>13175.37</td>\n",
       "      <td>9693ce28f4e84132bafd3ecafac63cf1</td>\n",
       "      <td>NaN</td>\n",
       "      <td>NaN</td>\n",
       "      <td>NaN</td>\n",
       "      <td>left_only</td>\n",
       "    </tr>\n",
       "    <tr>\n",
       "      <th>227</th>\n",
       "      <td>clzwqjq4300010llb774x5nv0</td>\n",
       "      <td>1</td>\n",
       "      <td>12348.11</td>\n",
       "      <td>d8462f9d50d24586aee405ba1c356fd1</td>\n",
       "      <td>NaN</td>\n",
       "      <td>NaN</td>\n",
       "      <td>NaN</td>\n",
       "      <td>left_only</td>\n",
       "    </tr>\n",
       "    <tr>\n",
       "      <th>251</th>\n",
       "      <td>clssw7fkh00010cl952lw5hik</td>\n",
       "      <td>2</td>\n",
       "      <td>11177.66</td>\n",
       "      <td>clisp8fir001c0cmh05mk3xdm</td>\n",
       "      <td>NaN</td>\n",
       "      <td>NaN</td>\n",
       "      <td>NaN</td>\n",
       "      <td>left_only</td>\n",
       "    </tr>\n",
       "    <tr>\n",
       "      <th>252</th>\n",
       "      <td>clsbqz2mr00010bl73z999sbh</td>\n",
       "      <td>2</td>\n",
       "      <td>7577.70</td>\n",
       "      <td>68209e6ce6304a27930f9e2e6b132466</td>\n",
       "      <td>NaN</td>\n",
       "      <td>NaN</td>\n",
       "      <td>NaN</td>\n",
       "      <td>left_only</td>\n",
       "    </tr>\n",
       "    <tr>\n",
       "      <th>267</th>\n",
       "      <td>cltwqnl8000010ll8005thww0</td>\n",
       "      <td>2</td>\n",
       "      <td>7295.07</td>\n",
       "      <td>3bcb2e8b040a48458a981261654a5593</td>\n",
       "      <td>NaN</td>\n",
       "      <td>NaN</td>\n",
       "      <td>NaN</td>\n",
       "      <td>left_only</td>\n",
       "    </tr>\n",
       "    <tr>\n",
       "      <th>272</th>\n",
       "      <td>cluwkrgnf00010bk25kic02pf</td>\n",
       "      <td>3</td>\n",
       "      <td>10563.01</td>\n",
       "      <td>clgkl7ngy004w0jmsg1aj41sa</td>\n",
       "      <td>NaN</td>\n",
       "      <td>NaN</td>\n",
       "      <td>NaN</td>\n",
       "      <td>left_only</td>\n",
       "    </tr>\n",
       "  </tbody>\n",
       "</table>\n",
       "</div>"
      ],
      "text/plain": [
       "                 membership_id  cycle_number  cycle_liability_post_discount  \\\n",
       "8    clteh44db00010dldddvphpcq             1                        8177.83   \n",
       "10   clt8gc5eu00010djv3i3w7cu8             1                       10862.70   \n",
       "13   cm04ztff200010dl2hycf2e5j             1                        9582.56   \n",
       "17   clumrkpp100010bkydx7y5dy4             1                        6185.69   \n",
       "20   cluwmw5hd00010cjmafwwgl30             1                        7889.33   \n",
       "21   clt5puckd00010dkzde5286m9             1                        8379.72   \n",
       "23   clu12l3hj00010bl9eo8qfroo             1                       10422.81   \n",
       "28   cls2z6ewt00040bjs5r81alyr             1                        4255.84   \n",
       "31   cltgy3jji00010bjzbbuzft96             1                        5371.22   \n",
       "32   cluwn6rc700010dk035ve45hq             1                        8674.30   \n",
       "44   cltzs0dsp00010dl8crfd8p5z             1                       11031.27   \n",
       "54   clxek1cwd00010djo34bzfrjv             1                        8049.60   \n",
       "60   clst7xsfw00010bl80dm1f6wh             1                       10722.27   \n",
       "69   clrkf5m7r00010cla7eio6d0b             1                        7383.07   \n",
       "71   clx0kimwj00010dkz4swlfdop             1                       12232.79   \n",
       "72   clt4ihfi300010ml95pepc42l             1                       15933.74   \n",
       "79   clsevml3300010dle4ml5ftsw             1                       10736.30   \n",
       "80   clte5rhb400010djsb39zcuv0             1                        8714.15   \n",
       "84   clvdqa2jo00010clddqhs515j             1                       18222.27   \n",
       "96   clsbq8w3q00010mjo5ydteyn5             1                        3332.99   \n",
       "100  clsxe6huc00010hl52elo8d5e             1                        5943.12   \n",
       "118  clsiz1cqb000i0djwa4b795gg             1                        8238.70   \n",
       "152  clt5koaqf00010djo3yjk2xb3             1                       10540.93   \n",
       "171  clssw7fkh00010cl952lw5hik             1                       11177.66   \n",
       "181  clrrr43m400010didg9y0e8kj             1                       14082.02   \n",
       "191  clt8spkmp00010cl56f253bg1             1                        9489.77   \n",
       "201  cls31cpri00010bldaqa5gzfx             1                        9038.36   \n",
       "212  cltikq97y00010cl551na1gos             1                       10884.63   \n",
       "213  clrhpa07f00010dl55eqf2fcd             1                        7945.57   \n",
       "219  clzcm7uw400010di91jxeaaus             1                        5392.06   \n",
       "220  clryrab1h00010el34hinde56             1                        7897.83   \n",
       "225  clsaij9ym00010cl528dmhecv             1                       13175.37   \n",
       "227  clzwqjq4300010llb774x5nv0             1                       12348.11   \n",
       "251  clssw7fkh00010cl952lw5hik             2                       11177.66   \n",
       "252  clsbqz2mr00010bl73z999sbh             2                        7577.70   \n",
       "267  cltwqnl8000010ll8005thww0             2                        7295.07   \n",
       "272  cluwkrgnf00010bk25kic02pf             3                       10563.01   \n",
       "\n",
       "                               clinics_id  round_number round_type  \\\n",
       "8        51ee7c940ea14feeb5bd1f64b2776fdd           NaN        NaN   \n",
       "10              clmqb6tsx00050jmhelshbqde           NaN        NaN   \n",
       "13       d83295faca2847aea5b2967865cf68b6           NaN        NaN   \n",
       "17   acdba87c-af1e-4122-a8d5-de1d5bd18254           NaN        NaN   \n",
       "20       3ac907157d7f44ec8a5177ca5402c398           NaN        NaN   \n",
       "21       fd150b6165d64c008f0b708b554b3200           NaN        NaN   \n",
       "23       c1919b2c63a047bcb5c4fc871ae68372           NaN        NaN   \n",
       "28       f6bef049db3d47bcb0e32f89b3e36d09           NaN        NaN   \n",
       "31              clepzgncm00050djk1x3fgndm           NaN        NaN   \n",
       "32       54c97730c0c44b56b7f244131add4b71           NaN        NaN   \n",
       "44              clpjlnr6100070dl3d9wj81bb           NaN        NaN   \n",
       "54       83c6da596e60430aac0e5608a0a15a17           NaN        NaN   \n",
       "60              clpjlnr6100070dl3d9wj81bb           NaN        NaN   \n",
       "69       3bcb2e8b040a48458a981261654a5593           NaN        NaN   \n",
       "71       ed236c69937b44678dcd6875393d8cc5           NaN        NaN   \n",
       "72       8431aa62ec764cb49b242e5561a8a136           NaN        NaN   \n",
       "79       b1f0581d86bd4c6c818c7d596aa4053f           NaN        NaN   \n",
       "80       d8462f9d50d24586aee405ba1c356fd1           NaN        NaN   \n",
       "84       8431aa62ec764cb49b242e5561a8a136           NaN        NaN   \n",
       "96       3bcb2e8b040a48458a981261654a5593           NaN        NaN   \n",
       "100      55bfff2e54de4bfd8c01c74bbc4b0b4f           NaN        NaN   \n",
       "118      114feefce3064eb096c8e71174126ef8           NaN        NaN   \n",
       "152      f41eb7e430e34ce183e3a5f433f9aaec           NaN        NaN   \n",
       "171             clisp8fir001c0cmh05mk3xdm           NaN        NaN   \n",
       "181             cliomdr2o000q0cmo6275abmg           NaN        NaN   \n",
       "191             clpjlnr6100070dl3d9wj81bb           NaN        NaN   \n",
       "201      e56bdf9dd4d0468293568488afece52a           NaN        NaN   \n",
       "212      98cbc52929df43d8964557df7ba6b1e9           NaN        NaN   \n",
       "213      50dd9c2efb514775bf810eb393c9b669           NaN        NaN   \n",
       "219      205e8f7cd5574d0bb1e3edd944705814           NaN        NaN   \n",
       "220      3ac907157d7f44ec8a5177ca5402c398           NaN        NaN   \n",
       "225      9693ce28f4e84132bafd3ecafac63cf1           NaN        NaN   \n",
       "227      d8462f9d50d24586aee405ba1c356fd1           NaN        NaN   \n",
       "251             clisp8fir001c0cmh05mk3xdm           NaN        NaN   \n",
       "252      68209e6ce6304a27930f9e2e6b132466           NaN        NaN   \n",
       "267      3bcb2e8b040a48458a981261654a5593           NaN        NaN   \n",
       "272             clgkl7ngy004w0jmsg1aj41sa           NaN        NaN   \n",
       "\n",
       "    round_current_status     _merge  \n",
       "8                    NaN  left_only  \n",
       "10                   NaN  left_only  \n",
       "13                   NaN  left_only  \n",
       "17                   NaN  left_only  \n",
       "20                   NaN  left_only  \n",
       "21                   NaN  left_only  \n",
       "23                   NaN  left_only  \n",
       "28                   NaN  left_only  \n",
       "31                   NaN  left_only  \n",
       "32                   NaN  left_only  \n",
       "44                   NaN  left_only  \n",
       "54                   NaN  left_only  \n",
       "60                   NaN  left_only  \n",
       "69                   NaN  left_only  \n",
       "71                   NaN  left_only  \n",
       "72                   NaN  left_only  \n",
       "79                   NaN  left_only  \n",
       "80                   NaN  left_only  \n",
       "84                   NaN  left_only  \n",
       "96                   NaN  left_only  \n",
       "100                  NaN  left_only  \n",
       "118                  NaN  left_only  \n",
       "152                  NaN  left_only  \n",
       "171                  NaN  left_only  \n",
       "181                  NaN  left_only  \n",
       "191                  NaN  left_only  \n",
       "201                  NaN  left_only  \n",
       "212                  NaN  left_only  \n",
       "213                  NaN  left_only  \n",
       "219                  NaN  left_only  \n",
       "220                  NaN  left_only  \n",
       "225                  NaN  left_only  \n",
       "227                  NaN  left_only  \n",
       "251                  NaN  left_only  \n",
       "252                  NaN  left_only  \n",
       "267                  NaN  left_only  \n",
       "272                  NaN  left_only  "
      ]
     },
     "metadata": {},
     "output_type": "display_data"
    }
   ],
   "source": [
    "# Find entries missing in rounds_df\n",
    "missing_in_rounds = cycles_df.merge(rounds_df, on=['membership_id', 'cycle_number'], how='left', indicator=True)\n",
    "missing_cycles = missing_in_rounds[missing_in_rounds['_merge'] == 'left_only']\n",
    "\n",
    "# Display the data entries from cycles_df that are missing in rounds_df\n",
    "print(f\"Number of missing entries in rounds_df: {len(missing_cycles)}\")\n",
    "display(missing_cycles)\n"
   ]
  },
  {
   "cell_type": "markdown",
   "id": "b0250b87-79af-4f42-9305-91c48d1d4462",
   "metadata": {},
   "source": [
    "## Analysis of Missing Entries in `rounds_df`\n",
    "\n",
    "### Key Observations\n",
    "\n",
    "1. **Reasons**:\n",
    "     - Canceled rounds.\n",
    "     - Data entry omissions.\n",
    "     - Business logic where certain cycles do not require rounds.\n",
    "\n",
    "2. **Cycle Liability Exists for All Missing Entries**:\n",
    "   - The `cycle_liability_post_discount` column has valid values for all these entries in `cycles_df`.\n",
    "\n",
    "3. **Distribution of Missing Entries**:\n",
    "   - Most entries (33 out of 37 = 90%) are associated with `cycle_number = 1`.\n",
    "   - A few entries, such as `cltwqnl8000010ll8005thww0` and `cluwkrgnf00010bk25kic02pf`, have higher cycle numbers (`cycle_number = 2` or `3`)."
   ]
  },
  {
   "cell_type": "code",
   "execution_count": 33,
   "id": "5987aa37-0548-459b-a1fd-ff72936de25d",
   "metadata": {},
   "outputs": [
    {
     "name": "stdout",
     "output_type": "stream",
     "text": [
      "Summary of Cycle Liabilities for Missing Entries:\n"
     ]
    },
    {
     "data": {
      "text/plain": [
       "count       37.000000\n",
       "mean      9430.487027\n",
       "std       3060.206048\n",
       "min       3332.990000\n",
       "25%       7889.330000\n",
       "50%       9038.360000\n",
       "75%      10884.630000\n",
       "max      18222.270000\n",
       "Name: cycle_liability_post_discount, dtype: float64"
      ]
     },
     "metadata": {},
     "output_type": "display_data"
    }
   ],
   "source": [
    "print(\"Summary of Cycle Liabilities for Missing Entries:\")\n",
    "display(missing_cycles['cycle_liability_post_discount'].describe())\n"
   ]
  },
  {
   "cell_type": "code",
   "execution_count": 34,
   "id": "726e3efd-3f33-4824-bc70-bd5cf5770964",
   "metadata": {},
   "outputs": [
    {
     "data": {
      "text/html": [
       "<div>\n",
       "<style scoped>\n",
       "    .dataframe tbody tr th:only-of-type {\n",
       "        vertical-align: middle;\n",
       "    }\n",
       "\n",
       "    .dataframe tbody tr th {\n",
       "        vertical-align: top;\n",
       "    }\n",
       "\n",
       "    .dataframe thead th {\n",
       "        text-align: right;\n",
       "    }\n",
       "</style>\n",
       "<table border=\"1\" class=\"dataframe\">\n",
       "  <thead>\n",
       "    <tr style=\"text-align: right;\">\n",
       "      <th></th>\n",
       "      <th>membership_id</th>\n",
       "      <th>cycle_number</th>\n",
       "      <th>cycle_liability_post_discount</th>\n",
       "      <th>clinics_id</th>\n",
       "      <th>round_number</th>\n",
       "      <th>round_type</th>\n",
       "      <th>round_current_status</th>\n",
       "      <th>_merge</th>\n",
       "    </tr>\n",
       "  </thead>\n",
       "  <tbody>\n",
       "    <tr>\n",
       "      <th>251</th>\n",
       "      <td>clssw7fkh00010cl952lw5hik</td>\n",
       "      <td>2</td>\n",
       "      <td>11177.66</td>\n",
       "      <td>clisp8fir001c0cmh05mk3xdm</td>\n",
       "      <td>NaN</td>\n",
       "      <td>NaN</td>\n",
       "      <td>NaN</td>\n",
       "      <td>left_only</td>\n",
       "    </tr>\n",
       "    <tr>\n",
       "      <th>252</th>\n",
       "      <td>clsbqz2mr00010bl73z999sbh</td>\n",
       "      <td>2</td>\n",
       "      <td>7577.70</td>\n",
       "      <td>68209e6ce6304a27930f9e2e6b132466</td>\n",
       "      <td>NaN</td>\n",
       "      <td>NaN</td>\n",
       "      <td>NaN</td>\n",
       "      <td>left_only</td>\n",
       "    </tr>\n",
       "    <tr>\n",
       "      <th>267</th>\n",
       "      <td>cltwqnl8000010ll8005thww0</td>\n",
       "      <td>2</td>\n",
       "      <td>7295.07</td>\n",
       "      <td>3bcb2e8b040a48458a981261654a5593</td>\n",
       "      <td>NaN</td>\n",
       "      <td>NaN</td>\n",
       "      <td>NaN</td>\n",
       "      <td>left_only</td>\n",
       "    </tr>\n",
       "    <tr>\n",
       "      <th>272</th>\n",
       "      <td>cluwkrgnf00010bk25kic02pf</td>\n",
       "      <td>3</td>\n",
       "      <td>10563.01</td>\n",
       "      <td>clgkl7ngy004w0jmsg1aj41sa</td>\n",
       "      <td>NaN</td>\n",
       "      <td>NaN</td>\n",
       "      <td>NaN</td>\n",
       "      <td>left_only</td>\n",
       "    </tr>\n",
       "  </tbody>\n",
       "</table>\n",
       "</div>"
      ],
      "text/plain": [
       "                 membership_id  cycle_number  cycle_liability_post_discount  \\\n",
       "251  clssw7fkh00010cl952lw5hik             2                       11177.66   \n",
       "252  clsbqz2mr00010bl73z999sbh             2                        7577.70   \n",
       "267  cltwqnl8000010ll8005thww0             2                        7295.07   \n",
       "272  cluwkrgnf00010bk25kic02pf             3                       10563.01   \n",
       "\n",
       "                           clinics_id  round_number round_type  \\\n",
       "251         clisp8fir001c0cmh05mk3xdm           NaN        NaN   \n",
       "252  68209e6ce6304a27930f9e2e6b132466           NaN        NaN   \n",
       "267  3bcb2e8b040a48458a981261654a5593           NaN        NaN   \n",
       "272         clgkl7ngy004w0jmsg1aj41sa           NaN        NaN   \n",
       "\n",
       "    round_current_status     _merge  \n",
       "251                  NaN  left_only  \n",
       "252                  NaN  left_only  \n",
       "267                  NaN  left_only  \n",
       "272                  NaN  left_only  "
      ]
     },
     "metadata": {},
     "output_type": "display_data"
    }
   ],
   "source": [
    "higher_cycle_numbers = missing_cycles[missing_cycles['cycle_number'] > 1]\n",
    "display(higher_cycle_numbers)"
   ]
  },
  {
   "cell_type": "code",
   "execution_count": 35,
   "id": "43405e72-4f28-462f-8d94-f5542fae8b53",
   "metadata": {},
   "outputs": [
    {
     "data": {
      "text/plain": [
       "clpjlnr6100070dl3d9wj81bb               3\n",
       "3bcb2e8b040a48458a981261654a5593        3\n",
       "8431aa62ec764cb49b242e5561a8a136        2\n",
       "d8462f9d50d24586aee405ba1c356fd1        2\n",
       "3ac907157d7f44ec8a5177ca5402c398        2\n",
       "clisp8fir001c0cmh05mk3xdm               2\n",
       "68209e6ce6304a27930f9e2e6b132466        1\n",
       "9693ce28f4e84132bafd3ecafac63cf1        1\n",
       "205e8f7cd5574d0bb1e3edd944705814        1\n",
       "50dd9c2efb514775bf810eb393c9b669        1\n",
       "98cbc52929df43d8964557df7ba6b1e9        1\n",
       "e56bdf9dd4d0468293568488afece52a        1\n",
       "cliomdr2o000q0cmo6275abmg               1\n",
       "f41eb7e430e34ce183e3a5f433f9aaec        1\n",
       "114feefce3064eb096c8e71174126ef8        1\n",
       "55bfff2e54de4bfd8c01c74bbc4b0b4f        1\n",
       "51ee7c940ea14feeb5bd1f64b2776fdd        1\n",
       "b1f0581d86bd4c6c818c7d596aa4053f        1\n",
       "clmqb6tsx00050jmhelshbqde               1\n",
       "ed236c69937b44678dcd6875393d8cc5        1\n",
       "83c6da596e60430aac0e5608a0a15a17        1\n",
       "54c97730c0c44b56b7f244131add4b71        1\n",
       "clepzgncm00050djk1x3fgndm               1\n",
       "f6bef049db3d47bcb0e32f89b3e36d09        1\n",
       "c1919b2c63a047bcb5c4fc871ae68372        1\n",
       "fd150b6165d64c008f0b708b554b3200        1\n",
       "acdba87c-af1e-4122-a8d5-de1d5bd18254    1\n",
       "d83295faca2847aea5b2967865cf68b6        1\n",
       "clgkl7ngy004w0jmsg1aj41sa               1\n",
       "Name: clinics_id, dtype: int64"
      ]
     },
     "metadata": {},
     "output_type": "display_data"
    }
   ],
   "source": [
    "missing_clinics = missing_cycles['clinics_id'].value_counts()\n",
    "display(missing_clinics)"
   ]
  },
  {
   "cell_type": "code",
   "execution_count": 38,
   "id": "5c7335b1-e760-44f1-bd27-a86b4ece5225",
   "metadata": {},
   "outputs": [
    {
     "data": {
      "image/png": "[encoded data removed]",
      "text/plain": [
       "<Figure size 576x360 with 1 Axes>"
      ]
     },
     "metadata": {
      "needs_background": "light"
     },
     "output_type": "display_data"
    },
    {
     "data": {
      "image/png": "[encoded data removed]",
      "text/plain": [
       "<Figure size 576x360 with 1 Axes>"
      ]
     },
     "metadata": {
      "needs_background": "light"
     },
     "output_type": "display_data"
    },
    {
     "data": {
      "image/png": "[encoded data removed]",
      "text/plain": [
       "<Figure size 576x360 with 1 Axes>"
      ]
     },
     "metadata": {
      "needs_background": "light"
     },
     "output_type": "display_data"
    }
   ],
   "source": [
    "# Bar plots for distribution of the number of rounds per cycle_number categories\n",
    "for cycle_num in [1, 2, 3]:\n",
    "    subset = rounds_df[rounds_df['cycle_number'] == cycle_num]\n",
    "    round_counts = subset.groupby('membership_id')['round_number'].max()\n",
    "    round_distribution = round_counts.value_counts().sort_index()\n",
    "\n",
    "    # Calculate percentages\n",
    "    total_members = round_distribution.sum()\n",
    "    percentage_distribution = (round_distribution / total_members) * 100\n",
    "\n",
    "    # Plot the distribution with percentages\n",
    "    fig, ax = plt.subplots(figsize=(8, 5))\n",
    "    bars = ax.bar(round_distribution.index, round_distribution, edgecolor='black', label=f'Cycle {cycle_num}')\n",
    "\n",
    "    # Annotate bars with percentages\n",
    "    for bar, percentage in zip(bars, percentage_distribution):\n",
    "        ax.text(bar.get_x() + bar.get_width() / 2, bar.get_height(), f\"{percentage:.1f}%\", \n",
    "                ha='center', va='bottom', fontsize=10)\n",
    "\n",
    "    # Customize the plot\n",
    "    ax.set_title(f\"Distribution of Number of Rounds for Cycle {cycle_num}\", fontsize=14)\n",
    "    ax.set_xlabel(\"Number of Rounds\", fontsize=12)\n",
    "    ax.set_ylabel(\"Number of Members\", fontsize=12)\n",
    "    ax.set_xticks(round_distribution.index)\n",
    "    ax.grid(axis='y', linestyle='--', alpha=0.7)\n",
    "    plt.show()"
   ]
  },
  {
   "cell_type": "markdown",
   "id": "df2d4eb3-0579-4fd0-bcb3-b0691bffcfca",
   "metadata": {},
   "source": [
    "### 1. **Cycle 1 High Success Rates**\n",
    "- The high percentage of members achieving success with **1 round (91.58%)** in Cycle 1 could reflect the effectiveness of Gaia's ML model in identifying high-probability candidates.\n",
    "- The model likely filters out candidates with low chances of success early, ensuring that most selected members succeed in fewer rounds.\n",
    "\n",
    "### 2. **Cycle 2 Complexity**\n",
    "- The proportion of members requiring multiple rounds increases significantly compared to Cycle 1 (**53.85% need 2 rounds**), potentially indicating more complex cases.\n",
    "- This suggests that Cycle 2 includes more challenging cases where initial success was not achieved.\n",
    "\n",
    "### 3. **Cycle 3 Complexity**\n",
    "- A very small sample size, but a majority still need **2 rounds (66.67%)**, with some requiring **3 rounds (33.33%)**.\n",
    "- This reflects the increasing difficulty of cases progressing to Cycle 3 and the need for more intensive treatments.\n",
    "\n"
   ]
  },
  {
   "cell_type": "code",
   "execution_count": 45,
   "id": "397858a2-60d9-4594-9d12-588fa69232b8",
   "metadata": {},
   "outputs": [
    {
     "name": "stdout",
     "output_type": "stream",
     "text": [
      "Distribution of round_type:\n"
     ]
    },
    {
     "data": {
      "text/plain": [
       "ANY_IVF_WITH_FRESH_TRANSFER     166\n",
       "ANY_IVF_WITH_EMBRYO_FREEZING     45\n",
       "FROZEN_TRANSFER                  25\n",
       "Name: round_type, dtype: int64"
      ]
     },
     "metadata": {},
     "output_type": "display_data"
    },
    {
     "data": {
      "image/png": "[encoded data removed]",
      "text/plain": [
       "<Figure size 576x360 with 1 Axes>"
      ]
     },
     "metadata": {
      "needs_background": "light"
     },
     "output_type": "display_data"
    },
    {
     "name": "stdout",
     "output_type": "stream",
     "text": [
      "\n",
      "Distribution of round_current_status:\n"
     ]
    },
    {
     "data": {
      "text/plain": [
       "PENDING                       84\n",
       "TREATMENT_STARTED             61\n",
       "UNSUCCESSFUL                  55\n",
       "PREGNANCY                     29\n",
       "CANCELLED                      3\n",
       "PENDING_TRANSFER               2\n",
       "CLEARED_TO_BEGIN_TREATMENT     2\n",
       "Name: round_current_status, dtype: int64"
      ]
     },
     "metadata": {},
     "output_type": "display_data"
    },
    {
     "data": {
      "image/png": "[encoded data removed]",
      "text/plain": [
       "<Figure size 576x360 with 1 Axes>"
      ]
     },
     "metadata": {
      "needs_background": "light"
     },
     "output_type": "display_data"
    }
   ],
   "source": [
    "# Distribution of round_type\n",
    "round_type_distribution = rounds_df['round_type'].value_counts()\n",
    "print(\"Distribution of round_type:\")\n",
    "display(round_type_distribution)\n",
    "\n",
    "# Bar plot for round_type distribution\n",
    "round_type_distribution.plot(kind='bar', figsize=(8, 5), edgecolor='black', color='skyblue')\n",
    "plt.title(\"Distribution of round_type\", fontsize=14)\n",
    "plt.xlabel(\"Round Type\", fontsize=12)\n",
    "plt.ylabel(\"Count\", fontsize=12)\n",
    "plt.xticks(rotation=45, ha='right')\n",
    "plt.grid(axis='y', linestyle='--', alpha=0.7)\n",
    "plt.show()\n",
    "\n",
    "# Distribution of round_current_status\n",
    "round_status_distribution = rounds_df['round_current_status'].value_counts()\n",
    "print(\"\\nDistribution of round_current_status:\")\n",
    "display(round_status_distribution)\n",
    "\n",
    "# Bar plot for round_current_status distribution\n",
    "round_status_distribution.plot(kind='bar', figsize=(8, 5), edgecolor='black', color='salmon')\n",
    "plt.title(\"Distribution of round_current_status\", fontsize=14)\n",
    "plt.xlabel(\"Round Current Status\", fontsize=12)\n",
    "plt.ylabel(\"Count\", fontsize=12)\n",
    "plt.xticks(rotation=45, ha='right')\n",
    "plt.grid(axis='y', linestyle='--', alpha=0.7)\n",
    "plt.show()"
   ]
  },
  {
   "cell_type": "code",
   "execution_count": null,
   "id": "194317d1-b3c0-412e-9d96-fce7c8bf755d",
   "metadata": {},
   "outputs": [],
   "source": []
  },
  {
   "cell_type": "code",
   "execution_count": 64,
   "id": "cad1f07c-9956-4cac-90c8-c8788ecca5d1",
   "metadata": {},
   "outputs": [
    {
     "name": "stdout",
     "output_type": "stream",
     "text": [
      "\n",
      "Round current status distribution by round_type:\n"
     ]
    },
    {
     "data": {
      "text/html": [
       "<div>\n",
       "<style scoped>\n",
       "    .dataframe tbody tr th:only-of-type {\n",
       "        vertical-align: middle;\n",
       "    }\n",
       "\n",
       "    .dataframe tbody tr th {\n",
       "        vertical-align: top;\n",
       "    }\n",
       "\n",
       "    .dataframe thead th {\n",
       "        text-align: right;\n",
       "    }\n",
       "</style>\n",
       "<table border=\"1\" class=\"dataframe\">\n",
       "  <thead>\n",
       "    <tr style=\"text-align: right;\">\n",
       "      <th>round_current_status</th>\n",
       "      <th>CANCELLED</th>\n",
       "      <th>CLEARED_TO_BEGIN_TREATMENT</th>\n",
       "      <th>TREATMENT_STARTED</th>\n",
       "      <th>PENDING_TRANSFER</th>\n",
       "      <th>PENDING</th>\n",
       "      <th>UNSUCCESSFUL</th>\n",
       "      <th>PREGNANCY</th>\n",
       "    </tr>\n",
       "    <tr>\n",
       "      <th>round_type</th>\n",
       "      <th></th>\n",
       "      <th></th>\n",
       "      <th></th>\n",
       "      <th></th>\n",
       "      <th></th>\n",
       "      <th></th>\n",
       "      <th></th>\n",
       "    </tr>\n",
       "  </thead>\n",
       "  <tbody>\n",
       "    <tr>\n",
       "      <th>ANY_IVF_WITH_EMBRYO_FREEZING</th>\n",
       "      <td>1</td>\n",
       "      <td>2</td>\n",
       "      <td>19</td>\n",
       "      <td>0</td>\n",
       "      <td>11</td>\n",
       "      <td>9</td>\n",
       "      <td>3</td>\n",
       "    </tr>\n",
       "    <tr>\n",
       "      <th>ANY_IVF_WITH_FRESH_TRANSFER</th>\n",
       "      <td>2</td>\n",
       "      <td>0</td>\n",
       "      <td>34</td>\n",
       "      <td>1</td>\n",
       "      <td>62</td>\n",
       "      <td>44</td>\n",
       "      <td>23</td>\n",
       "    </tr>\n",
       "    <tr>\n",
       "      <th>FROZEN_TRANSFER</th>\n",
       "      <td>0</td>\n",
       "      <td>0</td>\n",
       "      <td>8</td>\n",
       "      <td>1</td>\n",
       "      <td>11</td>\n",
       "      <td>2</td>\n",
       "      <td>3</td>\n",
       "    </tr>\n",
       "  </tbody>\n",
       "</table>\n",
       "</div>"
      ],
      "text/plain": [
       "round_current_status          CANCELLED  CLEARED_TO_BEGIN_TREATMENT  \\\n",
       "round_type                                                            \n",
       "ANY_IVF_WITH_EMBRYO_FREEZING          1                           2   \n",
       "ANY_IVF_WITH_FRESH_TRANSFER           2                           0   \n",
       "FROZEN_TRANSFER                       0                           0   \n",
       "\n",
       "round_current_status          TREATMENT_STARTED  PENDING_TRANSFER  PENDING  \\\n",
       "round_type                                                                   \n",
       "ANY_IVF_WITH_EMBRYO_FREEZING                 19                 0       11   \n",
       "ANY_IVF_WITH_FRESH_TRANSFER                  34                 1       62   \n",
       "FROZEN_TRANSFER                               8                 1       11   \n",
       "\n",
       "round_current_status          UNSUCCESSFUL  PREGNANCY  \n",
       "round_type                                             \n",
       "ANY_IVF_WITH_EMBRYO_FREEZING             9          3  \n",
       "ANY_IVF_WITH_FRESH_TRANSFER             44         23  \n",
       "FROZEN_TRANSFER                          2          3  "
      ]
     },
     "metadata": {},
     "output_type": "display_data"
    }
   ],
   "source": [
    "# Cross-tabulation of round_current_status by round_type with specified column order\n",
    "status_by_type = rounds_df.pivot_table(\n",
    "    index='round_type', \n",
    "    columns='round_current_status', \n",
    "    aggfunc='size', \n",
    "    fill_value=0\n",
    ")\n",
    "\n",
    "# Reorder the columns as specified\n",
    "desired_order = ['CANCELLED', 'CLEARED_TO_BEGIN_TREATMENT', 'TREATMENT_STARTED', \n",
    "                 'PENDING_TRANSFER', 'PENDING', 'UNSUCCESSFUL', 'PREGNANCY']\n",
    "status_by_type = status_by_type[desired_order]\n",
    "\n",
    "print(\"\\nRound current status distribution by round_type:\")\n",
    "display(status_by_type)\n"
   ]
  },
  {
   "cell_type": "markdown",
   "id": "744be1c9-8561-4dd7-b933-ec156bf1cb66",
   "metadata": {},
   "source": [
    "## Invoices"
   ]
  },
  {
   "cell_type": "code",
   "execution_count": 119,
   "id": "d81fbdad-27f1-4d71-8a20-c0cd490f0e9b",
   "metadata": {},
   "outputs": [
    {
     "data": {
      "text/html": [
       "<style type=\"text/css\">\n",
       "</style>\n",
       "<table id=\"T_42677\" style='display:inline'>\n",
       "  <caption>Invoices DataFrame</caption>\n",
       "  <thead>\n",
       "    <tr>\n",
       "      <th class=\"blank level0\" >&nbsp;</th>\n",
       "      <th id=\"T_42677_level0_col0\" class=\"col_heading level0 col0\" >invoice_id</th>\n",
       "      <th id=\"T_42677_level0_col1\" class=\"col_heading level0 col1\" >membership_id</th>\n",
       "      <th id=\"T_42677_level0_col2\" class=\"col_heading level0 col2\" >round_num</th>\n",
       "      <th id=\"T_42677_level0_col3\" class=\"col_heading level0 col3\" >supplier_type</th>\n",
       "      <th id=\"T_42677_level0_col4\" class=\"col_heading level0 col4\" >gross_total_amount</th>\n",
       "      <th id=\"T_42677_level0_col5\" class=\"col_heading level0 col5\" >gross_treatment_amount</th>\n",
       "      <th id=\"T_42677_level0_col6\" class=\"col_heading level0 col6\" >gross_medication_amount</th>\n",
       "      <th id=\"T_42677_level0_col7\" class=\"col_heading level0 col7\" >gross_other_amount</th>\n",
       "    </tr>\n",
       "  </thead>\n",
       "  <tbody>\n",
       "    <tr>\n",
       "      <th id=\"T_42677_level0_row0\" class=\"row_heading level0 row0\" >0</th>\n",
       "      <td id=\"T_42677_row0_col0\" class=\"data row0 col0\" >1yZASciiIWWCsR7MDpxCoKRY1ldGcFSk_</td>\n",
       "      <td id=\"T_42677_row0_col1\" class=\"data row0 col1\" >cm06sxge500010dl4cwc66pqa</td>\n",
       "      <td id=\"T_42677_row0_col2\" class=\"data row0 col2\" >1</td>\n",
       "      <td id=\"T_42677_row0_col3\" class=\"data row0 col3\" >CLINIC</td>\n",
       "      <td id=\"T_42677_row0_col4\" class=\"data row0 col4\" >500.000000</td>\n",
       "      <td id=\"T_42677_row0_col5\" class=\"data row0 col5\" >0.000000</td>\n",
       "      <td id=\"T_42677_row0_col6\" class=\"data row0 col6\" >0.000000</td>\n",
       "      <td id=\"T_42677_row0_col7\" class=\"data row0 col7\" >500.000000</td>\n",
       "    </tr>\n",
       "    <tr>\n",
       "      <th id=\"T_42677_level0_row1\" class=\"row_heading level0 row1\" >1</th>\n",
       "      <td id=\"T_42677_row1_col0\" class=\"data row1 col0\" >cm0p1vesa00080dl22xlc8qnu</td>\n",
       "      <td id=\"T_42677_row1_col1\" class=\"data row1 col1\" >cm06sxge500010dl4cwc66pqa</td>\n",
       "      <td id=\"T_42677_row1_col2\" class=\"data row1 col2\" >1</td>\n",
       "      <td id=\"T_42677_row1_col3\" class=\"data row1 col3\" >CLINIC</td>\n",
       "      <td id=\"T_42677_row1_col4\" class=\"data row1 col4\" >523.600000</td>\n",
       "      <td id=\"T_42677_row1_col5\" class=\"data row1 col5\" >0.000000</td>\n",
       "      <td id=\"T_42677_row1_col6\" class=\"data row1 col6\" >0.000000</td>\n",
       "      <td id=\"T_42677_row1_col7\" class=\"data row1 col7\" >523.600000</td>\n",
       "    </tr>\n",
       "    <tr>\n",
       "      <th id=\"T_42677_level0_row2\" class=\"row_heading level0 row2\" >2</th>\n",
       "      <td id=\"T_42677_row2_col0\" class=\"data row2 col0\" >clzwotplq000r0dlc8cro0evx</td>\n",
       "      <td id=\"T_42677_row2_col1\" class=\"data row2 col1\" >clwtc0ngg00010bmf3jc3hb7z</td>\n",
       "      <td id=\"T_42677_row2_col2\" class=\"data row2 col2\" >1</td>\n",
       "      <td id=\"T_42677_row2_col3\" class=\"data row2 col3\" >CLINIC</td>\n",
       "      <td id=\"T_42677_row2_col4\" class=\"data row2 col4\" >2645.000000</td>\n",
       "      <td id=\"T_42677_row2_col5\" class=\"data row2 col5\" >0.000000</td>\n",
       "      <td id=\"T_42677_row2_col6\" class=\"data row2 col6\" >2645.000000</td>\n",
       "      <td id=\"T_42677_row2_col7\" class=\"data row2 col7\" >0.000000</td>\n",
       "    </tr>\n",
       "    <tr>\n",
       "      <th id=\"T_42677_level0_row3\" class=\"row_heading level0 row3\" >3</th>\n",
       "      <td id=\"T_42677_row3_col0\" class=\"data row3 col0\" >1Xr7Rar9Kd70ze1qFSumQDYpMbtx2FHvD_1</td>\n",
       "      <td id=\"T_42677_row3_col1\" class=\"data row3 col1\" >clu11m89e00010cl4ghgggguo</td>\n",
       "      <td id=\"T_42677_row3_col2\" class=\"data row3 col2\" >2</td>\n",
       "      <td id=\"T_42677_row3_col3\" class=\"data row3 col3\" >CLINIC</td>\n",
       "      <td id=\"T_42677_row3_col4\" class=\"data row3 col4\" >2385.000000</td>\n",
       "      <td id=\"T_42677_row3_col5\" class=\"data row3 col5\" >0.000000</td>\n",
       "      <td id=\"T_42677_row3_col6\" class=\"data row3 col6\" >0.000000</td>\n",
       "      <td id=\"T_42677_row3_col7\" class=\"data row3 col7\" >2385.000000</td>\n",
       "    </tr>\n",
       "    <tr>\n",
       "      <th id=\"T_42677_level0_row4\" class=\"row_heading level0 row4\" >4</th>\n",
       "      <td id=\"T_42677_row4_col0\" class=\"data row4 col0\" >clybzap5x00090dlc9ye05cth</td>\n",
       "      <td id=\"T_42677_row4_col1\" class=\"data row4 col1\" >clu11m89e00010cl4ghgggguo</td>\n",
       "      <td id=\"T_42677_row4_col2\" class=\"data row4 col2\" >1</td>\n",
       "      <td id=\"T_42677_row4_col3\" class=\"data row4 col3\" >CLINIC</td>\n",
       "      <td id=\"T_42677_row4_col4\" class=\"data row4 col4\" >3156.760000</td>\n",
       "      <td id=\"T_42677_row4_col5\" class=\"data row4 col5\" >0.000000</td>\n",
       "      <td id=\"T_42677_row4_col6\" class=\"data row4 col6\" >3156.760000</td>\n",
       "      <td id=\"T_42677_row4_col7\" class=\"data row4 col7\" >0.000000</td>\n",
       "    </tr>\n",
       "  </tbody>\n",
       "</table>\n"
      ],
      "text/plain": [
       "<pandas.io.formats.style.Styler at 0x7fe7712c1b50>"
      ]
     },
     "metadata": {},
     "output_type": "display_data"
    },
    {
     "name": "stdout",
     "output_type": "stream",
     "text": [
      "Shape invoices table (rows, cols) = (817, 8)\n"
     ]
    }
   ],
   "source": [
    "display(invoices_df.head().style.set_table_attributes(\"style='display:inline'\").set_caption(\"Invoices DataFrame\"))\n",
    "print(\"Shape invoices table (rows, cols) =\",invoices_df.shape)"
   ]
  },
  {
   "cell_type": "code",
   "execution_count": 49,
   "id": "7623fb6e-fd41-4f80-84a3-3ebd5609f6b1",
   "metadata": {},
   "outputs": [
    {
     "name": "stdout",
     "output_type": "stream",
     "text": [
      "Missing values in Invoices DataFrame:\n"
     ]
    },
    {
     "data": {
      "text/plain": [
       "invoice_id                 0\n",
       "membership_id              0\n",
       "round_num                  0\n",
       "supplier_type              0\n",
       "gross_total_amount         0\n",
       "gross_treatment_amount     0\n",
       "gross_medication_amount    0\n",
       "gross_other_amount         0\n",
       "dtype: int64"
      ]
     },
     "metadata": {},
     "output_type": "display_data"
    },
    {
     "name": "stdout",
     "output_type": "stream",
     "text": [
      "\n",
      "Summary Statistics for Invoices DataFrame:\n"
     ]
    },
    {
     "data": {
      "text/html": [
       "<div>\n",
       "<style scoped>\n",
       "    .dataframe tbody tr th:only-of-type {\n",
       "        vertical-align: middle;\n",
       "    }\n",
       "\n",
       "    .dataframe tbody tr th {\n",
       "        vertical-align: top;\n",
       "    }\n",
       "\n",
       "    .dataframe thead th {\n",
       "        text-align: right;\n",
       "    }\n",
       "</style>\n",
       "<table border=\"1\" class=\"dataframe\">\n",
       "  <thead>\n",
       "    <tr style=\"text-align: right;\">\n",
       "      <th></th>\n",
       "      <th>round_num</th>\n",
       "      <th>gross_total_amount</th>\n",
       "      <th>gross_treatment_amount</th>\n",
       "      <th>gross_medication_amount</th>\n",
       "      <th>gross_other_amount</th>\n",
       "    </tr>\n",
       "  </thead>\n",
       "  <tbody>\n",
       "    <tr>\n",
       "      <th>count</th>\n",
       "      <td>817.000000</td>\n",
       "      <td>817.000000</td>\n",
       "      <td>817.000000</td>\n",
       "      <td>817.000000</td>\n",
       "      <td>817.000000</td>\n",
       "    </tr>\n",
       "    <tr>\n",
       "      <th>mean</th>\n",
       "      <td>1.236230</td>\n",
       "      <td>2084.347972</td>\n",
       "      <td>1051.728656</td>\n",
       "      <td>419.611601</td>\n",
       "      <td>613.007714</td>\n",
       "    </tr>\n",
       "    <tr>\n",
       "      <th>std</th>\n",
       "      <td>0.865606</td>\n",
       "      <td>2749.048412</td>\n",
       "      <td>2438.025469</td>\n",
       "      <td>731.085349</td>\n",
       "      <td>1710.947276</td>\n",
       "    </tr>\n",
       "    <tr>\n",
       "      <th>min</th>\n",
       "      <td>1.000000</td>\n",
       "      <td>-5405.000000</td>\n",
       "      <td>-5405.000000</td>\n",
       "      <td>-2720.000000</td>\n",
       "      <td>-3036.000000</td>\n",
       "    </tr>\n",
       "    <tr>\n",
       "      <th>25%</th>\n",
       "      <td>1.000000</td>\n",
       "      <td>190.260000</td>\n",
       "      <td>0.000000</td>\n",
       "      <td>0.000000</td>\n",
       "      <td>0.000000</td>\n",
       "    </tr>\n",
       "    <tr>\n",
       "      <th>50%</th>\n",
       "      <td>1.000000</td>\n",
       "      <td>961.000000</td>\n",
       "      <td>0.000000</td>\n",
       "      <td>73.000000</td>\n",
       "      <td>0.000000</td>\n",
       "    </tr>\n",
       "    <tr>\n",
       "      <th>75%</th>\n",
       "      <td>1.000000</td>\n",
       "      <td>2715.909091</td>\n",
       "      <td>39.420000</td>\n",
       "      <td>498.000000</td>\n",
       "      <td>0.000000</td>\n",
       "    </tr>\n",
       "    <tr>\n",
       "      <th>max</th>\n",
       "      <td>9.000000</td>\n",
       "      <td>15250.000000</td>\n",
       "      <td>15250.000000</td>\n",
       "      <td>6374.000000</td>\n",
       "      <td>13650.000000</td>\n",
       "    </tr>\n",
       "  </tbody>\n",
       "</table>\n",
       "</div>"
      ],
      "text/plain": [
       "        round_num  gross_total_amount  gross_treatment_amount  \\\n",
       "count  817.000000          817.000000              817.000000   \n",
       "mean     1.236230         2084.347972             1051.728656   \n",
       "std      0.865606         2749.048412             2438.025469   \n",
       "min      1.000000        -5405.000000            -5405.000000   \n",
       "25%      1.000000          190.260000                0.000000   \n",
       "50%      1.000000          961.000000                0.000000   \n",
       "75%      1.000000         2715.909091               39.420000   \n",
       "max      9.000000        15250.000000            15250.000000   \n",
       "\n",
       "       gross_medication_amount  gross_other_amount  \n",
       "count               817.000000          817.000000  \n",
       "mean                419.611601          613.007714  \n",
       "std                 731.085349         1710.947276  \n",
       "min               -2720.000000        -3036.000000  \n",
       "25%                   0.000000            0.000000  \n",
       "50%                  73.000000            0.000000  \n",
       "75%                 498.000000            0.000000  \n",
       "max                6374.000000        13650.000000  "
      ]
     },
     "metadata": {},
     "output_type": "display_data"
    },
    {
     "name": "stdout",
     "output_type": "stream",
     "text": [
      "\n",
      "Number of Duplicate Rows in Invoices DataFrame: 0\n",
      "\n",
      "Missing columns in Invoices DataFrame: ['treatment_amount', 'medication_amount', 'other_amount', 'overall_total']\n"
     ]
    }
   ],
   "source": [
    "# Explore the invoices data\n",
    "\n",
    "# Convert column names to lowercase and replace spaces with underscores\n",
    "invoices_df.columns = invoices_df.columns.str.lower().str.replace(' ', '_')\n",
    "\n",
    "# Check for missing values\n",
    "print(\"Missing values in Invoices DataFrame:\")\n",
    "display(invoices_df.isnull().sum())\n",
    "\n",
    "# Basic statistics for numeric columns\n",
    "print(\"\\nSummary Statistics for Invoices DataFrame:\")\n",
    "display(invoices_df.describe())\n",
    "\n",
    "# Check for duplicates\n",
    "duplicates_invoices = invoices_df.duplicated()\n",
    "print(f\"\\nNumber of Duplicate Rows in Invoices DataFrame: {duplicates_invoices.sum()}\")\n",
    "\n",
    "# Ensure all expected columns exist\n",
    "required_columns = ['treatment_amount', 'medication_amount', 'other_amount', 'overall_total']\n",
    "missing_columns = [col for col in required_columns if col not in invoices_df.columns]\n",
    "if missing_columns:\n",
    "    print(f\"\\nMissing columns in Invoices DataFrame: {missing_columns}\")\n",
    "else:\n",
    "    # Aggregate totals for treatment, medication, and other amounts\n",
    "    total_treatment = invoices_df['treatment_amount'].sum()\n",
    "    total_medication = invoices_df['medication_amount'].sum()\n",
    "    total_other = invoices_df['other_amount'].sum()\n",
    "    total_overall = invoices_df['overall_total'].sum()\n",
    "\n",
    "    print(\"\\nAggregate Totals:\")\n",
    "    print(f\"Total Treatment Amount: {total_treatment}\")\n",
    "    print(f\"Total Medication Amount: {total_medication}\")\n",
    "    print(f\"Total Other Amounts: {total_other}\")\n",
    "    print(f\"Overall Total: {total_overall}\")\n",
    "\n",
    "    # Distribution plots for numeric columns\n",
    "    import matplotlib.pyplot as plt\n",
    "\n",
    "    numeric_columns = ['treatment_amount', 'medication_amount', 'other_amount', 'overall_total']\n",
    "    for column in numeric_columns:\n",
    "        plt.figure(figsize=(8, 5))\n",
    "        invoices_df[column].plot(kind='hist', bins=20, edgecolor='black', alpha=0.7)\n",
    "        plt.title(f\"Distribution of {column}\", fontsize=14)\n",
    "        plt.xlabel(column.replace('_', ' ').title(), fontsize=12)\n",
    "        plt.ylabel(\"Frequency\", fontsize=12)\n",
    "        plt.grid(axis='y', linestyle='--', alpha=0.7)\n",
    "        plt.show()\n"
   ]
  },
  {
   "cell_type": "markdown",
   "id": "76dd0651-8e97-4194-8c92-3ae126c890b3",
   "metadata": {},
   "source": [
    "## Joining all 3 tables"
   ]
  },
  {
   "cell_type": "code",
   "execution_count": 124,
   "id": "c0d2208d-3410-4be9-bddf-5d64f7592d48",
   "metadata": {},
   "outputs": [
    {
     "name": "stdout",
     "output_type": "stream",
     "text": [
      "\n",
      "Merged Data Shape:\n",
      "(1131, 15)\n"
     ]
    },
    {
     "data": {
      "text/html": [
       "<div>\n",
       "<style scoped>\n",
       "    .dataframe tbody tr th:only-of-type {\n",
       "        vertical-align: middle;\n",
       "    }\n",
       "\n",
       "    .dataframe tbody tr th {\n",
       "        vertical-align: top;\n",
       "    }\n",
       "\n",
       "    .dataframe thead th {\n",
       "        text-align: right;\n",
       "    }\n",
       "</style>\n",
       "<table border=\"1\" class=\"dataframe\">\n",
       "  <thead>\n",
       "    <tr style=\"text-align: right;\">\n",
       "      <th></th>\n",
       "      <th>membership_id</th>\n",
       "      <th>cycle_number_x</th>\n",
       "      <th>cycle_liability_post_discount</th>\n",
       "      <th>clinics_id</th>\n",
       "      <th>cycle_number_y</th>\n",
       "      <th>round_number</th>\n",
       "      <th>round_type</th>\n",
       "      <th>round_current_status</th>\n",
       "      <th>invoice_id</th>\n",
       "      <th>round_num</th>\n",
       "      <th>supplier_type</th>\n",
       "      <th>gross_total_amount</th>\n",
       "      <th>gross_treatment_amount</th>\n",
       "      <th>gross_medication_amount</th>\n",
       "      <th>gross_other_amount</th>\n",
       "    </tr>\n",
       "  </thead>\n",
       "  <tbody>\n",
       "    <tr>\n",
       "      <th>0</th>\n",
       "      <td>cltqx2w4q00010ml1fhm9hy32</td>\n",
       "      <td>1</td>\n",
       "      <td>6283.40</td>\n",
       "      <td>7ebcc0c8d77d42309ab6dae22beb6e9a</td>\n",
       "      <td>1</td>\n",
       "      <td>1</td>\n",
       "      <td>ANY_IVF_WITH_FRESH_TRANSFER</td>\n",
       "      <td>PREGNANCY</td>\n",
       "      <td>clv3mza4c001p0dld9yeqh3ui</td>\n",
       "      <td>1</td>\n",
       "      <td>CLINIC</td>\n",
       "      <td>4000.0</td>\n",
       "      <td>4000.0</td>\n",
       "      <td>0.0</td>\n",
       "      <td>0.0</td>\n",
       "    </tr>\n",
       "    <tr>\n",
       "      <th>1</th>\n",
       "      <td>clrhwsasp00080dl40mj81twz</td>\n",
       "      <td>1</td>\n",
       "      <td>7661.02</td>\n",
       "      <td>ed236c69937b44678dcd6875393d8cc5</td>\n",
       "      <td>1</td>\n",
       "      <td>1</td>\n",
       "      <td>ANY_IVF_WITH_FRESH_TRANSFER</td>\n",
       "      <td>UNSUCCESSFUL</td>\n",
       "      <td>clsly50jx000r0dld7z8d4jl6</td>\n",
       "      <td>1</td>\n",
       "      <td>CLINIC</td>\n",
       "      <td>5035.0</td>\n",
       "      <td>5035.0</td>\n",
       "      <td>0.0</td>\n",
       "      <td>0.0</td>\n",
       "    </tr>\n",
       "    <tr>\n",
       "      <th>2</th>\n",
       "      <td>clrhwsasp00080dl40mj81twz</td>\n",
       "      <td>1</td>\n",
       "      <td>7661.02</td>\n",
       "      <td>ed236c69937b44678dcd6875393d8cc5</td>\n",
       "      <td>1</td>\n",
       "      <td>1</td>\n",
       "      <td>ANY_IVF_WITH_FRESH_TRANSFER</td>\n",
       "      <td>UNSUCCESSFUL</td>\n",
       "      <td>cltcruepg00090dl49sihbmsi</td>\n",
       "      <td>1</td>\n",
       "      <td>CLINIC</td>\n",
       "      <td>163.6</td>\n",
       "      <td>100.0</td>\n",
       "      <td>63.6</td>\n",
       "      <td>0.0</td>\n",
       "    </tr>\n",
       "    <tr>\n",
       "      <th>3</th>\n",
       "      <td>clrhwsasp00080dl40mj81twz</td>\n",
       "      <td>1</td>\n",
       "      <td>7661.02</td>\n",
       "      <td>ed236c69937b44678dcd6875393d8cc5</td>\n",
       "      <td>1</td>\n",
       "      <td>1</td>\n",
       "      <td>ANY_IVF_WITH_FRESH_TRANSFER</td>\n",
       "      <td>UNSUCCESSFUL</td>\n",
       "      <td>clslsuzup00050djreioygfpx</td>\n",
       "      <td>1</td>\n",
       "      <td>CLINIC</td>\n",
       "      <td>216.0</td>\n",
       "      <td>0.0</td>\n",
       "      <td>216.0</td>\n",
       "      <td>0.0</td>\n",
       "    </tr>\n",
       "    <tr>\n",
       "      <th>4</th>\n",
       "      <td>clrhwsasp00080dl40mj81twz</td>\n",
       "      <td>1</td>\n",
       "      <td>7661.02</td>\n",
       "      <td>ed236c69937b44678dcd6875393d8cc5</td>\n",
       "      <td>1</td>\n",
       "      <td>1</td>\n",
       "      <td>ANY_IVF_WITH_FRESH_TRANSFER</td>\n",
       "      <td>UNSUCCESSFUL</td>\n",
       "      <td>clrs2t5iq00080cjldf1uan3j</td>\n",
       "      <td>1</td>\n",
       "      <td>CLINIC</td>\n",
       "      <td>678.0</td>\n",
       "      <td>0.0</td>\n",
       "      <td>678.0</td>\n",
       "      <td>0.0</td>\n",
       "    </tr>\n",
       "  </tbody>\n",
       "</table>\n",
       "</div>"
      ],
      "text/plain": [
       "               membership_id  cycle_number_x  cycle_liability_post_discount  \\\n",
       "0  cltqx2w4q00010ml1fhm9hy32               1                        6283.40   \n",
       "1  clrhwsasp00080dl40mj81twz               1                        7661.02   \n",
       "2  clrhwsasp00080dl40mj81twz               1                        7661.02   \n",
       "3  clrhwsasp00080dl40mj81twz               1                        7661.02   \n",
       "4  clrhwsasp00080dl40mj81twz               1                        7661.02   \n",
       "\n",
       "                         clinics_id  cycle_number_y  round_number  \\\n",
       "0  7ebcc0c8d77d42309ab6dae22beb6e9a               1             1   \n",
       "1  ed236c69937b44678dcd6875393d8cc5               1             1   \n",
       "2  ed236c69937b44678dcd6875393d8cc5               1             1   \n",
       "3  ed236c69937b44678dcd6875393d8cc5               1             1   \n",
       "4  ed236c69937b44678dcd6875393d8cc5               1             1   \n",
       "\n",
       "                    round_type round_current_status  \\\n",
       "0  ANY_IVF_WITH_FRESH_TRANSFER            PREGNANCY   \n",
       "1  ANY_IVF_WITH_FRESH_TRANSFER         UNSUCCESSFUL   \n",
       "2  ANY_IVF_WITH_FRESH_TRANSFER         UNSUCCESSFUL   \n",
       "3  ANY_IVF_WITH_FRESH_TRANSFER         UNSUCCESSFUL   \n",
       "4  ANY_IVF_WITH_FRESH_TRANSFER         UNSUCCESSFUL   \n",
       "\n",
       "                  invoice_id  round_num supplier_type  gross_total_amount  \\\n",
       "0  clv3mza4c001p0dld9yeqh3ui          1        CLINIC              4000.0   \n",
       "1  clsly50jx000r0dld7z8d4jl6          1        CLINIC              5035.0   \n",
       "2  cltcruepg00090dl49sihbmsi          1        CLINIC               163.6   \n",
       "3  clslsuzup00050djreioygfpx          1        CLINIC               216.0   \n",
       "4  clrs2t5iq00080cjldf1uan3j          1        CLINIC               678.0   \n",
       "\n",
       "   gross_treatment_amount  gross_medication_amount  gross_other_amount  \n",
       "0                  4000.0                      0.0                 0.0  \n",
       "1                  5035.0                      0.0                 0.0  \n",
       "2                   100.0                     63.6                 0.0  \n",
       "3                     0.0                    216.0                 0.0  \n",
       "4                     0.0                    678.0                 0.0  "
      ]
     },
     "metadata": {},
     "output_type": "display_data"
    }
   ],
   "source": [
    "# Join the three tables by keeping only the members who appear in the cycles table\n",
    "\n",
    "# Merge cycles with rounds on membership_id\n",
    "merged_data = cycles_df.merge(rounds_df, on='membership_id', how='inner')\n",
    "\n",
    "# Merge the result with invoices on membership_id\n",
    "merged_data = merged_data.merge(invoices_df, on='membership_id', how='inner')\n",
    "\n",
    "# Display the resulting merged table\n",
    "print(\"\\nMerged Data Shape:\")\n",
    "print(merged_data.shape)\n",
    "display(merged_data.head())\n"
   ]
  },
  {
   "cell_type": "code",
   "execution_count": 59,
   "id": "27553a98-56c0-4ab5-bccb-782ace3659ba",
   "metadata": {},
   "outputs": [
    {
     "name": "stdout",
     "output_type": "stream",
     "text": [
      "\n",
      "PNL Summary for All Round Current Status:\n"
     ]
    },
    {
     "data": {
      "text/html": [
       "<div>\n",
       "<style scoped>\n",
       "    .dataframe tbody tr th:only-of-type {\n",
       "        vertical-align: middle;\n",
       "    }\n",
       "\n",
       "    .dataframe tbody tr th {\n",
       "        vertical-align: top;\n",
       "    }\n",
       "\n",
       "    .dataframe thead th {\n",
       "        text-align: right;\n",
       "    }\n",
       "</style>\n",
       "<table border=\"1\" class=\"dataframe\">\n",
       "  <thead>\n",
       "    <tr style=\"text-align: right;\">\n",
       "      <th></th>\n",
       "      <th>mean</th>\n",
       "      <th>sum</th>\n",
       "      <th>min</th>\n",
       "      <th>max</th>\n",
       "    </tr>\n",
       "    <tr>\n",
       "      <th>round_current_status</th>\n",
       "      <th></th>\n",
       "      <th></th>\n",
       "      <th></th>\n",
       "      <th></th>\n",
       "    </tr>\n",
       "  </thead>\n",
       "  <tbody>\n",
       "    <tr>\n",
       "      <th>CANCELLED</th>\n",
       "      <td>1886.444706</td>\n",
       "      <td>64,139.12</td>\n",
       "      <td>-4099.840000</td>\n",
       "      <td>4373.540000</td>\n",
       "    </tr>\n",
       "    <tr>\n",
       "      <th>CLEARED_TO_BEGIN_TREATMENT</th>\n",
       "      <td>12561.305000</td>\n",
       "      <td>75,367.83</td>\n",
       "      <td>7043.270000</td>\n",
       "      <td>20651.250000</td>\n",
       "    </tr>\n",
       "    <tr>\n",
       "      <th>PENDING</th>\n",
       "      <td>6896.610704</td>\n",
       "      <td>1,255,183.15</td>\n",
       "      <td>-19.282727</td>\n",
       "      <td>15494.038182</td>\n",
       "    </tr>\n",
       "    <tr>\n",
       "      <th>PENDING_TRANSFER</th>\n",
       "      <td>10609.164545</td>\n",
       "      <td>116,700.81</td>\n",
       "      <td>4946.670000</td>\n",
       "      <td>14012.590000</td>\n",
       "    </tr>\n",
       "    <tr>\n",
       "      <th>PREGNANCY</th>\n",
       "      <td>9019.777569</td>\n",
       "      <td>1,966,311.51</td>\n",
       "      <td>-110.040000</td>\n",
       "      <td>17389.380000</td>\n",
       "    </tr>\n",
       "    <tr>\n",
       "      <th>TREATMENT_STARTED</th>\n",
       "      <td>6641.669024</td>\n",
       "      <td>1,620,567.24</td>\n",
       "      <td>-4099.840000</td>\n",
       "      <td>17957.750000</td>\n",
       "    </tr>\n",
       "    <tr>\n",
       "      <th>UNSUCCESSFUL</th>\n",
       "      <td>7062.004233</td>\n",
       "      <td>3,079,033.85</td>\n",
       "      <td>-4020.000000</td>\n",
       "      <td>15348.780000</td>\n",
       "    </tr>\n",
       "  </tbody>\n",
       "</table>\n",
       "</div>"
      ],
      "text/plain": [
       "                                    mean           sum          min  \\\n",
       "round_current_status                                                  \n",
       "CANCELLED                    1886.444706     64,139.12 -4099.840000   \n",
       "CLEARED_TO_BEGIN_TREATMENT  12561.305000     75,367.83  7043.270000   \n",
       "PENDING                      6896.610704  1,255,183.15   -19.282727   \n",
       "PENDING_TRANSFER            10609.164545    116,700.81  4946.670000   \n",
       "PREGNANCY                    9019.777569  1,966,311.51  -110.040000   \n",
       "TREATMENT_STARTED            6641.669024  1,620,567.24 -4099.840000   \n",
       "UNSUCCESSFUL                 7062.004233  3,079,033.85 -4020.000000   \n",
       "\n",
       "                                     max  \n",
       "round_current_status                      \n",
       "CANCELLED                    4373.540000  \n",
       "CLEARED_TO_BEGIN_TREATMENT  20651.250000  \n",
       "PENDING                     15494.038182  \n",
       "PENDING_TRANSFER            14012.590000  \n",
       "PREGNANCY                   17389.380000  \n",
       "TREATMENT_STARTED           17957.750000  \n",
       "UNSUCCESSFUL                15348.780000  "
      ]
     },
     "metadata": {},
     "output_type": "display_data"
    },
    {
     "name": "stdout",
     "output_type": "stream",
     "text": [
      "\n",
      "Members Who Made Gaia Lose Money:\n"
     ]
    },
    {
     "data": {
      "text/html": [
       "<div>\n",
       "<style scoped>\n",
       "    .dataframe tbody tr th:only-of-type {\n",
       "        vertical-align: middle;\n",
       "    }\n",
       "\n",
       "    .dataframe tbody tr th {\n",
       "        vertical-align: top;\n",
       "    }\n",
       "\n",
       "    .dataframe thead th {\n",
       "        text-align: right;\n",
       "    }\n",
       "</style>\n",
       "<table border=\"1\" class=\"dataframe\">\n",
       "  <thead>\n",
       "    <tr style=\"text-align: right;\">\n",
       "      <th></th>\n",
       "      <th>membership_id</th>\n",
       "      <th>cycle_liability_post_discount</th>\n",
       "      <th>gross_total_amount</th>\n",
       "      <th>pnl</th>\n",
       "    </tr>\n",
       "  </thead>\n",
       "  <tbody>\n",
       "    <tr>\n",
       "      <th>26</th>\n",
       "      <td>cltr095r700010cl6hvxx82bt</td>\n",
       "      <td>6383.96</td>\n",
       "      <td>6494.000000</td>\n",
       "      <td>-110.040000</td>\n",
       "    </tr>\n",
       "    <tr>\n",
       "      <th>32</th>\n",
       "      <td>cltr095r700010cl6hvxx82bt</td>\n",
       "      <td>6383.96</td>\n",
       "      <td>6494.000000</td>\n",
       "      <td>-110.040000</td>\n",
       "    </tr>\n",
       "    <tr>\n",
       "      <th>38</th>\n",
       "      <td>cltr095r700010cl6hvxx82bt</td>\n",
       "      <td>6383.96</td>\n",
       "      <td>6494.000000</td>\n",
       "      <td>-110.040000</td>\n",
       "    </tr>\n",
       "    <tr>\n",
       "      <th>44</th>\n",
       "      <td>cltr095r700010cl6hvxx82bt</td>\n",
       "      <td>6383.96</td>\n",
       "      <td>6494.000000</td>\n",
       "      <td>-110.040000</td>\n",
       "    </tr>\n",
       "    <tr>\n",
       "      <th>209</th>\n",
       "      <td>clsbn2cjp00010dld1l5c3pdk</td>\n",
       "      <td>5920.48</td>\n",
       "      <td>7110.000000</td>\n",
       "      <td>-1189.520000</td>\n",
       "    </tr>\n",
       "    <tr>\n",
       "      <th>317</th>\n",
       "      <td>clsbq8w3q00010mjo5ydteyn5</td>\n",
       "      <td>3332.99</td>\n",
       "      <td>3352.272727</td>\n",
       "      <td>-19.282727</td>\n",
       "    </tr>\n",
       "    <tr>\n",
       "      <th>320</th>\n",
       "      <td>clsbq8w3q00010mjo5ydteyn5</td>\n",
       "      <td>3332.99</td>\n",
       "      <td>3352.272727</td>\n",
       "      <td>-19.282727</td>\n",
       "    </tr>\n",
       "    <tr>\n",
       "      <th>323</th>\n",
       "      <td>clsbq8w3q00010mjo5ydteyn5</td>\n",
       "      <td>3332.99</td>\n",
       "      <td>3352.272727</td>\n",
       "      <td>-19.282727</td>\n",
       "    </tr>\n",
       "    <tr>\n",
       "      <th>326</th>\n",
       "      <td>clsbq8w3q00010mjo5ydteyn5</td>\n",
       "      <td>3332.99</td>\n",
       "      <td>3352.272727</td>\n",
       "      <td>-19.282727</td>\n",
       "    </tr>\n",
       "    <tr>\n",
       "      <th>329</th>\n",
       "      <td>clsbq8w3q00010mjo5ydteyn5</td>\n",
       "      <td>3332.99</td>\n",
       "      <td>3352.272727</td>\n",
       "      <td>-19.282727</td>\n",
       "    </tr>\n",
       "    <tr>\n",
       "      <th>332</th>\n",
       "      <td>clsbq8w3q00010mjo5ydteyn5</td>\n",
       "      <td>3332.99</td>\n",
       "      <td>3352.272727</td>\n",
       "      <td>-19.282727</td>\n",
       "    </tr>\n",
       "    <tr>\n",
       "      <th>495</th>\n",
       "      <td>clwqdfqi900010dl24tug27xk</td>\n",
       "      <td>2770.16</td>\n",
       "      <td>6870.000000</td>\n",
       "      <td>-4099.840000</td>\n",
       "    </tr>\n",
       "    <tr>\n",
       "      <th>498</th>\n",
       "      <td>clwqdfqi900010dl24tug27xk</td>\n",
       "      <td>2770.16</td>\n",
       "      <td>6870.000000</td>\n",
       "      <td>-4099.840000</td>\n",
       "    </tr>\n",
       "    <tr>\n",
       "      <th>501</th>\n",
       "      <td>clwqdfqi900010dl24tug27xk</td>\n",
       "      <td>2770.16</td>\n",
       "      <td>6870.000000</td>\n",
       "      <td>-4099.840000</td>\n",
       "    </tr>\n",
       "    <tr>\n",
       "      <th>504</th>\n",
       "      <td>clwqdfqi900010dl24tug27xk</td>\n",
       "      <td>2770.16</td>\n",
       "      <td>6870.000000</td>\n",
       "      <td>-4099.840000</td>\n",
       "    </tr>\n",
       "    <tr>\n",
       "      <th>527</th>\n",
       "      <td>clvdqsd8t00010bjn2nvlbinb</td>\n",
       "      <td>3738.00</td>\n",
       "      <td>7758.000000</td>\n",
       "      <td>-4020.000000</td>\n",
       "    </tr>\n",
       "    <tr>\n",
       "      <th>538</th>\n",
       "      <td>clvdqsd8t00010bjn2nvlbinb</td>\n",
       "      <td>3738.00</td>\n",
       "      <td>7758.000000</td>\n",
       "      <td>-4020.000000</td>\n",
       "    </tr>\n",
       "    <tr>\n",
       "      <th>549</th>\n",
       "      <td>clvdqsd8t00010bjn2nvlbinb</td>\n",
       "      <td>3738.00</td>\n",
       "      <td>7758.000000</td>\n",
       "      <td>-4020.000000</td>\n",
       "    </tr>\n",
       "    <tr>\n",
       "      <th>560</th>\n",
       "      <td>clvdqsd8t00010bjn2nvlbinb</td>\n",
       "      <td>3738.00</td>\n",
       "      <td>7758.000000</td>\n",
       "      <td>-4020.000000</td>\n",
       "    </tr>\n",
       "    <tr>\n",
       "      <th>624</th>\n",
       "      <td>clujrhhx400010djr0hop7jxm</td>\n",
       "      <td>4521.86</td>\n",
       "      <td>6610.100000</td>\n",
       "      <td>-2088.240000</td>\n",
       "    </tr>\n",
       "    <tr>\n",
       "      <th>627</th>\n",
       "      <td>clujrhhx400010djr0hop7jxm</td>\n",
       "      <td>4521.86</td>\n",
       "      <td>6610.100000</td>\n",
       "      <td>-2088.240000</td>\n",
       "    </tr>\n",
       "    <tr>\n",
       "      <th>630</th>\n",
       "      <td>clujrhhx400010djr0hop7jxm</td>\n",
       "      <td>4521.86</td>\n",
       "      <td>6610.100000</td>\n",
       "      <td>-2088.240000</td>\n",
       "    </tr>\n",
       "    <tr>\n",
       "      <th>633</th>\n",
       "      <td>clujrhhx400010djr0hop7jxm</td>\n",
       "      <td>4521.86</td>\n",
       "      <td>6610.100000</td>\n",
       "      <td>-2088.240000</td>\n",
       "    </tr>\n",
       "    <tr>\n",
       "      <th>636</th>\n",
       "      <td>clujrhhx400010djr0hop7jxm</td>\n",
       "      <td>4521.86</td>\n",
       "      <td>6610.100000</td>\n",
       "      <td>-2088.240000</td>\n",
       "    </tr>\n",
       "    <tr>\n",
       "      <th>639</th>\n",
       "      <td>clujrhhx400010djr0hop7jxm</td>\n",
       "      <td>4521.86</td>\n",
       "      <td>6610.100000</td>\n",
       "      <td>-2088.240000</td>\n",
       "    </tr>\n",
       "    <tr>\n",
       "      <th>687</th>\n",
       "      <td>clvmfmto900010dl89rtp2o7r</td>\n",
       "      <td>5454.57</td>\n",
       "      <td>5993.620000</td>\n",
       "      <td>-539.050000</td>\n",
       "    </tr>\n",
       "  </tbody>\n",
       "</table>\n",
       "</div>"
      ],
      "text/plain": [
       "                 membership_id  cycle_liability_post_discount  \\\n",
       "26   cltr095r700010cl6hvxx82bt                        6383.96   \n",
       "32   cltr095r700010cl6hvxx82bt                        6383.96   \n",
       "38   cltr095r700010cl6hvxx82bt                        6383.96   \n",
       "44   cltr095r700010cl6hvxx82bt                        6383.96   \n",
       "209  clsbn2cjp00010dld1l5c3pdk                        5920.48   \n",
       "317  clsbq8w3q00010mjo5ydteyn5                        3332.99   \n",
       "320  clsbq8w3q00010mjo5ydteyn5                        3332.99   \n",
       "323  clsbq8w3q00010mjo5ydteyn5                        3332.99   \n",
       "326  clsbq8w3q00010mjo5ydteyn5                        3332.99   \n",
       "329  clsbq8w3q00010mjo5ydteyn5                        3332.99   \n",
       "332  clsbq8w3q00010mjo5ydteyn5                        3332.99   \n",
       "495  clwqdfqi900010dl24tug27xk                        2770.16   \n",
       "498  clwqdfqi900010dl24tug27xk                        2770.16   \n",
       "501  clwqdfqi900010dl24tug27xk                        2770.16   \n",
       "504  clwqdfqi900010dl24tug27xk                        2770.16   \n",
       "527  clvdqsd8t00010bjn2nvlbinb                        3738.00   \n",
       "538  clvdqsd8t00010bjn2nvlbinb                        3738.00   \n",
       "549  clvdqsd8t00010bjn2nvlbinb                        3738.00   \n",
       "560  clvdqsd8t00010bjn2nvlbinb                        3738.00   \n",
       "624  clujrhhx400010djr0hop7jxm                        4521.86   \n",
       "627  clujrhhx400010djr0hop7jxm                        4521.86   \n",
       "630  clujrhhx400010djr0hop7jxm                        4521.86   \n",
       "633  clujrhhx400010djr0hop7jxm                        4521.86   \n",
       "636  clujrhhx400010djr0hop7jxm                        4521.86   \n",
       "639  clujrhhx400010djr0hop7jxm                        4521.86   \n",
       "687  clvmfmto900010dl89rtp2o7r                        5454.57   \n",
       "\n",
       "     gross_total_amount          pnl  \n",
       "26          6494.000000  -110.040000  \n",
       "32          6494.000000  -110.040000  \n",
       "38          6494.000000  -110.040000  \n",
       "44          6494.000000  -110.040000  \n",
       "209         7110.000000 -1189.520000  \n",
       "317         3352.272727   -19.282727  \n",
       "320         3352.272727   -19.282727  \n",
       "323         3352.272727   -19.282727  \n",
       "326         3352.272727   -19.282727  \n",
       "329         3352.272727   -19.282727  \n",
       "332         3352.272727   -19.282727  \n",
       "495         6870.000000 -4099.840000  \n",
       "498         6870.000000 -4099.840000  \n",
       "501         6870.000000 -4099.840000  \n",
       "504         6870.000000 -4099.840000  \n",
       "527         7758.000000 -4020.000000  \n",
       "538         7758.000000 -4020.000000  \n",
       "549         7758.000000 -4020.000000  \n",
       "560         7758.000000 -4020.000000  \n",
       "624         6610.100000 -2088.240000  \n",
       "627         6610.100000 -2088.240000  \n",
       "630         6610.100000 -2088.240000  \n",
       "633         6610.100000 -2088.240000  \n",
       "636         6610.100000 -2088.240000  \n",
       "639         6610.100000 -2088.240000  \n",
       "687         5993.620000  -539.050000  "
      ]
     },
     "metadata": {},
     "output_type": "display_data"
    },
    {
     "data": {
      "image/png": "[encoded data removed]",
      "text/plain": [
       "<Figure size 576x360 with 1 Axes>"
      ]
     },
     "metadata": {
      "needs_background": "light"
     },
     "output_type": "display_data"
    },
    {
     "data": {
      "image/png": "[encoded data removed]",
      "text/plain": [
       "<Figure size 576x360 with 1 Axes>"
      ]
     },
     "metadata": {
      "needs_background": "light"
     },
     "output_type": "display_data"
    },
    {
     "data": {
      "image/png": "[encoded data removed]",
      "text/plain": [
       "<Figure size 576x360 with 1 Axes>"
      ]
     },
     "metadata": {
      "needs_background": "light"
     },
     "output_type": "display_data"
    },
    {
     "data": {
      "image/png": "[encoded data removed]",
      "text/plain": [
       "<Figure size 576x360 with 1 Axes>"
      ]
     },
     "metadata": {
      "needs_background": "light"
     },
     "output_type": "display_data"
    },
    {
     "data": {
      "image/png": "[encoded data removed]",
      "text/plain": [
       "<Figure size 576x360 with 1 Axes>"
      ]
     },
     "metadata": {
      "needs_background": "light"
     },
     "output_type": "display_data"
    },
    {
     "data": {
      "image/png": "[encoded data removed]",
      "text/plain": [
       "<Figure size 576x360 with 1 Axes>"
      ]
     },
     "metadata": {
      "needs_background": "light"
     },
     "output_type": "display_data"
    },
    {
     "data": {
      "image/png": "[encoded data removed]",
      "text/plain": [
       "<Figure size 576x360 with 1 Axes>"
      ]
     },
     "metadata": {
      "needs_background": "light"
     },
     "output_type": "display_data"
    }
   ],
   "source": [
    "# Calculate the PNL for Gaia considering revenue and cost\n",
    "\n",
    "# Calculate the PNL for Gaia\n",
    "merged_data = merged_data.copy()\n",
    "merged_data['pnl'] = merged_data['cycle_liability_post_discount'] - merged_data['gross_total_amount']\n",
    "\n",
    "# Summary of PNL for each round_current_status\n",
    "pnl_summary = merged_data.groupby('round_current_status')['pnl'].agg(['mean', 'sum', 'min', 'max'])\n",
    "pnl_summary['sum'] = pnl_summary['sum'].apply(lambda x: f\"{x:,.2f}\")\n",
    "\n",
    "print(\"\\nPNL Summary for All Round Current Status:\")\n",
    "display(pnl_summary)\n",
    "\n",
    "# Identify members who made Gaia lose money\n",
    "loss_making_members = merged_data[merged_data['pnl'] < 0]\n",
    "\n",
    "print(\"\\nMembers Who Made Gaia Lose Money:\")\n",
    "display(loss_making_members[['membership_id', 'cycle_liability_post_discount', 'gross_total_amount', 'pnl']])\n",
    "\n",
    "# Bar plots of PNL distribution for each round_current_status\n",
    "import matplotlib.pyplot as plt\n",
    "\n",
    "unique_statuses = merged_data['round_current_status'].unique()\n",
    "for status in unique_statuses:\n",
    "    status_data = merged_data[merged_data['round_current_status'] == status]['pnl']\n",
    "    plt.figure(figsize=(8, 5))\n",
    "    plt.hist(status_data, bins=15, edgecolor='black', alpha=0.7, color='gray')\n",
    "    plt.title(f\"PNL Distribution for {status}\", fontsize=14)\n",
    "    plt.xlabel(\"PNL\", fontsize=12)\n",
    "    plt.ylabel(\"Frequency\", fontsize=12)\n",
    "    plt.grid(axis='y', linestyle='--', alpha=0.7)\n",
    "\n",
    "    # Overlay bar coloring for positive and negative bins\n",
    "    n, bins, patches = plt.hist(status_data, bins=15, edgecolor='black', alpha=0.7)\n",
    "    for i in range(len(patches)):\n",
    "        if bins[i] < 0:\n",
    "            patches[i].set_facecolor('red')\n",
    "        else:\n",
    "            patches[i].set_facecolor('green')\n",
    "    plt.show()\n"
   ]
  },
  {
   "cell_type": "code",
   "execution_count": null,
   "id": "f855137e-818f-49eb-bd6a-3367b435bf08",
   "metadata": {},
   "outputs": [],
   "source": []
  },
  {
   "cell_type": "code",
   "execution_count": null,
   "id": "1127e15c-a89c-4125-928f-84aeb1e605a5",
   "metadata": {},
   "outputs": [],
   "source": []
  }
 ],
 "metadata": {
  "kernelspec": {
   "display_name": "Python 3 (ipykernel)",
   "language": "python",
   "name": "python3"
  },
  "language_info": {
   "codemirror_mode": {
    "name": "ipython",
    "version": 3
   },
   "file_extension": ".py",
   "mimetype": "text/x-python",
   "name": "python",
   "nbconvert_exporter": "python",
   "pygments_lexer": "ipython3",
   "version": "3.9.12"
  }
 },
 "nbformat": 4,
 "nbformat_minor": 5
}
